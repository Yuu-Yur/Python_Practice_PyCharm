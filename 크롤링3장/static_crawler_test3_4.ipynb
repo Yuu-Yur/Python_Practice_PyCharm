{
 "cells": [
  {
   "metadata": {
    "ExecuteTime": {
     "end_time": "2025-02-20T02:20:08.566715Z",
     "start_time": "2025-02-20T02:20:08.562799Z"
    }
   },
   "cell_type": "code",
   "source": [
    "import time\n",
    "import bs4\n",
    "import csv\n",
    "import datetime\n",
    "import urllib"
   ],
   "id": "65e2f5b80cfca062",
   "outputs": [],
   "execution_count": 16
  },
  {
   "metadata": {
    "collapsed": true,
    "ExecuteTime": {
     "end_time": "2025-02-20T02:17:27.678115Z",
     "start_time": "2025-02-20T02:17:27.529686Z"
    }
   },
   "cell_type": "code",
   "source": [
    "# 네이트 날씨로 데이터 골라 크롤링해서 csv 로 저장 연습\n",
    "busan_weather_url = 'https://news.nate.com/weather?areaCode=11H20201'"
   ],
   "id": "initial_id",
   "outputs": [
    {
     "name": "stdout",
     "output_type": "stream",
     "text": [
      "['20250220', '111727', '1℃', '습도25%', '강수량0mm', '풍향 서 2.4 m/s']\n"
     ]
    }
   ],
   "execution_count": 13
  },
  {
   "metadata": {
    "ExecuteTime": {
     "end_time": "2025-02-20T02:22:13.639482Z",
     "start_time": "2025-02-20T02:21:51.150882Z"
    }
   },
   "cell_type": "code",
   "source": [
    "csvName = './busan_weather_20250220.csv'\n",
    "with open(csvName, 'w', newline='', encoding='UTF-8') as csvfile:\n",
    "    csvwriter = csv.writer(csvfile)\n",
    "    csvwriter.writerow(['연월일','시분초','온도','습도','강수량','바람'])\n",
    "    while True:\n",
    "        now = datetime.datetime.now()\n",
    "        yymmdd = now.strftime('%Y%m%d')\n",
    "        hhmmss = now.strftime('%H%M%S')\n",
    "        bsObj = bs4.BeautifulSoup(urllib.request.urlopen(busan_weather_url).read(),'html.parser')\n",
    "        div_tag = bsObj.find('div',{'class':'right_today'})\n",
    "        temper = div_tag.find('p',{'class':'celsius'})\n",
    "        humidity = div_tag.find('p',{'class':'humidity'})\n",
    "        rainfall = div_tag.find('p',{'class':'rainfall'})\n",
    "        wind = div_tag.find('p',{'class':'wind'})\n",
    "        weather_list = [yymmdd, hhmmss, temper.text, humidity.text, rainfall.text, wind.text]\n",
    "        csvwriter.writerow(weather_list)\n",
    "        print(f\"{weather_list} 저장됨\")\n",
    "        time.sleep(1)"
   ],
   "id": "724aa882bf55644b",
   "outputs": [
    {
     "name": "stdout",
     "output_type": "stream",
     "text": [
      "['20250220', '112151', '1℃', '습도25%', '강수량0mm', '풍향 서 2.4 m/s'] 저장됨\n",
      "['20250220', '112152', '1℃', '습도25%', '강수량0mm', '풍향 서 2.4 m/s'] 저장됨\n",
      "['20250220', '112153', '1℃', '습도25%', '강수량0mm', '풍향 서 2.4 m/s'] 저장됨\n",
      "['20250220', '112154', '1℃', '습도25%', '강수량0mm', '풍향 서 2.4 m/s'] 저장됨\n",
      "['20250220', '112155', '1℃', '습도25%', '강수량0mm', '풍향 서 2.4 m/s'] 저장됨\n",
      "['20250220', '112157', '1℃', '습도25%', '강수량0mm', '풍향 서 2.4 m/s'] 저장됨\n",
      "['20250220', '112158', '1℃', '습도25%', '강수량0mm', '풍향 서 2.4 m/s'] 저장됨\n",
      "['20250220', '112159', '1℃', '습도25%', '강수량0mm', '풍향 서 2.4 m/s'] 저장됨\n",
      "['20250220', '112200', '1℃', '습도25%', '강수량0mm', '풍향 서 2.4 m/s'] 저장됨\n",
      "['20250220', '112201', '1℃', '습도25%', '강수량0mm', '풍향 서 2.4 m/s'] 저장됨\n",
      "['20250220', '112202', '1℃', '습도25%', '강수량0mm', '풍향 서 2.4 m/s'] 저장됨\n",
      "['20250220', '112204', '1℃', '습도25%', '강수량0mm', '풍향 서 2.4 m/s'] 저장됨\n",
      "['20250220', '112205', '1℃', '습도25%', '강수량0mm', '풍향 서 2.4 m/s'] 저장됨\n",
      "['20250220', '112206', '1℃', '습도25%', '강수량0mm', '풍향 서 2.4 m/s'] 저장됨\n",
      "['20250220', '112207', '1℃', '습도25%', '강수량0mm', '풍향 서 2.4 m/s'] 저장됨\n",
      "['20250220', '112208', '1℃', '습도25%', '강수량0mm', '풍향 서 2.4 m/s'] 저장됨\n",
      "['20250220', '112210', '1℃', '습도25%', '강수량0mm', '풍향 서 2.4 m/s'] 저장됨\n",
      "['20250220', '112211', '1℃', '습도25%', '강수량0mm', '풍향 서 2.4 m/s'] 저장됨\n",
      "['20250220', '112212', '1℃', '습도25%', '강수량0mm', '풍향 서 2.4 m/s'] 저장됨\n"
     ]
    },
    {
     "ename": "KeyboardInterrupt",
     "evalue": "",
     "output_type": "error",
     "traceback": [
      "\u001B[1;31m---------------------------------------------------------------------------\u001B[0m",
      "\u001B[1;31mKeyboardInterrupt\u001B[0m                         Traceback (most recent call last)",
      "Cell \u001B[1;32mIn[18], line 18\u001B[0m\n\u001B[0;32m     16\u001B[0m csvwriter\u001B[38;5;241m.\u001B[39mwriterow(weather_list)\n\u001B[0;32m     17\u001B[0m \u001B[38;5;28mprint\u001B[39m(\u001B[38;5;124mf\u001B[39m\u001B[38;5;124m\"\u001B[39m\u001B[38;5;132;01m{\u001B[39;00mweather_list\u001B[38;5;132;01m}\u001B[39;00m\u001B[38;5;124m 저장됨\u001B[39m\u001B[38;5;124m\"\u001B[39m)\n\u001B[1;32m---> 18\u001B[0m \u001B[43mtime\u001B[49m\u001B[38;5;241;43m.\u001B[39;49m\u001B[43msleep\u001B[49m\u001B[43m(\u001B[49m\u001B[38;5;241;43m1\u001B[39;49m\u001B[43m)\u001B[49m\n",
      "\u001B[1;31mKeyboardInterrupt\u001B[0m: "
     ]
    }
   ],
   "execution_count": 18
  }
 ],
 "metadata": {
  "kernelspec": {
   "display_name": "Python 3",
   "language": "python",
   "name": "python3"
  },
  "language_info": {
   "codemirror_mode": {
    "name": "ipython",
    "version": 2
   },
   "file_extension": ".py",
   "mimetype": "text/x-python",
   "name": "python",
   "nbconvert_exporter": "python",
   "pygments_lexer": "ipython2",
   "version": "2.7.6"
  }
 },
 "nbformat": 4,
 "nbformat_minor": 5
}
