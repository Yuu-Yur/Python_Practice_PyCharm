{
 "cells": [
  {
   "cell_type": "code",
   "id": "initial_id",
   "metadata": {
    "collapsed": true,
    "ExecuteTime": {
     "end_time": "2025-02-20T01:43:20.393064Z",
     "start_time": "2025-02-20T01:43:20.390336Z"
    }
   },
   "source": [
    "# 3_2 에서 인터넷에서 읽은 데이터를 파일로 저장해야함\n",
    "import csv\n",
    "import datetime"
   ],
   "outputs": [],
   "execution_count": 3
  },
  {
   "metadata": {
    "ExecuteTime": {
     "end_time": "2025-02-20T01:45:14.607971Z",
     "start_time": "2025-02-20T01:45:14.602269Z"
    }
   },
   "cell_type": "code",
   "source": [
    "csvName = './datetime_20250220.csv'\n",
    "with open(csvName, 'w', newline='', encoding='UTF-8') as csvfile:\n",
    "    csvwriter = csv.writer(csvfile)\n",
    "    csvwriter.writerow(['연월일','시분초'])\n",
    "    count = 10\n",
    "    while count > 0:\n",
    "        count -= 1\n",
    "        now = datetime.datetime.now()\n",
    "        yymmdd = now.strftime('%Y%m%d')\n",
    "        hhmmss = now.strftime('%H%M%S')\n",
    "        time_list = [yymmdd, hhmmss]\n",
    "        print(time_list)\n",
    "        csvwriter.writerow(time_list)"
   ],
   "id": "12a47f9566c356cb",
   "outputs": [
    {
     "name": "stdout",
     "output_type": "stream",
     "text": [
      "['20250220', '104514']\n",
      "['20250220', '104514']\n",
      "['20250220', '104514']\n",
      "['20250220', '104514']\n",
      "['20250220', '104514']\n",
      "['20250220', '104514']\n",
      "['20250220', '104514']\n",
      "['20250220', '104514']\n",
      "['20250220', '104514']\n",
      "['20250220', '104514']\n"
     ]
    }
   ],
   "execution_count": 7
  }
 ],
 "metadata": {
  "kernelspec": {
   "display_name": "Python 3",
   "language": "python",
   "name": "python3"
  },
  "language_info": {
   "codemirror_mode": {
    "name": "ipython",
    "version": 2
   },
   "file_extension": ".py",
   "mimetype": "text/x-python",
   "name": "python",
   "nbconvert_exporter": "python",
   "pygments_lexer": "ipython2",
   "version": "2.7.6"
  }
 },
 "nbformat": 4,
 "nbformat_minor": 5
}
