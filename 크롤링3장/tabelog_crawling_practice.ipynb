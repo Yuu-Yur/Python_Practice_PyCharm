{
 "cells": [
  {
   "cell_type": "code",
   "id": "initial_id",
   "metadata": {
    "collapsed": true,
    "ExecuteTime": {
     "end_time": "2025-02-20T07:06:24.436408Z",
     "start_time": "2025-02-20T07:06:24.432992Z"
    }
   },
   "source": [
    "# 타베로그 크롤링\n",
    "import os.path\n",
    "import time\n",
    "import bs4\n",
    "import csv\n",
    "import datetime\n",
    "import urllib\n",
    "import json\n",
    "import pymysql"
   ],
   "outputs": [],
   "execution_count": 37
  },
  {
   "metadata": {
    "ExecuteTime": {
     "end_time": "2025-02-20T07:43:26.436745Z",
     "start_time": "2025-02-20T07:42:50.637412Z"
    }
   },
   "cell_type": "code",
   "source": [
    "page = 1\n",
    "while page <=5:\n",
    "    url = f'https://tabelog.com/tokyo/rstLst/{page}/?Srt=D&SrtT=rt&sort_mode=1&svd=20250220&svt=1900&svps=2'\n",
    "    bs = bs4.BeautifulSoup(urllib.request.urlopen(url).read(), 'html.parser')\n",
    "    shop_list_20 = bs.find_all('div', class_='list-rst__rst-data')\n",
    "    shop_img_src_20 = bs.find_all('div', class_=\"list-rst__photo-item list-rst__photo-item--cover js-cassette-img js-switch-thumbnail-img\")\n",
    "    if page != 1 and os.path.exists(r\"./tabelog_tokyo_rst.json\"):\n",
    "        with open(r\"./tabelog_tokyo_rst.json\",\"r\",encoding=\"utf-8\", newline=\"\") as jf:\n",
    "                try:\n",
    "                    shop_list = json.load(jf)\n",
    "                except json.decoder.JSONDecodeError:\n",
    "                    print('error')\n",
    "                    shop_list = []\n",
    "    else:\n",
    "        shop_list = []\n",
    "    for shop,shop_img_src in zip(shop_list_20,shop_img_src_20):\n",
    "        shop_title = shop.find('a', class_='list-rst__rst-name-target cpy-rst-name js-ranking-num')\n",
    "        shop_describe = shop.find('p', class_='list-rst__pr-title cpy-pr-title')\n",
    "        shop_rating = shop.find('span', class_='c-rating__val c-rating__val--strong list-rst__rating-val')\n",
    "        shop_price = shop.find('span', class_='c-rating-v3__val')\n",
    "        shop_data = {\n",
    "        'title': shop_title.text,\n",
    "        'describe': shop_describe.text.strip() if shop_describe else None,\n",
    "        'rating': shop_rating.text if shop_rating else None,\n",
    "        'price': shop_price.text if shop_price else None,\n",
    "        'image_src': shop_img_src['data-original'] if shop_img_src else None,\n",
    "        }\n",
    "        shop_list.append(shop_data)\n",
    "        with open(r\"./tabelog_tokyo_rst.csv\",\"w\",encoding=\"utf-8\", newline=\"\") as f:\n",
    "            writer = csv.DictWriter(f, fieldnames=[\"title\", \"describe\", \"rating\", \"price\", \"image_src\"])\n",
    "            writer.writeheader()\n",
    "            for one_shop in shop_list:\n",
    "                writer.writerow(one_shop)\n",
    "        with open(r\"./tabelog_tokyo_rst.json\",\"w\",encoding=\"utf-8\", newline=\"\") as jf:\n",
    "            json.dump(shop_list, jf, ensure_ascii=False, indent=4)\n",
    "    print(f\"{page}번째 저장 완료\")\n",
    "    time.sleep(5)\n",
    "    page += 1\n",
    "db = pymysql.connect(host='localhost', user='webuser', passwd='webuser', db='webdb')\n",
    "cursor = db.cursor()\n",
    "tuple_list = [(rtr['title'],rtr['describe'],rtr['rating'],rtr['price'],rtr['image_src']) for rtr in shop_list]\n",
    "query = \"INSERT INTO tabelogRestaurant (shop_name, shop_describe, rating, price,image_src) VALUES (%s, %s, %s, %s, %s)\"\n",
    "try:\n",
    "    cursor.executemany(query, tuple_list)\n",
    "    db.commit()\n",
    "    print(f\"db에 저장 완료\")\n",
    "except Exception as e:\n",
    "    db.rollback()\n",
    "    print(e)\n",
    "cursor.close()\n",
    "db.close()"
   ],
   "id": "6b8d789759deb5cb",
   "outputs": [
    {
     "name": "stdout",
     "output_type": "stream",
     "text": [
      "1번째 저장 완료\n",
      "2번째 저장 완료\n",
      "3번째 저장 완료\n",
      "4번째 저장 완료\n",
      "5번째 저장 완료\n",
      "db에 저장 완료\n"
     ]
    }
   ],
   "execution_count": 51
  }
 ],
 "metadata": {
  "kernelspec": {
   "display_name": "Python 3",
   "language": "python",
   "name": "python3"
  },
  "language_info": {
   "codemirror_mode": {
    "name": "ipython",
    "version": 2
   },
   "file_extension": ".py",
   "mimetype": "text/x-python",
   "name": "python",
   "nbconvert_exporter": "python",
   "pygments_lexer": "ipython2",
   "version": "2.7.6"
  }
 },
 "nbformat": 4,
 "nbformat_minor": 5
}
