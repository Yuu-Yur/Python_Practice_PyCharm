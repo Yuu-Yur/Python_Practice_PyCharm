{
 "cells": [
  {
   "metadata": {
    "ExecuteTime": {
     "end_time": "2025-02-14T00:38:56.009514Z",
     "start_time": "2025-02-14T00:38:56.005805Z"
    }
   },
   "cell_type": "code",
   "source": [
    "print(\"list.split(구분자) 와 string.join(구분자)\")\n",
    "testj = 'a/b/c/d/e/f/g'\n",
    "tests = testj.split('/')\n",
    "print(tests)\n",
    "testj = ','.join(tests)\n",
    "print(testj)"
   ],
   "id": "e9061ec09285d498",
   "outputs": [
    {
     "name": "stdout",
     "output_type": "stream",
     "text": [
      "list.split(구분자) 와 string.join(구분자)\n",
      "['a', 'b', 'c', 'd', 'e', 'f', 'g']\n",
      "a,b,c,d,e,f,g\n"
     ]
    }
   ],
   "execution_count": 32
  },
  {
   "metadata": {
    "ExecuteTime": {
     "end_time": "2025-02-14T00:38:56.039055Z",
     "start_time": "2025-02-14T00:38:56.033456Z"
    }
   },
   "cell_type": "code",
   "source": [
    "print(\"list comprehension 리스트 형으로 새로운 리스트를 만듬, for 과 list 를 한줄에 쓸 수 있음\")\n",
    "d = {64:'a',65:'b',66:'c',67:'d',68:'e',69:'f',70:'g',71:'h'}\n",
    "# 위는 딕셔너리이므로 list comprehension 에는 사용하지 못함\n",
    "# list 로 형변환, 리스트를 반환하는 함수 items,keys,values\n",
    "# list 에서 iterator 을 사용해서 하나씩 가져와서 즉시반환하는것으로 보면 됨 직관적\n",
    "result = [k for k,v in d.items()]\n",
    "print(result)\n",
    "# 중첩 반복\n",
    "result = [print(i * j) for i in d.keys() for j in d.keys()]\n",
    "# 필터링 중첩\n",
    "result = [i * j for i in d.keys() for j in d.keys() if i == j]\n",
    "print('필터링 중첩')\n",
    "print(result)\n",
    "# 람다함수 사용\n",
    "# 람다 (lambda 받은 매개변수: 함수내용)(실제 매개변수)\n",
    "result = [(lambda x,y: x*y)(i,j) for i in d.keys() for j in d.keys() ]\n",
    "print(result)\n",
    "# 중첩 시 리스트를 나누고 싶으면\n",
    "result = [[i*j for i in d.keys()] for j in d.keys()]\n",
    "print(result)\n",
    "# foreach처럼 리스트를 함수에 붙여버릴 수 있다. 결국 위의 것이 말하는 것이 iterator 가능한 객체에서 iterate 하는 것이기 때문\n",
    "# 여기서 print() 에서 매개변수 받는것을 생략한다. 어차피 하나씩 꺼내줄것이고 그것만 받을 함수가 아니면 에러가 나기때문에\n",
    "# map 으로 중첩 iterator 은 추천하지 않음\n",
    "result = list(map(print,d.keys()))\n",
    "print(result)\n"
   ],
   "id": "c8935e2380b36479",
   "outputs": [
    {
     "name": "stdout",
     "output_type": "stream",
     "text": [
      "list comprehension 리스트 형으로 새로운 리스트를 만듬, for 과 list 를 한줄에 쓸 수 있음\n",
      "[64, 65, 66, 67, 68, 69, 70, 71]\n",
      "4096\n",
      "4160\n",
      "4224\n",
      "4288\n",
      "4352\n",
      "4416\n",
      "4480\n",
      "4544\n",
      "4160\n",
      "4225\n",
      "4290\n",
      "4355\n",
      "4420\n",
      "4485\n",
      "4550\n",
      "4615\n",
      "4224\n",
      "4290\n",
      "4356\n",
      "4422\n",
      "4488\n",
      "4554\n",
      "4620\n",
      "4686\n",
      "4288\n",
      "4355\n",
      "4422\n",
      "4489\n",
      "4556\n",
      "4623\n",
      "4690\n",
      "4757\n",
      "4352\n",
      "4420\n",
      "4488\n",
      "4556\n",
      "4624\n",
      "4692\n",
      "4760\n",
      "4828\n",
      "4416\n",
      "4485\n",
      "4554\n",
      "4623\n",
      "4692\n",
      "4761\n",
      "4830\n",
      "4899\n",
      "4480\n",
      "4550\n",
      "4620\n",
      "4690\n",
      "4760\n",
      "4830\n",
      "4900\n",
      "4970\n",
      "4544\n",
      "4615\n",
      "4686\n",
      "4757\n",
      "4828\n",
      "4899\n",
      "4970\n",
      "5041\n",
      "필터링 중첩\n",
      "[4096, 4225, 4356, 4489, 4624, 4761, 4900, 5041]\n",
      "[4096, 4160, 4224, 4288, 4352, 4416, 4480, 4544, 4160, 4225, 4290, 4355, 4420, 4485, 4550, 4615, 4224, 4290, 4356, 4422, 4488, 4554, 4620, 4686, 4288, 4355, 4422, 4489, 4556, 4623, 4690, 4757, 4352, 4420, 4488, 4556, 4624, 4692, 4760, 4828, 4416, 4485, 4554, 4623, 4692, 4761, 4830, 4899, 4480, 4550, 4620, 4690, 4760, 4830, 4900, 4970, 4544, 4615, 4686, 4757, 4828, 4899, 4970, 5041]\n",
      "[[4096, 4160, 4224, 4288, 4352, 4416, 4480, 4544], [4160, 4225, 4290, 4355, 4420, 4485, 4550, 4615], [4224, 4290, 4356, 4422, 4488, 4554, 4620, 4686], [4288, 4355, 4422, 4489, 4556, 4623, 4690, 4757], [4352, 4420, 4488, 4556, 4624, 4692, 4760, 4828], [4416, 4485, 4554, 4623, 4692, 4761, 4830, 4899], [4480, 4550, 4620, 4690, 4760, 4830, 4900, 4970], [4544, 4615, 4686, 4757, 4828, 4899, 4970, 5041]]\n",
      "64\n",
      "65\n",
      "66\n",
      "67\n",
      "68\n",
      "69\n",
      "70\n",
      "71\n",
      "[None, None, None, None, None, None, None, None]\n"
     ]
    }
   ],
   "execution_count": 33
  },
  {
   "metadata": {
    "ExecuteTime": {
     "end_time": "2025-02-14T00:38:56.062016Z",
     "start_time": "2025-02-14T00:38:56.057116Z"
    }
   },
   "cell_type": "code",
   "source": [
    "# enumerate()\n",
    "# 리스트 값을 iterator 하는데 가장 앞에 index 가 붙어 나옴\n",
    "# 주로 list 를 dictionary 로 변환하는데 사용\n",
    "result = {i:k for i,k in enumerate(d.items())}\n",
    "print(result)\n",
    "\n",
    "# dict 변환법 값의 리스트 하나만 있을땐 위의 enumerate()\n",
    "# key value 형태의 리스트 두개가 있다면 zip()으로 튜플형태로 변환 후 dict()로 변환\n",
    "# key,value 형태의 튜플 리스트가 있다면 바로 dict()\n",
    "l1 = [1,2,3,4,5]\n",
    "l2 = ['하나','둘','셋','넷','다섯']\n",
    "t= [(1,'하나'),(2,'둘'),(3,'셋'),(4,'넷'),(5,'다섯')]\n",
    "l_to_d=dict(zip(l1,l2))\n",
    "print(l_to_d)\n",
    "t_to_d=dict(t)\n",
    "print(t_to_d)\n",
    "#물론 리스트 2개일 때 comprehension 사용 가능 tuple 에서 변환은 그냥 dict(tuple)이 쉽고 빠름\n",
    "l_to_d={k:v for k,v in zip(l1,l2)}\n",
    "print(l_to_d)"
   ],
   "id": "a1bd82fd7cdaf07",
   "outputs": [
    {
     "name": "stdout",
     "output_type": "stream",
     "text": [
      "{0: (64, 'a'), 1: (65, 'b'), 2: (66, 'c'), 3: (67, 'd'), 4: (68, 'e'), 5: (69, 'f'), 6: (70, 'g'), 7: (71, 'h')}\n",
      "{1: '하나', 2: '둘', 3: '셋', 4: '넷', 5: '다섯'}\n",
      "{1: '하나', 2: '둘', 3: '셋', 4: '넷', 5: '다섯'}\n",
      "{1: '하나', 2: '둘', 3: '셋', 4: '넷', 5: '다섯'}\n"
     ]
    }
   ],
   "execution_count": 34
  },
  {
   "metadata": {
    "ExecuteTime": {
     "end_time": "2025-02-14T00:38:56.086926Z",
     "start_time": "2025-02-14T00:38:56.084363Z"
    }
   },
   "cell_type": "code",
   "source": [
    "# 가변인수, 키워드 가변인수\n",
    "# *,**\n",
    "# tuple, dictionary 로 받음\n",
    "# 함수에 넣어줄 때 *tuple, *list *string *dictionary 등등 을 넣으면 전부 언패킹되어 들어간다.\n",
    "# 가장 간단한 iterator 출력이라고 볼 수 있다."
   ],
   "id": "29fbf0350e4a3384",
   "outputs": [],
   "execution_count": 35
  },
  {
   "metadata": {
    "ExecuteTime": {
     "end_time": "2025-02-14T00:38:56.122317Z",
     "start_time": "2025-02-14T00:38:56.119126Z"
    }
   },
   "cell_type": "code",
   "source": [
    "# 문제1 list comprehension 을 이용한 제곱 리스트\n",
    "c_list = [x*x for x in range(1,11)]\n",
    "print(c_list)"
   ],
   "id": "66937b26ed2d69cc",
   "outputs": [
    {
     "name": "stdout",
     "output_type": "stream",
     "text": [
      "[1, 4, 9, 16, 25, 36, 49, 64, 81, 100]\n"
     ]
    }
   ],
   "execution_count": 36
  },
  {
   "metadata": {
    "ExecuteTime": {
     "end_time": "2025-02-14T00:38:56.161179Z",
     "start_time": "2025-02-14T00:38:56.158067Z"
    }
   },
   "cell_type": "code",
   "source": [
    "# 문제2 enumerate()를 활용한 인덱스와 값 출력\n",
    "fruits = [\"사과\", \"바나나\", \"체리\"]\n",
    "enum_list = {i:v for i,v in enumerate(fruits)}\n",
    "print(enum_list)"
   ],
   "id": "538e5f2a21f09558",
   "outputs": [
    {
     "name": "stdout",
     "output_type": "stream",
     "text": [
      "{0: '사과', 1: '바나나', 2: '체리'}\n"
     ]
    }
   ],
   "execution_count": 37
  },
  {
   "metadata": {
    "ExecuteTime": {
     "end_time": "2025-02-14T00:38:56.197354Z",
     "start_time": "2025-02-14T00:38:56.193071Z"
    }
   },
   "cell_type": "code",
   "source": [
    "# 문제3 zip()을 활용한 두 리스트 묶기\n",
    "names = [\"철수\", \"영희\", \"민수\"]\n",
    "scores = [85, 90, 78]\n",
    "combined = dict(zip(names, scores))\n",
    "print(combined)"
   ],
   "id": "56c451695c523a63",
   "outputs": [
    {
     "name": "stdout",
     "output_type": "stream",
     "text": [
      "{'철수': 85, '영희': 90, '민수': 78}\n"
     ]
    }
   ],
   "execution_count": 38
  },
  {
   "metadata": {
    "ExecuteTime": {
     "end_time": "2025-02-14T00:38:56.323208Z",
     "start_time": "2025-02-14T00:38:56.314265Z"
    }
   },
   "cell_type": "code",
   "source": [
    "# 문제 4 람다함수와 map()을 이용한 리스트 변환\n",
    "numbers = [1, 2, 3, 4, 5]\n",
    "result = list(map(lambda x: x ** 3, numbers ))\n",
    "print(result)"
   ],
   "id": "8b9cce5655aa49b8",
   "outputs": [
    {
     "name": "stdout",
     "output_type": "stream",
     "text": [
      "[1, 8, 27, 64, 125]\n"
     ]
    }
   ],
   "execution_count": 39
  },
  {
   "metadata": {
    "ExecuteTime": {
     "end_time": "2025-02-14T00:43:17.136070Z",
     "start_time": "2025-02-14T00:43:17.130280Z"
    }
   },
   "cell_type": "code",
   "source": [
    "# 문제 5 가변인수를 활용한 숫자 합산 함수\n",
    "def sum_a(*args):\n",
    "    return sum(args)\n",
    "print(sum_a(1,2,3,4,5))"
   ],
   "id": "b49e426e9859df1e",
   "outputs": [
    {
     "name": "stdout",
     "output_type": "stream",
     "text": [
      "15\n"
     ]
    }
   ],
   "execution_count": 42
  },
  {
   "metadata": {
    "ExecuteTime": {
     "end_time": "2025-02-14T00:45:59.370101Z",
     "start_time": "2025-02-14T00:45:59.366237Z"
    }
   },
   "cell_type": "code",
   "source": [
    "# 문제 6 키워드 가변인수를 활용한 사용자 정보 출력\n",
    "def print_info(**kwargs):\n",
    "    print(kwargs)\n",
    "print_info(이름='하청빈' , 나이=32, 사는곳='부산')"
   ],
   "id": "5e69eba79b8ead0d",
   "outputs": [
    {
     "name": "stdout",
     "output_type": "stream",
     "text": [
      "{'이름': '하청빈', '나이': 32, '사는곳': '부산'}\n"
     ]
    }
   ],
   "execution_count": 45
  },
  {
   "metadata": {
    "ExecuteTime": {
     "end_time": "2025-02-14T00:50:41.039774Z",
     "start_time": "2025-02-14T00:50:41.034720Z"
    }
   },
   "cell_type": "code",
   "source": [
    "# 문제 7 별표 언패킹 기능을 활용한 리스트 합치기\n",
    "list_a = [1,2,3,4,5]\n",
    "list_b = [6,7,8,9,10]\n",
    "def combine_list(a,b):\n",
    "    combined_list = [*a,*b]\n",
    "    return combined_list\n",
    "print(combine_list(list_a,list_b))"
   ],
   "id": "4e5ffc0f2c28c08",
   "outputs": [
    {
     "name": "stdout",
     "output_type": "stream",
     "text": [
      "[1, 2, 3, 4, 5, 6, 7, 8, 9, 10]\n"
     ]
    }
   ],
   "execution_count": 46
  }
 ],
 "metadata": {
  "kernelspec": {
   "display_name": "Python 3",
   "language": "python",
   "name": "python3"
  },
  "language_info": {
   "codemirror_mode": {
    "name": "ipython",
    "version": 2
   },
   "file_extension": ".py",
   "mimetype": "text/x-python",
   "name": "python",
   "nbconvert_exporter": "python",
   "pygments_lexer": "ipython2",
   "version": "2.7.6"
  }
 },
 "nbformat": 4,
 "nbformat_minor": 5
}
