{
 "cells": [
  {
   "cell_type": "code",
   "id": "initial_id",
   "metadata": {
    "collapsed": true,
    "ExecuteTime": {
     "end_time": "2025-02-12T03:49:48.400830Z",
     "start_time": "2025-02-12T03:49:48.396894Z"
    }
   },
   "source": [
    "print(\"hellow python jupiter notebook\")\n",
    "print(\"first time jupiter server will load automatically\")"
   ],
   "outputs": [
    {
     "name": "stdout",
     "output_type": "stream",
     "text": [
      "hellow python jupiter notebook\n",
      "first time jupiter server will load automatically\n"
     ]
    }
   ],
   "execution_count": 52
  },
  {
   "metadata": {
    "ExecuteTime": {
     "end_time": "2025-02-12T03:49:48.424543Z",
     "start_time": "2025-02-12T03:49:48.421503Z"
    }
   },
   "cell_type": "code",
   "source": "print('int, float, string, boolean 의 네가지, 다 같은데 boolean 이 True, False')",
   "id": "947d170751631959",
   "outputs": [
    {
     "name": "stdout",
     "output_type": "stream",
     "text": [
      "int, float, string, boolean 의 네가지, 다 같은데 boolean 이 True, False\n"
     ]
    }
   ],
   "execution_count": 53
  },
  {
   "metadata": {
    "ExecuteTime": {
     "end_time": "2025-02-12T03:49:48.440244Z",
     "start_time": "2025-02-12T03:49:48.437415Z"
    }
   },
   "cell_type": "code",
   "source": "print('파이썬은 전부 객체')",
   "id": "3da014880bc2afe4",
   "outputs": [
    {
     "name": "stdout",
     "output_type": "stream",
     "text": [
      "파이썬은 전부 객체\n"
     ]
    }
   ],
   "execution_count": 54
  },
  {
   "metadata": {
    "ExecuteTime": {
     "end_time": "2025-02-12T03:49:48.464709Z",
     "start_time": "2025-02-12T03:49:48.461896Z"
    }
   },
   "cell_type": "code",
   "source": [
    "print(1==True)\n",
    "print(\"\"==False)"
   ],
   "id": "20255f164ceccfca",
   "outputs": [
    {
     "name": "stdout",
     "output_type": "stream",
     "text": [
      "True\n",
      "False\n"
     ]
    }
   ],
   "execution_count": 55
  },
  {
   "metadata": {
    "ExecuteTime": {
     "end_time": "2025-02-12T03:49:48.502391Z",
     "start_time": "2025-02-12T03:49:48.499443Z"
    }
   },
   "cell_type": "code",
   "source": "print('자료형 확인 type()')",
   "id": "879c5fa776282b85",
   "outputs": [
    {
     "name": "stdout",
     "output_type": "stream",
     "text": [
      "자료형 확인 type()\n"
     ]
    }
   ],
   "execution_count": 56
  },
  {
   "metadata": {
    "ExecuteTime": {
     "end_time": "2025-02-12T03:49:54.404268Z",
     "start_time": "2025-02-12T03:49:48.521513Z"
    }
   },
   "cell_type": "code",
   "source": [
    "print(\"print() 출력\")\n",
    "menu = input(\"점심 메뉴는?\")\n",
    "print(\"input() 입력 함수\",menu)"
   ],
   "id": "ba11a7eb4a5a7ca8",
   "outputs": [
    {
     "name": "stdout",
     "output_type": "stream",
     "text": [
      "print() 출력\n",
      "input() 입력 함수 배\n"
     ]
    }
   ],
   "execution_count": 57
  },
  {
   "metadata": {
    "ExecuteTime": {
     "end_time": "2025-02-12T03:49:54.447046Z",
     "start_time": "2025-02-12T03:49:54.442725Z"
    }
   },
   "cell_type": "code",
   "source": [
    "print(\"python 의 리스트는 여러 자료형을 저장 가능, 그 외엔 배열과 같음\")\n",
    "pythonList = ['일',1,True,2,3,4,5,6,7,8,9,10]\n",
    "print(pythonList)\n",
    "print(\"슬라이싱, 시작부터 끝까지 꺼내기 증가값을 포함하면 하나를 출력하고 건너뛰고 다시 출력, [시작:끝:증가값]\")\n",
    "print(\"정확히는 출력하기전에 다음 위치를 미리 정하는것 그래서 기본값 1\")\n",
    "print(\"증가값이 -1 이면 거꾸로 출력\")\n",
    "print(pythonList[0:10:3])\n",
    "print(pythonList[::-1])"
   ],
   "id": "d8b9244cb7aad373",
   "outputs": [
    {
     "name": "stdout",
     "output_type": "stream",
     "text": [
      "python 의 리스트는 여러 자료형을 저장 가능, 그 외엔 배열과 같음\n",
      "['일', 1, True, 2, 3, 4, 5, 6, 7, 8, 9, 10]\n",
      "슬라이싱, 시작부터 끝까지 꺼내기 증가값을 포함하면 하나를 출력하고 건너뛰고 다시 출력, [시작:끝:증가값]\n",
      "정확히는 출력하기전에 다음 위치를 미리 정하는것 그래서 기본값 1\n",
      "증가값이 -1 이면 거꾸로 출력\n",
      "['일', 2, 5, 8]\n",
      "[10, 9, 8, 7, 6, 5, 4, 3, 2, True, 1, '일']\n"
     ]
    }
   ],
   "execution_count": 58
  },
  {
   "metadata": {
    "ExecuteTime": {
     "end_time": "2025-02-12T03:49:54.494025Z",
     "start_time": "2025-02-12T03:49:54.491073Z"
    }
   },
   "cell_type": "code",
   "source": [
    "lunch = \"닭칼국수\"\n",
    "print(f\"print 안에 f를 먼저쓰고 문자열 사용, 그리고 EL표기법으로 변수 사용 {lunch}\")"
   ],
   "id": "b2c0683df95ea7a2",
   "outputs": [
    {
     "name": "stdout",
     "output_type": "stream",
     "text": [
      "print 안에 f를 먼저쓰고 문자열 사용, 그리고 EL표기법으로 변수 사용 닭칼국수\n"
     ]
    }
   ],
   "execution_count": 59
  },
  {
   "metadata": {
    "ExecuteTime": {
     "end_time": "2025-02-12T03:49:54.533050Z",
     "start_time": "2025-02-12T03:49:54.529894Z"
    }
   },
   "cell_type": "code",
   "source": "print(\"append 새로운 변수를 뒤에 추가, extend 리스트 자체를 뒤에 추가, insert(인덱스,값) 인덱스 위치에 값을 추가, remove 값을 제거\")",
   "id": "ee8045507119b9f",
   "outputs": [
    {
     "name": "stdout",
     "output_type": "stream",
     "text": [
      "append 새로운 변수를 뒤에 추가, extend 리스트 자체를 뒤에 추가, insert(인덱스,값) 인덱스 위치에 값을 추가, remove 값을 제거\n"
     ]
    }
   ],
   "execution_count": 60
  },
  {
   "metadata": {
    "ExecuteTime": {
     "end_time": "2025-02-12T03:49:54.566836Z",
     "start_time": "2025-02-12T03:49:54.562754Z"
    }
   },
   "cell_type": "code",
   "source": [
    "print(\"구조파괴 할당\")\n",
    "test = [1,2,3]\n",
    "print(\"test = [1,2,3]\")\n",
    "print(test)\n",
    "a,b,c = test\n",
    "print(\"a,b,c = test\")\n",
    "print(a,b,c)"
   ],
   "id": "afae71eceaf9621b",
   "outputs": [
    {
     "name": "stdout",
     "output_type": "stream",
     "text": [
      "구조파괴 할당\n",
      "test = [1,2,3]\n",
      "[1, 2, 3]\n",
      "a,b,c = test\n",
      "1 2 3\n"
     ]
    }
   ],
   "execution_count": 61
  },
  {
   "metadata": {
    "ExecuteTime": {
     "end_time": "2025-02-12T03:49:54.593658Z",
     "start_time": "2025-02-12T03:49:54.590389Z"
    }
   },
   "cell_type": "code",
   "source": [
    "if a < b:\n",
    "    print(True)\n",
    "else:\n",
    "    print(False)"
   ],
   "id": "8b4cf90afb12f541",
   "outputs": [
    {
     "name": "stdout",
     "output_type": "stream",
     "text": [
      "True\n"
     ]
    }
   ],
   "execution_count": 62
  },
  {
   "metadata": {
    "ExecuteTime": {
     "end_time": "2025-02-12T03:49:54.619139Z",
     "start_time": "2025-02-12T03:49:54.614319Z"
    }
   },
   "cell_type": "code",
   "source": [
    "obj1 = [1,2,3]\n",
    "obj2 = [1,2,3]\n",
    "if obj1 is obj2:\n",
    "    print(True)\n",
    "else:\n",
    "    print(False)\n",
    "if obj1 == obj2:\n",
    "    print(True)\n",
    "else:\n",
    "    print(False)\n",
    "print(\"is 비교는 메모리 주소를 비교\")"
   ],
   "id": "cf8b3b760bcb38bf",
   "outputs": [
    {
     "name": "stdout",
     "output_type": "stream",
     "text": [
      "False\n",
      "True\n",
      "is 비교는 메모리 주소를 비교\n"
     ]
    }
   ],
   "execution_count": 63
  },
  {
   "metadata": {
    "ExecuteTime": {
     "end_time": "2025-02-12T03:49:54.746680Z",
     "start_time": "2025-02-12T03:49:54.740823Z"
    }
   },
   "cell_type": "code",
   "source": [
    "for i in range(1,5):\n",
    "    print(f\"for 변수 in range(시작번호,끝번호,증가값){i}\")"
   ],
   "id": "8650c5ce1f3b3066",
   "outputs": [
    {
     "name": "stdout",
     "output_type": "stream",
     "text": [
      "for 변수 in range(시작번호,끝번호,증가값)1\n",
      "for 변수 in range(시작번호,끝번호,증가값)2\n",
      "for 변수 in range(시작번호,끝번호,증가값)3\n",
      "for 변수 in range(시작번호,끝번호,증가값)4\n"
     ]
    }
   ],
   "execution_count": 64
  }
 ],
 "metadata": {
  "kernelspec": {
   "display_name": "Python 3",
   "language": "python",
   "name": "python3"
  },
  "language_info": {
   "codemirror_mode": {
    "name": "ipython",
    "version": 2
   },
   "file_extension": ".py",
   "mimetype": "text/x-python",
   "name": "python",
   "nbconvert_exporter": "python",
   "pygments_lexer": "ipython2",
   "version": "2.7.6"
  }
 },
 "nbformat": 4,
 "nbformat_minor": 5
}
