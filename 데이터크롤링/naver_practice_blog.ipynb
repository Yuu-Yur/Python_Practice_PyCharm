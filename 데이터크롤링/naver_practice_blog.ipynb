{
 "cells": [
  {
   "cell_type": "code",
   "id": "initial_id",
   "metadata": {
    "collapsed": true,
    "ExecuteTime": {
     "end_time": "2025-02-19T03:10:17.254967Z",
     "start_time": "2025-02-19T03:10:17.251115Z"
    }
   },
   "source": [
    "import os\n",
    "import sys\n",
    "import urllib.request\n",
    "import datetime\n",
    "import time\n",
    "import json\n",
    "client_id=\n",
    "client_secret=\n"
   ],
   "outputs": [],
   "execution_count": 12
  },
  {
   "metadata": {
    "ExecuteTime": {
     "end_time": "2025-02-19T03:10:17.264283Z",
     "start_time": "2025-02-19T03:10:17.259078Z"
    }
   },
   "cell_type": "code",
   "source": [
    "#[CODE 1]\n",
    "# url 을 받으면\n",
    "def getRequestUrl(url):\n",
    "    # 인증 코드들을 url 에 더해 request 를 만듬\n",
    "    req = urllib.request.Request(url)\n",
    "    req.add_header(\"X-Naver-Client-Id\", client_id)\n",
    "    req.add_header(\"X-Naver-Client-Secret\", client_secret)\n",
    "    try:\n",
    "        # 그 request 를 진행\n",
    "        response = urllib.request.urlopen(req)\n",
    "        # ok 응답이 오면\n",
    "        if response.getcode() == 200:\n",
    "            print(\"[%s] Url Request Success\" % datetime.datetime.now())\n",
    "            # 응답을 utf-8로 읽어서 반환\n",
    "            return response.read().decode('utf-8')\n",
    "    # 에러 발생시 에러 출력\n",
    "    except Exception as e:\n",
    "        print(e)\n",
    "        print(\"[%s] Error for URL : %s\" % (datetime.datetime.now(), url))\n",
    "        return None"
   ],
   "id": "e6e49750707655ed",
   "outputs": [],
   "execution_count": 13
  },
  {
   "metadata": {
    "ExecuteTime": {
     "end_time": "2025-02-19T03:10:17.274324Z",
     "start_time": "2025-02-19T03:10:17.271298Z"
    }
   },
   "cell_type": "code",
   "source": [
    " #[CODE 2]\n",
    "\n",
    "def getNaverSearch(node, srcText, start, display):\n",
    "    # node 와 base를 결합해 naver api 주소 만듬, node 는 blog, news 등등\n",
    "    base = \"https://openapi.naver.com/v1/search\"\n",
    "    node = \"/%s.json\" % node\n",
    "    # queryString 만들기 검색어는 urllib.parse.quote(텍스트(입력받은 String))) 나머지는 api 가 원하는 요구사항\n",
    "    parameters = \"?query=%s&start=%s&display=%s\" %(urllib.parse.quote(srcText), start, display)\n",
    "    # 합쳐서 url 만들기\n",
    "    url = base + node + parameters\n",
    "    # 이 url 을 호출 그리고 반환을 보고 없으면 넘김, 있으면 json 형태니까(api 호출로 받아온, 지정하면 xml) Python 객체로 반환\n",
    "    responseDecode = getRequestUrl(url) #[CODE 1]\n",
    "    if (responseDecode == None):\n",
    "        return None\n",
    "    else:\n",
    "        return json.loads(responseDecode)"
   ],
   "id": "47431b6aee13d779",
   "outputs": [],
   "execution_count": 14
  },
  {
   "metadata": {
    "ExecuteTime": {
     "end_time": "2025-02-19T03:10:17.283953Z",
     "start_time": "2025-02-19T03:10:17.280376Z"
    }
   },
   "cell_type": "code",
   "source": [
    "#[CODE 3]\n",
    "def getPostData(post, jsonResult, cnt):\n",
    "    # post(item) 에서 데이터 추출할당\n",
    "    title = post['title']\n",
    "    description = post['description']\n",
    "    link = post['link']\n",
    "    # 시간 데이터를 python 에 맞게 변환\n",
    "    pDate = datetime.datetime.strptime(post['postdate'], '%Y%m%d')\n",
    "    pDate = pDate.strftime('%Y-%m-%d')\n",
    "    # 결과에 더함\n",
    "    jsonResult.append({'cnt':cnt, 'title':title, 'description': description, 'link': link, 'pDate':pDate})\n",
    "    return"
   ],
   "id": "5deaa2cfb533d07e",
   "outputs": [],
   "execution_count": 15
  },
  {
   "metadata": {
    "ExecuteTime": {
     "end_time": "2025-02-19T03:10:23.281383Z",
     "start_time": "2025-02-19T03:10:17.291437Z"
    }
   },
   "cell_type": "code",
   "source": [
    "#[CODE 0]\n",
    "def main():\n",
    "    # 함수에 넣을 변수 정의\n",
    "    node = 'blog' #크롤링할 대상\n",
    "    srcText = input('검색어를 입력하세요: ')\n",
    "    cnt = 0\n",
    "    jsonResult = []\n",
    "    # 바로 api 호출, 그리고 총 개수 할당\n",
    "    jsonResponse = getNaverSearch(node, srcText, 1, 100) #[CODE 2] 여기서 반환받는값은 json 이 아니라 python 객체\n",
    "    total = jsonResponse['total'] # 그래서 슬라이싱을 쓸 수 있음\n",
    "    # 호출의 결과가 존재하는 동안\n",
    "    while ((jsonResponse != None) and (jsonResponse['display'] != 0)):\n",
    "        # 결과 데이터를 각각 jsonResult 에 더함\n",
    "        for post in jsonResponse['items']:\n",
    "            cnt += 1\n",
    "            getPostData(post, jsonResult, cnt) #[CODE 3]\n",
    "        # start~display 값은 불러왔으니 다음, start+display 부터 display 만큼 데이터 불러옴 이것을 호출의 결과가 존재하는 동안, 즉 끝까지 반복\n",
    "        if(cnt == 1000):\n",
    "            break\n",
    "        start = jsonResponse['start'] + jsonResponse['display']\n",
    "        jsonResponse = getNaverSearch(node, srcText, start, 100) #[CODE 2]\n",
    "    print('전체 검색 : %d 건' %total)\n",
    "\n",
    "    # 결과를 json 파일로 저장\n",
    "    with open('%s_naver_%s.json' % (srcText, node), 'w', encoding='utf8') as outfile:\n",
    "        jsonFile = json.dumps(jsonResult, indent = 4, sort_keys = True, ensure_ascii = False)\n",
    "        outfile.write(jsonFile)\n",
    "    print(\"가져온 데이터 : %d 건\" %(cnt))\n",
    "    print('%s_naver_%s.json SAVED' % (srcText, node))\n",
    "\n",
    "if __name__ == '__main__':\n",
    "    main()"
   ],
   "id": "ed76154baa397eed",
   "outputs": [
    {
     "name": "stdout",
     "output_type": "stream",
     "text": [
      "[2025-02-19 12:10:20.320064] Url Request Success\n",
      "[2025-02-19 12:10:20.622659] Url Request Success\n",
      "[2025-02-19 12:10:20.921490] Url Request Success\n",
      "[2025-02-19 12:10:21.227465] Url Request Success\n",
      "[2025-02-19 12:10:21.581971] Url Request Success\n",
      "[2025-02-19 12:10:21.916839] Url Request Success\n",
      "[2025-02-19 12:10:22.229538] Url Request Success\n",
      "[2025-02-19 12:10:22.559539] Url Request Success\n",
      "[2025-02-19 12:10:22.894376] Url Request Success\n",
      "[2025-02-19 12:10:23.239154] Url Request Success\n",
      "전체 검색 : 7860086 건\n",
      "가져온 데이터 : 1000 건\n",
      "신상_naver_blog.json SAVED\n"
     ]
    }
   ],
   "execution_count": 16
  }
 ],
 "metadata": {
  "kernelspec": {
   "display_name": "Python 3",
   "language": "python",
   "name": "python3"
  },
  "language_info": {
   "codemirror_mode": {
    "name": "ipython",
    "version": 2
   },
   "file_extension": ".py",
   "mimetype": "text/x-python",
   "name": "python",
   "nbconvert_exporter": "python",
   "pygments_lexer": "ipython2",
   "version": "2.7.6"
  }
 },
 "nbformat": 4,
 "nbformat_minor": 5
}
