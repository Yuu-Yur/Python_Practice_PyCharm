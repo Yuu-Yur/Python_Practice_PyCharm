{
 "cells": [
  {
   "cell_type": "code",
   "id": "initial_id",
   "metadata": {
    "collapsed": true,
    "ExecuteTime": {
     "end_time": "2025-02-19T02:27:46.946685Z",
     "start_time": "2025-02-19T02:27:46.943391Z"
    }
   },
   "source": [
    "import os\n",
    "import sys\n",
    "import urllib.request\n",
    "import datetime\n",
    "import time\n",
    "import json\n",
    "client_id=\n",
    "client_secret=\n"
   ],
   "outputs": [],
   "execution_count": 27
  },
  {
   "metadata": {
    "ExecuteTime": {
     "end_time": "2025-02-19T02:27:46.957415Z",
     "start_time": "2025-02-19T02:27:46.953199Z"
    }
   },
   "cell_type": "code",
   "source": [
    "#[CODE 1]\n",
    "# url 을 받으면\n",
    "def getRequestUrl(url):\n",
    "    # 인증 코드들을 url 에 더해 request 를 만듬\n",
    "    req = urllib.request.Request(url)\n",
    "    req.add_header(\"X-Naver-Client-Id\", client_id)\n",
    "    req.add_header(\"X-Naver-Client-Secret\", client_secret)\n",
    "    try:\n",
    "        # 그 request 를 진행\n",
    "        response = urllib.request.urlopen(req)\n",
    "        # ok 응답이 오면\n",
    "        if response.getcode() == 200:\n",
    "            print(\"[%s] Url Request Success\" % datetime.datetime.now())\n",
    "            # 응답을 utf-8로 읽어서 반환\n",
    "            return response.read().decode('utf-8')\n",
    "    # 에러 발생시 에러 출력\n",
    "    except Exception as e:\n",
    "        print(e)\n",
    "        print(\"[%s] Error for URL : %s\" % (datetime.datetime.now(), url))\n",
    "        return None"
   ],
   "id": "e6e49750707655ed",
   "outputs": [],
   "execution_count": 28
  },
  {
   "metadata": {
    "ExecuteTime": {
     "end_time": "2025-02-19T02:27:46.977511Z",
     "start_time": "2025-02-19T02:27:46.972959Z"
    }
   },
   "cell_type": "code",
   "source": [
    " #[CODE 2]\n",
    "\n",
    "def getNaverSearch(node, srcText, start, display):\n",
    "    # node 와 base를 결합해 naver api 주소 만듬, node 는 blog, news 등등\n",
    "    base = \"https://openapi.naver.com/v1/search\"\n",
    "    node = \"/%s.json\" % node\n",
    "    # queryString 만들기 검색어는 urllib.parse.quote(텍스트(입력받은 String))) 나머지는 api 가 원하는 요구사항\n",
    "    parameters = \"?query=%s&start=%s&display=%s\" %(urllib.parse.quote(srcText), start, display)\n",
    "    # 합쳐서 url 만들기\n",
    "    url = base + node + parameters\n",
    "    # 이 url 을 호출 그리고 반환을 보고 없으면 넘김, 있으면 json 형태니까(api 호출로 받아온, 지정하면 xml) Python 객체로 반환\n",
    "    responseDecode = getRequestUrl(url) #[CODE 1]\n",
    "    if (responseDecode == None):\n",
    "        return None\n",
    "    else:\n",
    "        return json.loads(responseDecode)"
   ],
   "id": "47431b6aee13d779",
   "outputs": [],
   "execution_count": 29
  },
  {
   "metadata": {
    "ExecuteTime": {
     "end_time": "2025-02-19T02:27:46.990664Z",
     "start_time": "2025-02-19T02:27:46.987484Z"
    }
   },
   "cell_type": "code",
   "source": [
    "#[CODE 3]\n",
    "def getPostData(post, jsonResult, cnt):\n",
    "    # post(item) 에서 데이터 추출할당\n",
    "    title = post['title']\n",
    "    description = post['description']\n",
    "    org_link = post['originallink']\n",
    "    link = post['link']\n",
    "    # 시간 데이터를 python 에 맞게 변환\n",
    "    pDate = datetime.datetime.strptime(post['pubDate'], '%a, %d %b %Y %H:%M:%S +0900')\n",
    "    pDate = pDate.strftime('%Y-%m-%d %H:%M:%S')\n",
    "    # 결과에 더함\n",
    "    jsonResult.append({'cnt':cnt, 'title':title, 'description': description,'org_link':org_link, 'link': org_link, 'pDate':pDate})\n",
    "    return"
   ],
   "id": "5deaa2cfb533d07e",
   "outputs": [],
   "execution_count": 30
  },
  {
   "metadata": {
    "ExecuteTime": {
     "end_time": "2025-02-19T03:02:26.759502Z",
     "start_time": "2025-02-19T03:02:03.561815Z"
    }
   },
   "cell_type": "code",
   "source": [
    "#[CODE 0]\n",
    "def main():\n",
    "    # 함수에 넣을 변수 정의\n",
    "    node = 'news' #크롤링할 대상\n",
    "    srcText = input('검색어를 입력하세요: ')\n",
    "    cnt = 0\n",
    "    jsonResult = []\n",
    "    # 바로 api 호출, 그리고 총 개수 할당\n",
    "    jsonResponse = getNaverSearch(node, srcText, 1, 100) #[CODE 2] 여기서 반환받는값은 json 이 아니라 python 객체\n",
    "    total = jsonResponse['total'] # 그래서 슬라이싱을 쓸 수 있음\n",
    "    # 호출의 결과가 존재하는 동안\n",
    "    while ((jsonResponse != None) and (jsonResponse['display'] != 0)):\n",
    "        # 결과 데이터를 각각 jsonResult 에 더함\n",
    "        for post in jsonResponse['items']:\n",
    "            cnt += 1\n",
    "            getPostData(post, jsonResult, cnt) #[CODE 3]\n",
    "        # start~display 값은 불러왔으니 다음, start+display 부터 display 만큼 데이터 불러옴 이것을 호출의 결과가 존재하는 동안, 즉 끝까지 반복\n",
    "        start = jsonResponse['start'] + jsonResponse['display']\n",
    "        jsonResponse = getNaverSearch(node, srcText, start, 100) #[CODE 2]\n",
    "    print('전체 검색 : %d 건' %total)\n",
    "\n",
    "    # 결과를 json 파일로 저장\n",
    "    with open('%s_naver_%s.json' % (srcText, node), 'w', encoding='utf8') as outfile:\n",
    "        jsonFile = json.dumps(jsonResult, indent = 4, sort_keys = True, ensure_ascii = False)\n",
    "        outfile.write(jsonFile)\n",
    "    print(\"가져온 데이터 : %d 건\" %(cnt))\n",
    "    print('%s_naver_%s.json SAVED' % (srcText, node))\n",
    "\n",
    "if __name__ == '__main__':\n",
    "    main()"
   ],
   "id": "ed76154baa397eed",
   "outputs": [
    {
     "name": "stdout",
     "output_type": "stream",
     "text": [
      "[2025-02-19 12:02:26.659109] Url Request Success\n"
     ]
    },
    {
     "ename": "KeyError",
     "evalue": "'originallink'",
     "output_type": "error",
     "traceback": [
      "\u001B[1;31m---------------------------------------------------------------------------\u001B[0m",
      "\u001B[1;31mKeyError\u001B[0m                                  Traceback (most recent call last)",
      "Cell \u001B[1;32mIn[33], line 32\u001B[0m\n\u001B[0;32m     29\u001B[0m     \u001B[38;5;28mprint\u001B[39m(\u001B[38;5;124m'\u001B[39m\u001B[38;5;132;01m%s\u001B[39;00m\u001B[38;5;124m_naver_\u001B[39m\u001B[38;5;132;01m%s\u001B[39;00m\u001B[38;5;124m.json SAVED\u001B[39m\u001B[38;5;124m'\u001B[39m \u001B[38;5;241m%\u001B[39m (srcText, node))\n\u001B[0;32m     31\u001B[0m \u001B[38;5;28;01mif\u001B[39;00m \u001B[38;5;18m__name__\u001B[39m \u001B[38;5;241m==\u001B[39m \u001B[38;5;124m'\u001B[39m\u001B[38;5;124m__main__\u001B[39m\u001B[38;5;124m'\u001B[39m:\n\u001B[1;32m---> 32\u001B[0m     \u001B[43mmain\u001B[49m\u001B[43m(\u001B[49m\u001B[43m)\u001B[49m\n",
      "Cell \u001B[1;32mIn[33], line 16\u001B[0m, in \u001B[0;36mmain\u001B[1;34m()\u001B[0m\n\u001B[0;32m     14\u001B[0m \u001B[38;5;28;01mfor\u001B[39;00m post \u001B[38;5;129;01min\u001B[39;00m jsonResponse[\u001B[38;5;124m'\u001B[39m\u001B[38;5;124mitems\u001B[39m\u001B[38;5;124m'\u001B[39m]:\n\u001B[0;32m     15\u001B[0m     cnt \u001B[38;5;241m+\u001B[39m\u001B[38;5;241m=\u001B[39m \u001B[38;5;241m1\u001B[39m\n\u001B[1;32m---> 16\u001B[0m     \u001B[43mgetPostData\u001B[49m\u001B[43m(\u001B[49m\u001B[43mpost\u001B[49m\u001B[43m,\u001B[49m\u001B[43m \u001B[49m\u001B[43mjsonResult\u001B[49m\u001B[43m,\u001B[49m\u001B[43m \u001B[49m\u001B[43mcnt\u001B[49m\u001B[43m)\u001B[49m \u001B[38;5;66;03m#[CODE 3]\u001B[39;00m\n\u001B[0;32m     17\u001B[0m \u001B[38;5;66;03m# start~display 값은 불러왔으니 다음, start+display 부터 display 만큼 데이터 불러옴 이것을 호출의 결과가 존재하는 동안, 즉 끝까지 반복\u001B[39;00m\n\u001B[0;32m     18\u001B[0m \u001B[38;5;28;01mif\u001B[39;00m(cnt \u001B[38;5;241m==\u001B[39m \u001B[38;5;241m1000\u001B[39m):\n",
      "Cell \u001B[1;32mIn[30], line 5\u001B[0m, in \u001B[0;36mgetPostData\u001B[1;34m(post, jsonResult, cnt)\u001B[0m\n\u001B[0;32m      3\u001B[0m title \u001B[38;5;241m=\u001B[39m post[\u001B[38;5;124m'\u001B[39m\u001B[38;5;124mtitle\u001B[39m\u001B[38;5;124m'\u001B[39m]\n\u001B[0;32m      4\u001B[0m description \u001B[38;5;241m=\u001B[39m post[\u001B[38;5;124m'\u001B[39m\u001B[38;5;124mdescription\u001B[39m\u001B[38;5;124m'\u001B[39m]\n\u001B[1;32m----> 5\u001B[0m org_link \u001B[38;5;241m=\u001B[39m \u001B[43mpost\u001B[49m\u001B[43m[\u001B[49m\u001B[38;5;124;43m'\u001B[39;49m\u001B[38;5;124;43moriginallink\u001B[39;49m\u001B[38;5;124;43m'\u001B[39;49m\u001B[43m]\u001B[49m\n\u001B[0;32m      6\u001B[0m link \u001B[38;5;241m=\u001B[39m post[\u001B[38;5;124m'\u001B[39m\u001B[38;5;124mlink\u001B[39m\u001B[38;5;124m'\u001B[39m]\n\u001B[0;32m      7\u001B[0m pDate \u001B[38;5;241m=\u001B[39m datetime\u001B[38;5;241m.\u001B[39mdatetime\u001B[38;5;241m.\u001B[39mstrptime(post[\u001B[38;5;124m'\u001B[39m\u001B[38;5;124mpubDate\u001B[39m\u001B[38;5;124m'\u001B[39m], \u001B[38;5;124m'\u001B[39m\u001B[38;5;132;01m%a\u001B[39;00m\u001B[38;5;124m, \u001B[39m\u001B[38;5;132;01m%d\u001B[39;00m\u001B[38;5;124m \u001B[39m\u001B[38;5;124m%\u001B[39m\u001B[38;5;124mb \u001B[39m\u001B[38;5;124m%\u001B[39m\u001B[38;5;124mY \u001B[39m\u001B[38;5;124m%\u001B[39m\u001B[38;5;124mH:\u001B[39m\u001B[38;5;124m%\u001B[39m\u001B[38;5;124mM:\u001B[39m\u001B[38;5;124m%\u001B[39m\u001B[38;5;124mS +0900\u001B[39m\u001B[38;5;124m'\u001B[39m)\n",
      "\u001B[1;31mKeyError\u001B[0m: 'originallink'"
     ]
    }
   ],
   "execution_count": 33
  }
 ],
 "metadata": {
  "kernelspec": {
   "display_name": "Python 3",
   "language": "python",
   "name": "python3"
  },
  "language_info": {
   "codemirror_mode": {
    "name": "ipython",
    "version": 2
   },
   "file_extension": ".py",
   "mimetype": "text/x-python",
   "name": "python",
   "nbconvert_exporter": "python",
   "pygments_lexer": "ipython2",
   "version": "2.7.6"
  }
 },
 "nbformat": 4,
 "nbformat_minor": 5
}
