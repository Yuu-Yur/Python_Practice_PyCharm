{
 "cells": [
  {
   "cell_type": "code",
   "id": "initial_id",
   "metadata": {
    "collapsed": true,
    "ExecuteTime": {
     "end_time": "2025-02-19T05:58:18.300431Z",
     "start_time": "2025-02-19T05:58:17.914352Z"
    }
   },
   "source": [
    "import urllib.request\n",
    "import datetime\n",
    "import time\n",
    "import json\n",
    "import pandas as pd\n",
    "ServiceKey=\"\""
   ],
   "outputs": [],
   "execution_count": 1
  },
  {
   "metadata": {
    "ExecuteTime": {
     "end_time": "2025-02-19T05:58:18.308294Z",
     "start_time": "2025-02-19T05:58:18.304921Z"
    }
   },
   "cell_type": "code",
   "source": [
    "#[CODE 1]\n",
    "# url 을 받으면 요청 , OK 면 json 반환\n",
    "def getRequestUrl(url):\n",
    "    req = urllib.request.Request(url)\n",
    "    try:\n",
    "        response = urllib.request.urlopen(req)\n",
    "        if response.getcode() == 200:\n",
    "            print(\"[%s] Url Request Success\" % datetime.datetime.now())\n",
    "            return response.read().decode('utf-8')\n",
    "    except Exception as e:\n",
    "        print(e)\n",
    "        print(\"[%s] Error for URL : %s\" % (datetime.datetime.now(), url))\n",
    "        return None"
   ],
   "id": "ac025605d21be7ef",
   "outputs": [],
   "execution_count": 2
  },
  {
   "metadata": {
    "ExecuteTime": {
     "end_time": "2025-02-19T05:58:18.507288Z",
     "start_time": "2025-02-19T05:58:18.503752Z"
    }
   },
   "cell_type": "code",
   "source": [
    "# http://openapi.tour.go.kr/openapi/service/EdrcntTourismStatsService/getEdrcntTourismStatsList\n",
    "# 파라미터\n",
    "# ?YM=201201&NAT_CD=100&ED_CD=D&serviceKey=TEST_SERVICE_KEY\n",
    "# 파라미터 만들어 url 만들기 api 호출 함수 불러서 json을 python 객체로 만들기\n",
    "def getTourismStatsItem(yyyymm, nation_code, ed_cd):\n",
    "    service_url = \"http://openapi.tour.go.kr/openapi/service/EdrcntTourismStatsService/getEdrcntTourismStatsList\"\n",
    "    prameters = \"?_type=json&serviceKey=\" + ServiceKey\n",
    "    prameters += \"&YM=\" + yyyymm\n",
    "    prameters += \"&NAT_CD=\" + nation_code\n",
    "    prameters += \"&ED_CD=\" + ed_cd\n",
    "    url = service_url + prameters\n",
    "    print(url)\n",
    "    responseDecode = getRequestUrl(url)\n",
    "    if (responseDecode == None):\n",
    "        return None\n",
    "    else:\n",
    "        return json.loads(responseDecode)"
   ],
   "id": "e50e9cf966496e4e",
   "outputs": [],
   "execution_count": 3
  },
  {
   "metadata": {
    "ExecuteTime": {
     "end_time": "2025-02-19T05:58:18.527785Z",
     "start_time": "2025-02-19T05:58:18.518729Z"
    }
   },
   "cell_type": "code",
   "source": [
    "#[CODE 3]\n",
    "# 위의 python 객체에서 데이터를 받아와 파일로 저장\n",
    "def getTourismStatsService(nat_cd, ed_cd, nStartYear, nEndYear):\n",
    "    jsonResult = []\n",
    "    result = []\n",
    "    natName=''\n",
    "    dataEND = \"{0}{1:0>2}\".format(str(nEndYear), str(12)) #데이터 끝 초기화\n",
    "    isDataEnd = 0 #데이터 끝 확인용 flag 초기화\n",
    "\n",
    "    for year in range(nStartYear, nEndYear+1):\n",
    "        for month in range(1, 13):\n",
    "            if(isDataEnd == 1): break    #수집기간이 남았어도 데이터 끝이면 작업 중지.\n",
    "\n",
    "            yyyymm = \"{0}{1:0>2}\".format(str(year), str(month))\n",
    "            jsonData = getTourismStatsItem(yyyymm, nat_cd, ed_cd) #[CODE 2]\n",
    "\n",
    "            if (jsonData['response']['header']['resultMsg'] == 'OK'):\n",
    "                # 아직 입력된 범위까지 수집하지 않았지만, 더이상 제공되는 데이터가 없는 경우 -------------------\n",
    "                if jsonData['response']['body']['items'] == '':\n",
    "                    isDataEnd = 1 #데이터 끝 flag 설정\n",
    "                    if (month-1)==0:  #마지막 데이터가 12월인데, 현재 month가 다음해 1월인 경우\n",
    "                        year = year-1\n",
    "                        month = 13\n",
    "\n",
    "                    dataEND = \"{0}{1:0>2}\".format(str(year), str(month-1))\n",
    "                    print(\"데이터 없음.... \\n제공되는 통계 데이터는 %s년 %s월까지입니다.\\n\"\n",
    "                              %(str(year), str(month-1)), '-'*70)\n",
    "                    jsonData = getTourismStatsItem(dataEND, nat_cd, ed_cd) #출력용으로 마지막 데이터 다시 호출\n",
    "                    break\n",
    "\n",
    "                #반환할 데이터 항목을 추출하여 저장\n",
    "                natName = jsonData['response']['body']['items']['item']['natKorNm']\n",
    "                natName = natName.replace(' ', '')\n",
    "                num = jsonData['response']['body']['items']['item']['num']\n",
    "                ed = jsonData['response']['body']['items']['item']['ed']\n",
    "                print('[ %s_%s : %s ]' %(natName, yyyymm, num))\n",
    "                print('-'*70)\n",
    "                jsonResult.append({'nat_name': natName, 'nat_cd': nat_cd,\n",
    "                                 'yyyymm': yyyymm, 'visit_cnt': num})\n",
    "                result.append([natName, nat_cd, yyyymm, num])\n",
    "\n",
    "    #마지막 jsonData를 확인용으로 출력하기......................................................\n",
    "    print ('<마지막 jsonData>\\n', json.dumps(jsonData, indent=4, sort_keys=True, ensure_ascii=False))\n",
    "\n",
    "    return (jsonResult, result, natName, ed, dataEND)"
   ],
   "id": "4314c7eec4885d46",
   "outputs": [],
   "execution_count": 4
  },
  {
   "metadata": {
    "ExecuteTime": {
     "end_time": "2025-02-19T05:58:38.752025Z",
     "start_time": "2025-02-19T05:58:18.534049Z"
    }
   },
   "cell_type": "code",
   "source": [
    "#[CODE 0]\n",
    "def main():\n",
    "    jsonResult = []\n",
    "    result = []\n",
    "    natName=''\n",
    "\n",
    "    print(\"<< 국내 입국한 외국인의 통계 데이터를 수집합니다. >>\")\n",
    "    nat_cd = input('국가 코드를 입력하세요(중국: 112 / 일본: 130 / 미국: 275) : ')\n",
    "    nStartYear =int(input('데이터를 몇 년부터 수집할까요? : '))\n",
    "    nEndYear = int(input('데이터를 몇 년까지 수집할까요? : '))\n",
    "    ed_cd = \"E\"     #E : 방한외래관광객, D : 해외 출국\n",
    "\n",
    "    jsonResult, result, natName, ed, dataEND = \\\n",
    "                getTourismStatsService(nat_cd, ed_cd, nStartYear, nEndYear) #[CODE 3]\n",
    "\n",
    "    if (natName=='') : #URL 요청은 성공하였지만, 데이터 제공이 안된 경우\n",
    "        print('데이터가 전달되지 않았습니다. 공공데이터포털의 서비스 상태를 확인하기 바랍니다.')\n",
    "    else:\n",
    "        #파일저장 1 : json 파일\n",
    "        with open('./%s_%s_%d_%s.json' % (natName, ed, nStartYear, dataEND), 'w',\n",
    "                    encoding='utf8') as outfile:\n",
    "            jsonFile  = json.dumps(jsonResult, indent=4, sort_keys=True, ensure_ascii=False)\n",
    "            outfile.write(jsonFile)\n",
    "        #파일저장 2 : csv 파일\n",
    "        columns = [\"입국자국가\", \"국가코드\", \"입국연월\", \"입국자 수\"]\n",
    "        result_df = pd.DataFrame(result, columns = columns)\n",
    "        result_df.to_csv('./%s_%s_%d_%s.csv' % (natName, ed, nStartYear, dataEND),\n",
    "                    index=False, encoding='cp949')\n",
    "\n",
    "if __name__ == '__main__':\n",
    "    main()"
   ],
   "id": "8512c56b369f5388",
   "outputs": [
    {
     "name": "stdout",
     "output_type": "stream",
     "text": [
      "<< 국내 입국한 외국인의 통계 데이터를 수집합니다. >>\n",
      "http://openapi.tour.go.kr/openapi/service/EdrcntTourismStatsService/getEdrcntTourismStatsList?_type=json&serviceKey=Ody77GLuYeR%2FeFqbpduMN2Bi4Cka2fztbgnj6E2Eux1kUhy3e4epR28XKBUaObiqPoVzAizxXMBPXtMyuC9v9Q%3D%3D&YM=202401&NAT_CD=112&ED_CD=E\n",
      "[2025-02-19 14:58:28.866942] Url Request Success\n",
      "[ 중국_202401 : 280035 ]\n",
      "----------------------------------------------------------------------\n",
      "http://openapi.tour.go.kr/openapi/service/EdrcntTourismStatsService/getEdrcntTourismStatsList?_type=json&serviceKey=Ody77GLuYeR%2FeFqbpduMN2Bi4Cka2fztbgnj6E2Eux1kUhy3e4epR28XKBUaObiqPoVzAizxXMBPXtMyuC9v9Q%3D%3D&YM=202402&NAT_CD=112&ED_CD=E\n",
      "[2025-02-19 14:58:29.865311] Url Request Success\n",
      "[ 중국_202402 : 343719 ]\n",
      "----------------------------------------------------------------------\n",
      "http://openapi.tour.go.kr/openapi/service/EdrcntTourismStatsService/getEdrcntTourismStatsList?_type=json&serviceKey=Ody77GLuYeR%2FeFqbpduMN2Bi4Cka2fztbgnj6E2Eux1kUhy3e4epR28XKBUaObiqPoVzAizxXMBPXtMyuC9v9Q%3D%3D&YM=202403&NAT_CD=112&ED_CD=E\n",
      "[2025-02-19 14:58:30.882701] Url Request Success\n",
      "[ 중국_202403 : 391347 ]\n",
      "----------------------------------------------------------------------\n",
      "http://openapi.tour.go.kr/openapi/service/EdrcntTourismStatsService/getEdrcntTourismStatsList?_type=json&serviceKey=Ody77GLuYeR%2FeFqbpduMN2Bi4Cka2fztbgnj6E2Eux1kUhy3e4epR28XKBUaObiqPoVzAizxXMBPXtMyuC9v9Q%3D%3D&YM=202404&NAT_CD=112&ED_CD=E\n",
      "[2025-02-19 14:58:31.872343] Url Request Success\n",
      "[ 중국_202404 : 411331 ]\n",
      "----------------------------------------------------------------------\n",
      "http://openapi.tour.go.kr/openapi/service/EdrcntTourismStatsService/getEdrcntTourismStatsList?_type=json&serviceKey=Ody77GLuYeR%2FeFqbpduMN2Bi4Cka2fztbgnj6E2Eux1kUhy3e4epR28XKBUaObiqPoVzAizxXMBPXtMyuC9v9Q%3D%3D&YM=202405&NAT_CD=112&ED_CD=E\n",
      "[2025-02-19 14:58:32.863472] Url Request Success\n",
      "[ 중국_202405 : 395222 ]\n",
      "----------------------------------------------------------------------\n",
      "http://openapi.tour.go.kr/openapi/service/EdrcntTourismStatsService/getEdrcntTourismStatsList?_type=json&serviceKey=Ody77GLuYeR%2FeFqbpduMN2Bi4Cka2fztbgnj6E2Eux1kUhy3e4epR28XKBUaObiqPoVzAizxXMBPXtMyuC9v9Q%3D%3D&YM=202406&NAT_CD=112&ED_CD=E\n",
      "[2025-02-19 14:58:33.853516] Url Request Success\n",
      "[ 중국_202406 : 397325 ]\n",
      "----------------------------------------------------------------------\n",
      "http://openapi.tour.go.kr/openapi/service/EdrcntTourismStatsService/getEdrcntTourismStatsList?_type=json&serviceKey=Ody77GLuYeR%2FeFqbpduMN2Bi4Cka2fztbgnj6E2Eux1kUhy3e4epR28XKBUaObiqPoVzAizxXMBPXtMyuC9v9Q%3D%3D&YM=202407&NAT_CD=112&ED_CD=E\n",
      "[2025-02-19 14:58:33.908206] Url Request Success\n",
      "[ 중국_202407 : 459069 ]\n",
      "----------------------------------------------------------------------\n",
      "http://openapi.tour.go.kr/openapi/service/EdrcntTourismStatsService/getEdrcntTourismStatsList?_type=json&serviceKey=Ody77GLuYeR%2FeFqbpduMN2Bi4Cka2fztbgnj6E2Eux1kUhy3e4epR28XKBUaObiqPoVzAizxXMBPXtMyuC9v9Q%3D%3D&YM=202408&NAT_CD=112&ED_CD=E\n",
      "[2025-02-19 14:58:34.861602] Url Request Success\n",
      "[ 중국_202408 : 505559 ]\n",
      "----------------------------------------------------------------------\n",
      "http://openapi.tour.go.kr/openapi/service/EdrcntTourismStatsService/getEdrcntTourismStatsList?_type=json&serviceKey=Ody77GLuYeR%2FeFqbpduMN2Bi4Cka2fztbgnj6E2Eux1kUhy3e4epR28XKBUaObiqPoVzAizxXMBPXtMyuC9v9Q%3D%3D&YM=202409&NAT_CD=112&ED_CD=E\n",
      "[2025-02-19 14:58:35.880619] Url Request Success\n",
      "[ 중국_202409 : 422809 ]\n",
      "----------------------------------------------------------------------\n",
      "http://openapi.tour.go.kr/openapi/service/EdrcntTourismStatsService/getEdrcntTourismStatsList?_type=json&serviceKey=Ody77GLuYeR%2FeFqbpduMN2Bi4Cka2fztbgnj6E2Eux1kUhy3e4epR28XKBUaObiqPoVzAizxXMBPXtMyuC9v9Q%3D%3D&YM=202410&NAT_CD=112&ED_CD=E\n",
      "[2025-02-19 14:58:36.838417] Url Request Success\n",
      "[ 중국_202410 : 392230 ]\n",
      "----------------------------------------------------------------------\n",
      "http://openapi.tour.go.kr/openapi/service/EdrcntTourismStatsService/getEdrcntTourismStatsList?_type=json&serviceKey=Ody77GLuYeR%2FeFqbpduMN2Bi4Cka2fztbgnj6E2Eux1kUhy3e4epR28XKBUaObiqPoVzAizxXMBPXtMyuC9v9Q%3D%3D&YM=202411&NAT_CD=112&ED_CD=E\n",
      "[2025-02-19 14:58:37.805695] Url Request Success\n",
      "[ 중국_202411 : 297840 ]\n",
      "----------------------------------------------------------------------\n",
      "http://openapi.tour.go.kr/openapi/service/EdrcntTourismStatsService/getEdrcntTourismStatsList?_type=json&serviceKey=Ody77GLuYeR%2FeFqbpduMN2Bi4Cka2fztbgnj6E2Eux1kUhy3e4epR28XKBUaObiqPoVzAizxXMBPXtMyuC9v9Q%3D%3D&YM=202412&NAT_CD=112&ED_CD=E\n",
      "[2025-02-19 14:58:38.728642] Url Request Success\n",
      "[ 중국_202412 : 306787 ]\n",
      "----------------------------------------------------------------------\n",
      "<마지막 jsonData>\n",
      " {\n",
      "    \"response\": {\n",
      "        \"body\": {\n",
      "            \"items\": {\n",
      "                \"item\": {\n",
      "                    \"ed\": \"방한외래관광객\",\n",
      "                    \"edCd\": \"E\",\n",
      "                    \"natCd\": 112,\n",
      "                    \"natKorNm\": \"중  국\",\n",
      "                    \"num\": 306787,\n",
      "                    \"rnum\": 1,\n",
      "                    \"ym\": 202412\n",
      "                }\n",
      "            },\n",
      "            \"numOfRows\": 10,\n",
      "            \"pageNo\": 1,\n",
      "            \"totalCount\": 1\n",
      "        },\n",
      "        \"header\": {\n",
      "            \"resultCode\": \"0000\",\n",
      "            \"resultMsg\": \"OK\"\n",
      "        }\n",
      "    }\n",
      "}\n"
     ]
    }
   ],
   "execution_count": 5
  }
 ],
 "metadata": {
  "kernelspec": {
   "display_name": "Python 3",
   "language": "python",
   "name": "python3"
  },
  "language_info": {
   "codemirror_mode": {
    "name": "ipython",
    "version": 2
   },
   "file_extension": ".py",
   "mimetype": "text/x-python",
   "name": "python",
   "nbconvert_exporter": "python",
   "pygments_lexer": "ipython2",
   "version": "2.7.6"
  }
 },
 "nbformat": 4,
 "nbformat_minor": 5
}
