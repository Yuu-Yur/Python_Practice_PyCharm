{
 "cells": [
  {
   "cell_type": "code",
   "id": "initial_id",
   "metadata": {
    "collapsed": true,
    "ExecuteTime": {
     "end_time": "2025-02-14T06:24:13.779921Z",
     "start_time": "2025-02-14T06:24:13.301325Z"
    }
   },
   "source": [
    "import numpy as np\n",
    "import pandas as pd\n",
    "import matplotlib"
   ],
   "outputs": [],
   "execution_count": 1
  },
  {
   "metadata": {
    "ExecuteTime": {
     "end_time": "2025-02-14T06:28:03.896054Z",
     "start_time": "2025-02-14T06:28:00.326272Z"
    }
   },
   "cell_type": "code",
   "source": [
    "# 이것은 오래걸리므로 한번만 실행할것 그래서 셀\n",
    "data = np.genfromtxt(\"ratings.dat\",delimiter=\"::\",dtype=np.int64, encoding=\"utf-8\",autostrip=True)"
   ],
   "id": "f78e393aacbb6379",
   "outputs": [
    {
     "data": {
      "text/plain": [
       "(1000209, 4)"
      ]
     },
     "execution_count": 11,
     "metadata": {},
     "output_type": "execute_result"
    }
   ],
   "execution_count": 11
  },
  {
   "metadata": {
    "ExecuteTime": {
     "end_time": "2025-02-14T06:31:06.666305Z",
     "start_time": "2025-02-14T06:31:06.655552Z"
    }
   },
   "cell_type": "code",
   "source": [
    "# 예시데이터의 구조\n",
    "# user::movie::rating::timestamp\n",
    "data[:5]\n",
    "data[:,2].mean()"
   ],
   "id": "4d19be7444b4774",
   "outputs": [
    {
     "data": {
      "text/plain": [
       "np.float64(3.581564453029317)"
      ]
     },
     "execution_count": 14,
     "metadata": {},
     "output_type": "execute_result"
    }
   ],
   "execution_count": 14
  },
  {
   "metadata": {
    "ExecuteTime": {
     "end_time": "2025-02-14T06:34:08.070162Z",
     "start_time": "2025-02-14T06:34:08.044200Z"
    }
   },
   "cell_type": "code",
   "source": [
    "user_ids = np.unique(data[:,0])\n",
    "user_ids.shape"
   ],
   "id": "d67495ff47ba4da7",
   "outputs": [
    {
     "data": {
      "text/plain": [
       "(6040,)"
      ]
     },
     "execution_count": 18,
     "metadata": {},
     "output_type": "execute_result"
    }
   ],
   "execution_count": 18
  },
  {
   "metadata": {
    "ExecuteTime": {
     "end_time": "2025-02-14T06:39:15.631498Z",
     "start_time": "2025-02-14T06:38:55.888883Z"
    }
   },
   "cell_type": "code",
   "source": [
    "mean_values = []\n",
    "for user_id in user_ids:\n",
    "    # data 중 userid 가 같은 행에 대해 모든 열을 가져옴\n",
    "    data_for_user = data[data[:,0]==user_id,:]\n",
    "    # 그 모든 행의 2(rating)에 대해 평균값 구함\n",
    "    value = data_for_user[:,2].mean()\n",
    "    # 이 임의의 한 유저의 rating 평균을 저장\n",
    "    mean_values.append(value)"
   ],
   "id": "7aff18a714175fa7",
   "outputs": [
    {
     "name": "stdout",
     "output_type": "stream",
     "text": [
      "[np.float64(4.188679245283019), np.float64(3.7131782945736433), np.float64(3.9019607843137254), np.float64(4.190476190476191), np.float64(3.1464646464646466)]\n"
     ]
    }
   ],
   "execution_count": 19
  },
  {
   "metadata": {
    "ExecuteTime": {
     "end_time": "2025-02-14T06:40:21.525939Z",
     "start_time": "2025-02-14T06:40:21.521433Z"
    }
   },
   "cell_type": "code",
   "source": [
    "mean_array = np.array(mean_values,dtype=np.float32)\n",
    "print(mean_array[:5])\n",
    "print(mean_array.shape)"
   ],
   "id": "4536dba238f8d749",
   "outputs": [
    {
     "name": "stdout",
     "output_type": "stream",
     "text": [
      "[4.188679  3.7131784 3.9019608 4.1904764 3.1464646]\n",
      "(6040,)\n"
     ]
    }
   ],
   "execution_count": 21
  },
  {
   "metadata": {
    "ExecuteTime": {
     "end_time": "2025-02-14T06:41:44.649518Z",
     "start_time": "2025-02-14T06:41:44.631446Z"
    }
   },
   "cell_type": "code",
   "source": "np.savetxt(\"result.csv\",mean_array,delimiter=\",\",fmt=\"%.2f\")",
   "id": "481c4774de4894ef",
   "outputs": [],
   "execution_count": 22
  },
  {
   "metadata": {
    "ExecuteTime": {
     "end_time": "2025-02-14T07:59:52.733011Z",
     "start_time": "2025-02-14T07:59:52.727683Z"
    }
   },
   "cell_type": "code",
   "source": [
    "# 기본 실습 1\n",
    "sq_three_np_array = np.array([1,2,3,4,5,6,7,8,9]).reshape(3,3)\n",
    "# sq_three_np_array[0]\n",
    "# sq_three_np_array[:,1]\n",
    "sq_three_np_array[1:,1:]"
   ],
   "id": "d36842ffad38bfba",
   "outputs": [
    {
     "data": {
      "text/plain": [
       "array([[5, 6],\n",
       "       [8, 9]])"
      ]
     },
     "execution_count": 46,
     "metadata": {},
     "output_type": "execute_result"
    }
   ],
   "execution_count": 46
  },
  {
   "metadata": {
    "ExecuteTime": {
     "end_time": "2025-02-14T06:56:54.536773Z",
     "start_time": "2025-02-14T06:56:54.532391Z"
    }
   },
   "cell_type": "code",
   "source": [
    "# 기본 실습 2\n",
    "first_nparray = np.array([1,2,3])\n",
    "second_nparray = np.array([4,5,6])\n",
    "# first_nparray+second_nparray\n",
    "# first_nparray-second_nparray\n",
    "# first_nparray*second_nparray\n",
    "# first_nparray/second_nparray"
   ],
   "id": "937f67133bd69d3e",
   "outputs": [
    {
     "data": {
      "text/plain": [
       "array([0.25, 0.4 , 0.5 ])"
      ]
     },
     "execution_count": 34,
     "metadata": {},
     "output_type": "execute_result"
    }
   ],
   "execution_count": 34
  },
  {
   "metadata": {
    "ExecuteTime": {
     "end_time": "2025-02-14T06:58:00.801711Z",
     "start_time": "2025-02-14T06:58:00.797124Z"
    }
   },
   "cell_type": "code",
   "source": [
    "# 기본 실습 3\n",
    "list_data = [10, 20, 30, 40, 50]\n",
    "nparray_data = np.array(list_data)\n",
    "type(nparray_data)"
   ],
   "id": "4a774e1948268604",
   "outputs": [
    {
     "data": {
      "text/plain": [
       "numpy.ndarray"
      ]
     },
     "execution_count": 36,
     "metadata": {},
     "output_type": "execute_result"
    }
   ],
   "execution_count": 36
  },
  {
   "metadata": {
    "ExecuteTime": {
     "end_time": "2025-02-14T07:01:03.451322Z",
     "start_time": "2025-02-14T07:01:03.446809Z"
    }
   },
   "cell_type": "code",
   "source": [
    "# userId,movieId,rating\n",
    "mini_data = np.genfromtxt(\"mini_ratings.csv\",delimiter=\",\",dtype=np.float32, encoding=\"utf-8\",autostrip=True)\n",
    "print(mini_data[:5])"
   ],
   "id": "5c8115bf826dc414",
   "outputs": [
    {
     "name": "stdout",
     "output_type": "stream",
     "text": [
      "[[ 3.   6.   3.7]\n",
      " [ 5.  10.   3.1]\n",
      " [ 3.   2.   2.7]\n",
      " [ 1.   9.   1.7]\n",
      " [ 3.   8.   2.4]]\n"
     ]
    }
   ],
   "execution_count": 40
  },
  {
   "metadata": {
    "ExecuteTime": {
     "end_time": "2025-02-14T07:01:27.712681Z",
     "start_time": "2025-02-14T07:01:27.707892Z"
    }
   },
   "cell_type": "code",
   "source": "mini_data[:,2].mean()",
   "id": "1d47ee9e27ddc049",
   "outputs": [
    {
     "data": {
      "text/plain": [
       "np.float32(3.0750003)"
      ]
     },
     "execution_count": 41,
     "metadata": {},
     "output_type": "execute_result"
    }
   ],
   "execution_count": 41
  },
  {
   "metadata": {
    "ExecuteTime": {
     "end_time": "2025-02-14T08:12:56.227227Z",
     "start_time": "2025-02-14T08:12:56.223054Z"
    }
   },
   "cell_type": "code",
   "source": [
    "mean_of_rating_array = []\n",
    "unique_user_id = np.unique(mini_data[:,0])\n",
    "for user_id in unique_user_id:\n",
    "    rating_of_a_user = mini_data[mini_data[:,0]==user_id,2]\n",
    "    mean_of_rating_array.append(rating_of_a_user.mean())\n",
    "np.savetxt(\"mini_ratings_users_rating_mean.csv\",mean_of_rating_array,delimiter=\",\",fmt=\"%.2f\")"
   ],
   "id": "fa673e11a49b5461",
   "outputs": [],
   "execution_count": 48
  },
  {
   "metadata": {
    "ExecuteTime": {
     "end_time": "2025-02-14T08:32:23.802430Z",
     "start_time": "2025-02-14T08:32:23.796281Z"
    }
   },
   "cell_type": "code",
   "source": [
    "user_ids = np.array(mini_data[:,0])\n",
    "ratings_only = np.array(mini_data[:,2])\n",
    "unique_user_id = np.unique(mini_data[:,0])\n",
    "mini_rating_users_rating_avg = {\n",
    "    # user_ids == user 은 True, False 를 반환하는게 아니라 user_ids 길이와 같은 nparray를 반환\n",
    "    # 그 리스트는 True,False 로 채워져 있음\n",
    "    # 그러니 ratings_only 에서 True인 순서의 ratings_only 만 남긴 nparray 가 되는 것\n",
    "    # 즉 이 방법을 쓰려면 user_ids 와 ratings_only 가 같은 data에서 나올 필요가 있고 정렬이 변경되지 않아야 함\n",
    "    user: np.mean(ratings_only[user_ids == user]) for user in unique_user_id\n",
    "}\n",
    "df = pd.DataFrame(list(mini_rating_users_rating_avg.items()), columns=[\"UserID\", \"AverageRating\"])\n",
    "df.to_csv(\"user_avg_ratings.csv\", index=False)"
   ],
   "id": "eb7ac5f14f11965",
   "outputs": [],
   "execution_count": 53
  }
 ],
 "metadata": {
  "kernelspec": {
   "display_name": "Python 3",
   "language": "python",
   "name": "python3"
  },
  "language_info": {
   "codemirror_mode": {
    "name": "ipython",
    "version": 2
   },
   "file_extension": ".py",
   "mimetype": "text/x-python",
   "name": "python",
   "nbconvert_exporter": "python",
   "pygments_lexer": "ipython2",
   "version": "2.7.6"
  }
 },
 "nbformat": 4,
 "nbformat_minor": 5
}
