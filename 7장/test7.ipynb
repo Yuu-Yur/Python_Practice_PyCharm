{
 "cells": [
  {
   "metadata": {
    "ExecuteTime": {
     "end_time": "2025-02-14T05:40:54.364025Z",
     "start_time": "2025-02-14T05:40:53.940154Z"
    }
   },
   "cell_type": "code",
   "source": [
    "import numpy as np\n",
    "import pandas as pd\n",
    "import matplotlib"
   ],
   "id": "78571d3ef233bc78",
   "outputs": [],
   "execution_count": 2
  },
  {
   "metadata": {
    "ExecuteTime": {
     "end_time": "2025-02-14T05:38:30.782371Z",
     "start_time": "2025-02-14T05:38:30.778793Z"
    }
   },
   "cell_type": "code",
   "source": [
    "# numpy\n",
    "# 벡터 및 행렬 연산에 특화\n",
    "# array 단위로 데이터 관리\n",
    "# numpy array는 정적 메모리 할당\n",
    "# 텐서플로우에 효과적 사용\n",
    "# import -> np.array(list) 로 python list형식을 numpy array형식으로 형변환\n",
    "python_list = [1,2,3,4,5,6]\n",
    "numpy_array = np.array(python_list)\n",
    "print(numpy_array)"
   ],
   "id": "c742b1fb854b4f4b",
   "outputs": [
    {
     "name": "stdout",
     "output_type": "stream",
     "text": [
      "[1 2 3 4 5 6]\n"
     ]
    }
   ],
   "execution_count": 2
  },
  {
   "metadata": {
    "ExecuteTime": {
     "end_time": "2025-02-14T05:38:30.934097Z",
     "start_time": "2025-02-14T05:38:30.928942Z"
    }
   },
   "cell_type": "code",
   "source": [
    "# numpy array 내장함수 .mean() 평균값\n",
    "numpy_array.mean()"
   ],
   "id": "bc256c3e76ac8298",
   "outputs": [
    {
     "data": {
      "text/plain": [
       "np.float64(3.5)"
      ]
     },
     "execution_count": 3,
     "metadata": {},
     "output_type": "execute_result"
    }
   ],
   "execution_count": 3
  },
  {
   "metadata": {
    "ExecuteTime": {
     "end_time": "2025-02-14T05:38:30.943649Z",
     "start_time": "2025-02-14T05:38:30.940737Z"
    }
   },
   "cell_type": "code",
   "source": [
    "# np.array(list).reshape(행,열)\n",
    "numpy_array2 = np.array(python_list).reshape(2,3)\n",
    "print(numpy_array2)"
   ],
   "id": "54016bf2bb81b2c8",
   "outputs": [
    {
     "name": "stdout",
     "output_type": "stream",
     "text": [
      "[[1 2 3]\n",
      " [4 5 6]]\n"
     ]
    }
   ],
   "execution_count": 4
  },
  {
   "metadata": {
    "ExecuteTime": {
     "end_time": "2025-02-14T05:38:30.966462Z",
     "start_time": "2025-02-14T05:38:30.962498Z"
    }
   },
   "cell_type": "code",
   "source": [
    "# np.ones() parameter 로 인자, [행,열], 물론 위에서 처럼 1차원으로만들고 reshape 가능\n",
    "y1=np.ones(10) #1차원 배열에 1채우기\n",
    "y2=np.ones([3,4]) #2차원 배열에 1채우기\n",
    "y3=np.ones(12).reshape(3,4) # y2와 동일\n",
    "print('y1')\n",
    "print(y1)\n",
    "print('y2')\n",
    "print(y2)\n",
    "print('y3')\n",
    "print(y3)"
   ],
   "id": "65d4a4c1a2d944f2",
   "outputs": [
    {
     "name": "stdout",
     "output_type": "stream",
     "text": [
      "y1\n",
      "[1. 1. 1. 1. 1. 1. 1. 1. 1. 1.]\n",
      "y2\n",
      "[[1. 1. 1. 1.]\n",
      " [1. 1. 1. 1.]\n",
      " [1. 1. 1. 1.]]\n",
      "y3\n",
      "[[1. 1. 1. 1.]\n",
      " [1. 1. 1. 1.]\n",
      " [1. 1. 1. 1.]]\n"
     ]
    }
   ],
   "execution_count": 5
  },
  {
   "metadata": {
    "ExecuteTime": {
     "end_time": "2025-02-14T05:38:30.993634Z",
     "start_time": "2025-02-14T05:38:30.989339Z"
    }
   },
   "cell_type": "code",
   "source": [
    "# np.zeros() ones()와 같음\n",
    "y4=np.zeros(10) #1차원 배열에 1채우기\n",
    "y5=np.zeros((3,4)) #2차원 배열에 1채우기\n",
    "y6=np.zeros(12).reshape(3,4) # y5와 동일\n",
    "print('y4')\n",
    "print(y4)\n",
    "print('y5')\n",
    "print(y5)\n",
    "print('y6')\n",
    "print(y6)"
   ],
   "id": "326d5c93f9548878",
   "outputs": [
    {
     "name": "stdout",
     "output_type": "stream",
     "text": [
      "y4\n",
      "[0. 0. 0. 0. 0. 0. 0. 0. 0. 0.]\n",
      "y5\n",
      "[[0. 0. 0. 0.]\n",
      " [0. 0. 0. 0.]\n",
      " [0. 0. 0. 0.]]\n",
      "y6\n",
      "[[0. 0. 0. 0.]\n",
      " [0. 0. 0. 0.]\n",
      " [0. 0. 0. 0.]]\n"
     ]
    }
   ],
   "execution_count": 6
  },
  {
   "metadata": {
    "ExecuteTime": {
     "end_time": "2025-02-14T05:38:31.014307Z",
     "start_time": "2025-02-14T05:38:31.010895Z"
    }
   },
   "cell_type": "code",
   "source": [
    "# np.random.rand() parameter 로 개수,행,열\n",
    "# rand() 0~1 사이의 난수\n",
    "# np.random.randn() parameter 로 개수 , 행,열\n",
    "# randn() 평균이 0, 표준편차 1을 따르는 난수 발생\n",
    "data_rand = np.random.rand(10)\n",
    "print(data_rand)\n",
    "data_randn = np.random.randn(10)\n",
    "print(data_randn)"
   ],
   "id": "655c5fbb44e8d7a8",
   "outputs": [
    {
     "name": "stdout",
     "output_type": "stream",
     "text": [
      "[0.57083616 0.45744662 0.57906463 0.39171986 0.80282956 0.80448199\n",
      " 0.6650327  0.53355659 0.61052204 0.79010309]\n",
      "[ 0.34570705  1.76853719  0.46970488 -0.16450801 -0.85049686  0.83676877\n",
      " -0.18565378 -0.08060681  1.27183169  1.09853008]\n"
     ]
    }
   ],
   "execution_count": 7
  },
  {
   "metadata": {
    "ExecuteTime": {
     "end_time": "2025-02-14T05:38:31.031694Z",
     "start_time": "2025-02-14T05:38:31.027918Z"
    }
   },
   "cell_type": "code",
   "source": [
    "list1=[[1,11],[2,12],[3,13]]\n",
    "np_arr=np.array(list1)\n",
    "print(np_arr)\n",
    "# 슬라이싱 직관적\n",
    "print(np_arr[1][1])\n",
    "print(np_arr[1,1])\n",
    "# [시작값:끝값 , 인덱스] 시작값부터 끝값까지의 인덱스에 있는 값을 nparray 형태로 꺼냄\n",
    "print(np_arr[:,1])\n",
    "print(np_arr[:2,0])"
   ],
   "id": "c3b6d59f1d4e773f",
   "outputs": [
    {
     "name": "stdout",
     "output_type": "stream",
     "text": [
      "[[ 1 11]\n",
      " [ 2 12]\n",
      " [ 3 13]]\n",
      "12\n",
      "12\n",
      "[11 12 13]\n",
      "[1 2]\n"
     ]
    }
   ],
   "execution_count": 8
  },
  {
   "metadata": {
    "ExecuteTime": {
     "end_time": "2025-02-14T05:38:31.058518Z",
     "start_time": "2025-02-14T05:38:31.053437Z"
    }
   },
   "cell_type": "code",
   "source": [
    "a=np.arange(1,13).reshape(3,4)\n",
    "print(a)\n",
    "# 보통 이런 다차원 배열의 연산은 반복문이 필요한데\n",
    "# numpy 는 broadcast 를 지원 iterator을 알아서 수행해준다고 보면됨\n",
    "# squareroot sqrt(nparray) 제곱근\n",
    "np.sqrt(a)\n",
    "# mean(nparray) 평균값\n",
    "np.mean(a) #a.mean()\n",
    "# sum(nparray) 배열을 전부 합한 값\n",
    "np.sum(a), # a.sum()\n",
    "np.sum(a, axis=0) # 열합계\n",
    "np.sum(a, axis=1) # 행합계\n",
    "np.sqrt(a)"
   ],
   "id": "3f4a656787da8d23",
   "outputs": [
    {
     "name": "stdout",
     "output_type": "stream",
     "text": [
      "[[ 1  2  3  4]\n",
      " [ 5  6  7  8]\n",
      " [ 9 10 11 12]]\n"
     ]
    },
    {
     "data": {
      "text/plain": [
       "array([[1.        , 1.41421356, 1.73205081, 2.        ],\n",
       "       [2.23606798, 2.44948974, 2.64575131, 2.82842712],\n",
       "       [3.        , 3.16227766, 3.31662479, 3.46410162]])"
      ]
     },
     "execution_count": 9,
     "metadata": {},
     "output_type": "execute_result"
    }
   ],
   "execution_count": 9
  },
  {
   "metadata": {
    "ExecuteTime": {
     "end_time": "2025-02-14T06:01:55.066808Z",
     "start_time": "2025-02-14T06:01:55.061538Z"
    }
   },
   "cell_type": "code",
   "source": [
    "b=[[5,3,4],[2,5,1],[7,6,9]]\n",
    "arr_b=np.array(b)\n",
    "# sort(nparray) 기본 정렬 default 값 행기준 오름차순 정렬\n",
    "# np.sort(arr_b)\n",
    "# np.sort(arr_b, axis=1) #행기준 정렬\n",
    "# np.sort(arr_b, axis=0) #열기준 정렬\n",
    "# np.sort(arr_b, axis=0)[::-1] #내림차순 열기준 정렬\n",
    "# ##내림차순 정렬은 열기준만 가능\n",
    "# 전치행렬이란? 행,열을 바꿈 예시 1행0열이 0행1열\n",
    "# arr_b.transpose() #전치행렬"
   ],
   "id": "66ae5df09b63842a",
   "outputs": [
    {
     "data": {
      "text/plain": [
       "array([[5, 2, 7],\n",
       "       [3, 5, 6],\n",
       "       [4, 1, 9]])"
      ]
     },
     "execution_count": 10,
     "metadata": {},
     "output_type": "execute_result"
    }
   ],
   "execution_count": 10
  },
  {
   "metadata": {
    "ExecuteTime": {
     "end_time": "2025-02-14T06:07:50.775966Z",
     "start_time": "2025-02-14T06:07:50.770907Z"
    }
   },
   "cell_type": "code",
   "source": [
    "# np.unique(nparray) 중복제거,오름차순 정렬\n",
    "ages = np.array([20,21,23,20,22,21])\n",
    "np.unique(ages)"
   ],
   "id": "15603c1b1f285b57",
   "outputs": [
    {
     "data": {
      "text/plain": [
       "array([20, 21, 22, 23])"
      ]
     },
     "execution_count": 14,
     "metadata": {},
     "output_type": "execute_result"
    }
   ],
   "execution_count": 14
  },
  {
   "metadata": {
    "ExecuteTime": {
     "end_time": "2025-02-14T06:09:08.910873Z",
     "start_time": "2025-02-14T06:09:08.906518Z"
    }
   },
   "cell_type": "code",
   "source": [
    "# nparray 는 braodcasting 으로 비교 연산자 사용 가능\n",
    "# np.all(nparray 비교) 각각에 and 라고 보면됨 즉 전부 True 여야 True\n",
    "# np.any(nparray 비교) 각각에 or 즉 하나라도 True 면 True\n",
    "# b>5 일반 리스트에선 불가\n",
    "arr_b>5 #numpy배열일 때 결과\n",
    "# np.all(arr_b > 5) #arr_b의 모든 요소가 5보다 클때 True\n",
    "# np.any(arr_b>5) #arr_b의 어떤 요소가 5보다 클때 True"
   ],
   "id": "53be1c7d41465fee",
   "outputs": [
    {
     "data": {
      "text/plain": [
       "array([[False, False, False],\n",
       "       [False, False, False],\n",
       "       [ True,  True,  True]])"
      ]
     },
     "execution_count": 19,
     "metadata": {},
     "output_type": "execute_result"
    }
   ],
   "execution_count": 19
  },
  {
   "metadata": {
    "ExecuteTime": {
     "end_time": "2025-02-14T06:17:09.182049Z",
     "start_time": "2025-02-14T06:17:09.177220Z"
    }
   },
   "cell_type": "code",
   "source": [
    "# np.linspace(시작값,종료값,생성갯수) default 생성갯수는 50\n",
    "# 뒤에 속성 지정 가능 retstetp 샘플간 간격 반환 여부 default False, endpoint:종료값 포함여부 default True\n",
    "# np.linspace(0,100,40,retstep=True)\n",
    "# np.logspace(시작값,종료값,생성갯수,로그베이스) base 의 default 10\n",
    "np.logspace(1,4,100)"
   ],
   "id": "769fc2ae144897a9",
   "outputs": [
    {
     "data": {
      "text/plain": [
       "array([   10.        ,    10.72267222,    11.49756995,    12.32846739,\n",
       "          13.21941148,    14.17474163,    15.19911083,    16.29750835,\n",
       "          17.475284  ,    18.73817423,    20.09233003,    21.5443469 ,\n",
       "          23.101297  ,    24.77076356,    26.56087783,    28.48035868,\n",
       "          30.53855509,    32.74549163,    35.11191734,    37.64935807,\n",
       "          40.37017259,    43.28761281,    46.41588834,    49.77023564,\n",
       "          53.36699231,    57.22367659,    61.35907273,    65.79332247,\n",
       "          70.54802311,    75.64633276,    81.11308308,    86.97490026,\n",
       "          93.26033469,   100.        ,   107.2267222 ,   114.97569954,\n",
       "         123.28467394,   132.19411485,   141.74741629,   151.9911083 ,\n",
       "         162.97508346,   174.75284   ,   187.38174229,   200.92330026,\n",
       "         215.443469  ,   231.01297001,   247.7076356 ,   265.60877829,\n",
       "         284.80358684,   305.38555088,   327.45491629,   351.11917342,\n",
       "         376.49358068,   403.70172586,   432.87612811,   464.15888336,\n",
       "         497.70235643,   533.66992312,   572.23676594,   613.59072734,\n",
       "         657.93322466,   705.48023107,   756.46332755,   811.13083079,\n",
       "         869.74900262,   932.60334688,  1000.        ,  1072.26722201,\n",
       "        1149.7569954 ,  1232.84673944,  1321.94114847,  1417.47416293,\n",
       "        1519.91108295,  1629.75083462,  1747.52840001,  1873.81742286,\n",
       "        2009.23300257,  2154.43469003,  2310.12970008,  2477.07635599,\n",
       "        2656.08778295,  2848.03586844,  3053.85550883,  3274.54916288,\n",
       "        3511.19173422,  3764.93580679,  4037.0172586 ,  4328.76128108,\n",
       "        4641.58883361,  4977.02356433,  5336.69923121,  5722.36765935,\n",
       "        6135.90727341,  6579.33224658,  7054.80231072,  7564.63327555,\n",
       "        8111.3083079 ,  8697.49002618,  9326.03346883, 10000.        ])"
      ]
     },
     "execution_count": 29,
     "metadata": {},
     "output_type": "execute_result"
    }
   ],
   "execution_count": 29
  }
 ],
 "metadata": {
  "kernelspec": {
   "display_name": "Python 3",
   "language": "python",
   "name": "python3"
  },
  "language_info": {
   "codemirror_mode": {
    "name": "ipython",
    "version": 2
   },
   "file_extension": ".py",
   "mimetype": "text/x-python",
   "name": "python",
   "nbconvert_exporter": "python",
   "pygments_lexer": "ipython2",
   "version": "2.7.6"
  }
 },
 "nbformat": 4,
 "nbformat_minor": 5
}
