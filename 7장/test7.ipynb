{
 "cells": [
  {
   "metadata": {
    "ExecuteTime": {
     "end_time": "2025-02-18T05:35:39.226550Z",
     "start_time": "2025-02-18T05:35:39.195624Z"
    }
   },
   "cell_type": "code",
   "source": [
    "import numpy as np\n",
    "import pandas as pd\n",
    "import matplotlib\n",
    "import matplotlib.pyplot as plt\n",
    "import matplotlib.font_manager as fm\n",
    "\n",
    "from practice_0218.Q4 import font_path"
   ],
   "id": "78571d3ef233bc78",
   "outputs": [
    {
     "ename": "ModuleNotFoundError",
     "evalue": "No module named 'matplotlib.rcParams'",
     "output_type": "error",
     "traceback": [
      "\u001B[1;31m---------------------------------------------------------------------------\u001B[0m",
      "\u001B[1;31mModuleNotFoundError\u001B[0m                       Traceback (most recent call last)",
      "Cell \u001B[1;32mIn[17], line 6\u001B[0m\n\u001B[0;32m      4\u001B[0m \u001B[38;5;28;01mimport\u001B[39;00m\u001B[38;5;250m \u001B[39m\u001B[38;5;21;01mmatplotlib\u001B[39;00m\u001B[38;5;21;01m.\u001B[39;00m\u001B[38;5;21;01mpyplot\u001B[39;00m\u001B[38;5;250m \u001B[39m\u001B[38;5;28;01mas\u001B[39;00m\u001B[38;5;250m \u001B[39m\u001B[38;5;21;01mplt\u001B[39;00m\n\u001B[0;32m      5\u001B[0m \u001B[38;5;28;01mimport\u001B[39;00m\u001B[38;5;250m \u001B[39m\u001B[38;5;21;01mmatplotlib\u001B[39;00m\u001B[38;5;21;01m.\u001B[39;00m\u001B[38;5;21;01mfont_manager\u001B[39;00m\u001B[38;5;250m \u001B[39m\u001B[38;5;28;01mas\u001B[39;00m\u001B[38;5;250m \u001B[39m\u001B[38;5;21;01mfm\u001B[39;00m\n\u001B[1;32m----> 6\u001B[0m \u001B[38;5;28;01mimport\u001B[39;00m\u001B[38;5;250m \u001B[39m\u001B[38;5;21;01mmatplotlib\u001B[39;00m\u001B[38;5;21;01m.\u001B[39;00m\u001B[38;5;21;01mrcParams\u001B[39;00m\n",
      "\u001B[1;31mModuleNotFoundError\u001B[0m: No module named 'matplotlib.rcParams'"
     ]
    }
   ],
   "execution_count": 17
  },
  {
   "metadata": {
    "ExecuteTime": {
     "end_time": "2025-02-18T01:43:00.889661Z",
     "start_time": "2025-02-18T01:43:00.886250Z"
    }
   },
   "cell_type": "code",
   "source": [
    "# numpy\n",
    "# 벡터 및 행렬 연산에 특화\n",
    "# array 단위로 데이터 관리\n",
    "# numpy array는 정적 메모리 할당\n",
    "# 텐서플로우에 효과적 사용\n",
    "# import -> np.array(list) 로 python list형식을 numpy array형식으로 형변환\n",
    "python_list = [1,2,3,4,5,6]\n",
    "numpy_array = np.array(python_list)\n",
    "print(numpy_array)"
   ],
   "id": "c742b1fb854b4f4b",
   "outputs": [
    {
     "name": "stdout",
     "output_type": "stream",
     "text": [
      "[1 2 3 4 5 6]\n"
     ]
    }
   ],
   "execution_count": 2
  },
  {
   "metadata": {
    "ExecuteTime": {
     "end_time": "2025-02-18T01:43:01.045783Z",
     "start_time": "2025-02-18T01:43:01.040572Z"
    }
   },
   "cell_type": "code",
   "source": [
    "# numpy array 내장함수 .mean() 평균값\n",
    "numpy_array.mean()"
   ],
   "id": "bc256c3e76ac8298",
   "outputs": [
    {
     "data": {
      "text/plain": [
       "np.float64(3.5)"
      ]
     },
     "execution_count": 3,
     "metadata": {},
     "output_type": "execute_result"
    }
   ],
   "execution_count": 3
  },
  {
   "metadata": {
    "ExecuteTime": {
     "end_time": "2025-02-18T01:43:01.055628Z",
     "start_time": "2025-02-18T01:43:01.052874Z"
    }
   },
   "cell_type": "code",
   "source": [
    "# np.array(list).reshape(행,열)\n",
    "numpy_array2 = np.array(python_list).reshape(2,3)\n",
    "print(numpy_array2)"
   ],
   "id": "54016bf2bb81b2c8",
   "outputs": [
    {
     "name": "stdout",
     "output_type": "stream",
     "text": [
      "[[1 2 3]\n",
      " [4 5 6]]\n"
     ]
    }
   ],
   "execution_count": 4
  },
  {
   "metadata": {
    "ExecuteTime": {
     "end_time": "2025-02-18T01:43:01.097076Z",
     "start_time": "2025-02-18T01:43:01.093520Z"
    }
   },
   "cell_type": "code",
   "source": [
    "# np.ones() parameter 로 인자, [행,열], 물론 위에서 처럼 1차원으로만들고 reshape 가능\n",
    "y1=np.ones(10) #1차원 배열에 1채우기\n",
    "y2=np.ones([3,4]) #2차원 배열에 1채우기\n",
    "y3=np.ones(12).reshape(3,4) # y2와 동일\n",
    "print('y1')\n",
    "print(y1)\n",
    "print('y2')\n",
    "print(y2)\n",
    "print('y3')\n",
    "print(y3)"
   ],
   "id": "65d4a4c1a2d944f2",
   "outputs": [
    {
     "name": "stdout",
     "output_type": "stream",
     "text": [
      "y1\n",
      "[1. 1. 1. 1. 1. 1. 1. 1. 1. 1.]\n",
      "y2\n",
      "[[1. 1. 1. 1.]\n",
      " [1. 1. 1. 1.]\n",
      " [1. 1. 1. 1.]]\n",
      "y3\n",
      "[[1. 1. 1. 1.]\n",
      " [1. 1. 1. 1.]\n",
      " [1. 1. 1. 1.]]\n"
     ]
    }
   ],
   "execution_count": 5
  },
  {
   "metadata": {
    "ExecuteTime": {
     "end_time": "2025-02-18T01:43:01.124896Z",
     "start_time": "2025-02-18T01:43:01.121343Z"
    }
   },
   "cell_type": "code",
   "source": [
    "# np.zeros() ones()와 같음\n",
    "y4=np.zeros(10) #1차원 배열에 1채우기\n",
    "y5=np.zeros((3,4)) #2차원 배열에 1채우기\n",
    "y6=np.zeros(12).reshape(3,4) # y5와 동일\n",
    "print('y4')\n",
    "print(y4)\n",
    "print('y5')\n",
    "print(y5)\n",
    "print('y6')\n",
    "print(y6)"
   ],
   "id": "326d5c93f9548878",
   "outputs": [
    {
     "name": "stdout",
     "output_type": "stream",
     "text": [
      "y4\n",
      "[0. 0. 0. 0. 0. 0. 0. 0. 0. 0.]\n",
      "y5\n",
      "[[0. 0. 0. 0.]\n",
      " [0. 0. 0. 0.]\n",
      " [0. 0. 0. 0.]]\n",
      "y6\n",
      "[[0. 0. 0. 0.]\n",
      " [0. 0. 0. 0.]\n",
      " [0. 0. 0. 0.]]\n"
     ]
    }
   ],
   "execution_count": 6
  },
  {
   "metadata": {
    "ExecuteTime": {
     "end_time": "2025-02-18T01:43:01.175244Z",
     "start_time": "2025-02-18T01:43:01.171096Z"
    }
   },
   "cell_type": "code",
   "source": [
    "# np.random.rand() parameter 로 개수,행,열\n",
    "# rand() 0~1 사이의 난수\n",
    "# np.random.randn() parameter 로 개수 , 행,열\n",
    "# randn() 평균이 0, 표준편차 1을 따르는 난수 발생\n",
    "data_rand = np.random.rand(10)\n",
    "print(data_rand)\n",
    "data_randn = np.random.randn(10)\n",
    "print(data_randn)"
   ],
   "id": "655c5fbb44e8d7a8",
   "outputs": [
    {
     "name": "stdout",
     "output_type": "stream",
     "text": [
      "[0.59054499 0.88529475 0.33272024 0.46774172 0.14482352 0.52285025\n",
      " 0.47858343 0.18444201 0.79877348 0.82028536]\n",
      "[-0.73319372 -0.6042132  -0.749152    1.13044441  0.68427213 -1.32748362\n",
      "  0.57855668 -1.15904145 -1.47237999 -0.29139792]\n"
     ]
    }
   ],
   "execution_count": 7
  },
  {
   "metadata": {
    "ExecuteTime": {
     "end_time": "2025-02-18T01:43:01.208587Z",
     "start_time": "2025-02-18T01:43:01.204901Z"
    }
   },
   "cell_type": "code",
   "source": [
    "list1=[[1,11],[2,12],[3,13]]\n",
    "np_arr=np.array(list1)\n",
    "print(np_arr)\n",
    "# 슬라이싱 직관적\n",
    "print(np_arr[1][1])\n",
    "print(np_arr[1,1])\n",
    "# [시작값:끝값 , 인덱스] 시작값부터 끝값까지의 인덱스에 있는 값을 nparray 형태로 꺼냄\n",
    "print(np_arr[:,1])\n",
    "print(np_arr[:2,0])"
   ],
   "id": "c3b6d59f1d4e773f",
   "outputs": [
    {
     "name": "stdout",
     "output_type": "stream",
     "text": [
      "[[ 1 11]\n",
      " [ 2 12]\n",
      " [ 3 13]]\n",
      "12\n",
      "12\n",
      "[11 12 13]\n",
      "[1 2]\n"
     ]
    }
   ],
   "execution_count": 8
  },
  {
   "metadata": {
    "ExecuteTime": {
     "end_time": "2025-02-18T01:43:01.247821Z",
     "start_time": "2025-02-18T01:43:01.242889Z"
    }
   },
   "cell_type": "code",
   "source": [
    "a=np.arange(1,13).reshape(3,4)\n",
    "print(a)\n",
    "# 보통 이런 다차원 배열의 연산은 반복문이 필요한데\n",
    "# numpy 는 broadcast 를 지원 iterator을 알아서 수행해준다고 보면됨\n",
    "# squareroot sqrt(nparray) 제곱근\n",
    "np.sqrt(a)\n",
    "# mean(nparray) 평균값\n",
    "np.mean(a) #a.mean()\n",
    "# sum(nparray) 배열을 전부 합한 값\n",
    "np.sum(a), # a.sum()\n",
    "np.sum(a, axis=0) # 열합계\n",
    "np.sum(a, axis=1) # 행합계\n",
    "np.sqrt(a)"
   ],
   "id": "3f4a656787da8d23",
   "outputs": [
    {
     "name": "stdout",
     "output_type": "stream",
     "text": [
      "[[ 1  2  3  4]\n",
      " [ 5  6  7  8]\n",
      " [ 9 10 11 12]]\n"
     ]
    },
    {
     "data": {
      "text/plain": [
       "array([[1.        , 1.41421356, 1.73205081, 2.        ],\n",
       "       [2.23606798, 2.44948974, 2.64575131, 2.82842712],\n",
       "       [3.        , 3.16227766, 3.31662479, 3.46410162]])"
      ]
     },
     "execution_count": 9,
     "metadata": {},
     "output_type": "execute_result"
    }
   ],
   "execution_count": 9
  },
  {
   "metadata": {
    "ExecuteTime": {
     "end_time": "2025-02-18T01:43:01.280433Z",
     "start_time": "2025-02-18T01:43:01.278Z"
    }
   },
   "cell_type": "code",
   "source": [
    "b=[[5,3,4],[2,5,1],[7,6,9]]\n",
    "arr_b=np.array(b)\n",
    "# sort(nparray) 기본 정렬 default 값 행기준 오름차순 정렬\n",
    "# np.sort(arr_b)\n",
    "# np.sort(arr_b, axis=1) #행기준 정렬\n",
    "# np.sort(arr_b, axis=0) #열기준 정렬\n",
    "# np.sort(arr_b, axis=0)[::-1] #내림차순 열기준 정렬\n",
    "# ##내림차순 정렬은 열기준만 가능\n",
    "# 전치행렬이란? 행,열을 바꿈 예시 1행0열이 0행1열\n",
    "# arr_b.transpose() #전치행렬"
   ],
   "id": "66ae5df09b63842a",
   "outputs": [],
   "execution_count": 10
  },
  {
   "metadata": {
    "ExecuteTime": {
     "end_time": "2025-02-18T01:43:01.316046Z",
     "start_time": "2025-02-18T01:43:01.312579Z"
    }
   },
   "cell_type": "code",
   "source": [
    "# np.unique(nparray) 중복제거,오름차순 정렬\n",
    "ages = np.array([20,21,23,20,22,21])\n",
    "np.unique(ages)"
   ],
   "id": "15603c1b1f285b57",
   "outputs": [
    {
     "data": {
      "text/plain": [
       "array([20, 21, 22, 23])"
      ]
     },
     "execution_count": 11,
     "metadata": {},
     "output_type": "execute_result"
    }
   ],
   "execution_count": 11
  },
  {
   "metadata": {
    "ExecuteTime": {
     "end_time": "2025-02-18T01:43:01.410187Z",
     "start_time": "2025-02-18T01:43:01.406801Z"
    }
   },
   "cell_type": "code",
   "source": [
    "# nparray 는 braodcasting 으로 비교 연산자 사용 가능\n",
    "# np.all(nparray 비교) 각각에 and 라고 보면됨 즉 전부 True 여야 True\n",
    "# np.any(nparray 비교) 각각에 or 즉 하나라도 True 면 True\n",
    "# b>5 일반 리스트에선 불가\n",
    "arr_b>5 #numpy배열일 때 결과\n",
    "# np.all(arr_b > 5) #arr_b의 모든 요소가 5보다 클때 True\n",
    "# np.any(arr_b>5) #arr_b의 어떤 요소가 5보다 클때 True"
   ],
   "id": "53be1c7d41465fee",
   "outputs": [
    {
     "data": {
      "text/plain": [
       "array([[False, False, False],\n",
       "       [False, False, False],\n",
       "       [ True,  True,  True]])"
      ]
     },
     "execution_count": 12,
     "metadata": {},
     "output_type": "execute_result"
    }
   ],
   "execution_count": 12
  },
  {
   "metadata": {
    "ExecuteTime": {
     "end_time": "2025-02-18T01:43:01.457550Z",
     "start_time": "2025-02-18T01:43:01.452856Z"
    }
   },
   "cell_type": "code",
   "source": [
    "# np.linspace(시작값,종료값,생성갯수) default 생성갯수는 50\n",
    "# 뒤에 속성 지정 가능 retstetp 샘플간 간격 반환 여부 default False, endpoint:종료값 포함여부 default True\n",
    "# np.linspace(0,100,40,retstep=True)\n",
    "# np.logspace(시작값,종료값,생성갯수,로그베이스) base 의 default 10\n",
    "np.logspace(1,4,100)"
   ],
   "id": "769fc2ae144897a9",
   "outputs": [
    {
     "data": {
      "text/plain": [
       "array([   10.        ,    10.72267222,    11.49756995,    12.32846739,\n",
       "          13.21941148,    14.17474163,    15.19911083,    16.29750835,\n",
       "          17.475284  ,    18.73817423,    20.09233003,    21.5443469 ,\n",
       "          23.101297  ,    24.77076356,    26.56087783,    28.48035868,\n",
       "          30.53855509,    32.74549163,    35.11191734,    37.64935807,\n",
       "          40.37017259,    43.28761281,    46.41588834,    49.77023564,\n",
       "          53.36699231,    57.22367659,    61.35907273,    65.79332247,\n",
       "          70.54802311,    75.64633276,    81.11308308,    86.97490026,\n",
       "          93.26033469,   100.        ,   107.2267222 ,   114.97569954,\n",
       "         123.28467394,   132.19411485,   141.74741629,   151.9911083 ,\n",
       "         162.97508346,   174.75284   ,   187.38174229,   200.92330026,\n",
       "         215.443469  ,   231.01297001,   247.7076356 ,   265.60877829,\n",
       "         284.80358684,   305.38555088,   327.45491629,   351.11917342,\n",
       "         376.49358068,   403.70172586,   432.87612811,   464.15888336,\n",
       "         497.70235643,   533.66992312,   572.23676594,   613.59072734,\n",
       "         657.93322466,   705.48023107,   756.46332755,   811.13083079,\n",
       "         869.74900262,   932.60334688,  1000.        ,  1072.26722201,\n",
       "        1149.7569954 ,  1232.84673944,  1321.94114847,  1417.47416293,\n",
       "        1519.91108295,  1629.75083462,  1747.52840001,  1873.81742286,\n",
       "        2009.23300257,  2154.43469003,  2310.12970008,  2477.07635599,\n",
       "        2656.08778295,  2848.03586844,  3053.85550883,  3274.54916288,\n",
       "        3511.19173422,  3764.93580679,  4037.0172586 ,  4328.76128108,\n",
       "        4641.58883361,  4977.02356433,  5336.69923121,  5722.36765935,\n",
       "        6135.90727341,  6579.33224658,  7054.80231072,  7564.63327555,\n",
       "        8111.3083079 ,  8697.49002618,  9326.03346883, 10000.        ])"
      ]
     },
     "execution_count": 13,
     "metadata": {},
     "output_type": "execute_result"
    }
   ],
   "execution_count": 13
  },
  {
   "metadata": {
    "ExecuteTime": {
     "end_time": "2025-02-18T01:43:01.511947Z",
     "start_time": "2025-02-18T01:43:01.507416Z"
    }
   },
   "cell_type": "code",
   "source": [
    "# pandas\n",
    "pdx = pd.Series([1,2,3,4,5,6])\n",
    "print(pdx)\n",
    "print(type(pdx))\n",
    "print(pdx.values)\n",
    "print(pdx.index)\n",
    "print(pdx.dtypes)"
   ],
   "id": "f5b13264fa9f3f9d",
   "outputs": [
    {
     "name": "stdout",
     "output_type": "stream",
     "text": [
      "0    1\n",
      "1    2\n",
      "2    3\n",
      "3    4\n",
      "4    5\n",
      "5    6\n",
      "dtype: int64\n",
      "<class 'pandas.core.series.Series'>\n",
      "[1 2 3 4 5 6]\n",
      "RangeIndex(start=0, stop=6, step=1)\n",
      "int64\n"
     ]
    }
   ],
   "execution_count": 14
  },
  {
   "metadata": {
    "ExecuteTime": {
     "end_time": "2025-02-18T01:43:01.572499Z",
     "start_time": "2025-02-18T01:43:01.568971Z"
    }
   },
   "cell_type": "code",
   "source": [
    "pdx2 = pd.Series([4, 7, 5, 3], index=['d', 'b', 'a', 'c'])\n",
    "print(pdx2)\n"
   ],
   "id": "361e36e3ae82b0e5",
   "outputs": [
    {
     "name": "stdout",
     "output_type": "stream",
     "text": [
      "d    4\n",
      "b    7\n",
      "a    5\n",
      "c    3\n",
      "dtype: int64\n"
     ]
    }
   ],
   "execution_count": 15
  },
  {
   "metadata": {
    "ExecuteTime": {
     "end_time": "2025-02-18T01:43:01.633051Z",
     "start_time": "2025-02-18T01:43:01.628182Z"
    }
   },
   "cell_type": "code",
   "source": [
    "# 딕셔너리를 pandasSeries 로 변환하면 key 가 index로\n",
    "sdata = {'Kim': 35000, 'Beomwoo': 67000, 'Joan': 12000, 'Choi': 4000}\n",
    "obj3 = pd.Series(sdata)\n",
    "print(obj3)\n",
    "obj3.name = 'Salary'\n",
    "obj3.index.name = \"Names\"\n",
    "print(obj3)\n",
    "obj3.index = ['A', 'B', 'C', 'D']\n",
    "print(obj3)"
   ],
   "id": "e881fea8afc3c006",
   "outputs": [
    {
     "name": "stdout",
     "output_type": "stream",
     "text": [
      "Kim        35000\n",
      "Beomwoo    67000\n",
      "Joan       12000\n",
      "Choi        4000\n",
      "dtype: int64\n",
      "Names\n",
      "Kim        35000\n",
      "Beomwoo    67000\n",
      "Joan       12000\n",
      "Choi        4000\n",
      "Name: Salary, dtype: int64\n",
      "A    35000\n",
      "B    67000\n",
      "C    12000\n",
      "D     4000\n",
      "Name: Salary, dtype: int64\n"
     ]
    }
   ],
   "execution_count": 16
  },
  {
   "metadata": {
    "ExecuteTime": {
     "end_time": "2025-02-18T01:43:01.662283Z",
     "start_time": "2025-02-18T01:43:01.657716Z"
    }
   },
   "cell_type": "code",
   "source": [
    "x=pd.Series([7,3,5,8], index=['서울','대구','부산','광주'])\n",
    "print(x)\n",
    "print(x['서울'])\n",
    "print(x[['서울','부산']])"
   ],
   "id": "a47d05c2a7d2a1bc",
   "outputs": [
    {
     "name": "stdout",
     "output_type": "stream",
     "text": [
      "서울    7\n",
      "대구    3\n",
      "부산    5\n",
      "광주    8\n",
      "dtype: int64\n",
      "7\n",
      "서울    7\n",
      "부산    5\n",
      "dtype: int64\n"
     ]
    }
   ],
   "execution_count": 17
  },
  {
   "metadata": {
    "ExecuteTime": {
     "end_time": "2025-02-18T01:43:01.713419Z",
     "start_time": "2025-02-18T01:43:01.707320Z"
    }
   },
   "cell_type": "code",
   "source": [
    "x=pd.Series([7,3,5,8], index=['서울','대구','부산','광주'])\n",
    "y=pd.Series([2,4,5,1], index=['대구','부산','서울','대전'])\n",
    "print(x+y)"
   ],
   "id": "2d1e9a79efcc3bd9",
   "outputs": [
    {
     "name": "stdout",
     "output_type": "stream",
     "text": [
      "광주     NaN\n",
      "대구     5.0\n",
      "대전     NaN\n",
      "부산     9.0\n",
      "서울    12.0\n",
      "dtype: float64\n"
     ]
    }
   ],
   "execution_count": 18
  },
  {
   "metadata": {
    "ExecuteTime": {
     "end_time": "2025-02-18T01:43:01.750962Z",
     "start_time": "2025-02-18T01:43:01.747317Z"
    }
   },
   "cell_type": "code",
   "source": [
    "model=[1,3,2,4,2,3]\n",
    "x=pd.Series(model)\n",
    "print(pd.unique(x))\n",
    "# series를 슬라이스해도 index가 초기화 되지 않음\n",
    "a=x[3:6]\n",
    "print(a.index)"
   ],
   "id": "b8f046ffa121819f",
   "outputs": [
    {
     "name": "stdout",
     "output_type": "stream",
     "text": [
      "[1 3 2 4]\n",
      "RangeIndex(start=3, stop=6, step=1)\n"
     ]
    }
   ],
   "execution_count": 19
  },
  {
   "metadata": {
    "ExecuteTime": {
     "end_time": "2025-02-18T01:43:01.805761Z",
     "start_time": "2025-02-18T01:43:01.794475Z"
    }
   },
   "cell_type": "code",
   "source": [
    "#dataFrame에 들어가는 데이터는 dictionary 나 nparray\n",
    "data = {'names': ['민준', '현우', '서연', '동현', '지현'],\n",
    "'years': [2013, 2014, 2015, 2016, 2015],\n",
    "'points': [1.5, 1.7, 3.6, 2.4, 2.9]}\n",
    "df=pd.DataFrame(data)\n",
    "df"
   ],
   "id": "4ee1484a45254080",
   "outputs": [
    {
     "data": {
      "text/plain": [
       "  names  years  points\n",
       "0    민준   2013     1.5\n",
       "1    현우   2014     1.7\n",
       "2    서연   2015     3.6\n",
       "3    동현   2016     2.4\n",
       "4    지현   2015     2.9"
      ],
      "text/html": [
       "<div>\n",
       "<style scoped>\n",
       "    .dataframe tbody tr th:only-of-type {\n",
       "        vertical-align: middle;\n",
       "    }\n",
       "\n",
       "    .dataframe tbody tr th {\n",
       "        vertical-align: top;\n",
       "    }\n",
       "\n",
       "    .dataframe thead th {\n",
       "        text-align: right;\n",
       "    }\n",
       "</style>\n",
       "<table border=\"1\" class=\"dataframe\">\n",
       "  <thead>\n",
       "    <tr style=\"text-align: right;\">\n",
       "      <th></th>\n",
       "      <th>names</th>\n",
       "      <th>years</th>\n",
       "      <th>points</th>\n",
       "    </tr>\n",
       "  </thead>\n",
       "  <tbody>\n",
       "    <tr>\n",
       "      <th>0</th>\n",
       "      <td>민준</td>\n",
       "      <td>2013</td>\n",
       "      <td>1.5</td>\n",
       "    </tr>\n",
       "    <tr>\n",
       "      <th>1</th>\n",
       "      <td>현우</td>\n",
       "      <td>2014</td>\n",
       "      <td>1.7</td>\n",
       "    </tr>\n",
       "    <tr>\n",
       "      <th>2</th>\n",
       "      <td>서연</td>\n",
       "      <td>2015</td>\n",
       "      <td>3.6</td>\n",
       "    </tr>\n",
       "    <tr>\n",
       "      <th>3</th>\n",
       "      <td>동현</td>\n",
       "      <td>2016</td>\n",
       "      <td>2.4</td>\n",
       "    </tr>\n",
       "    <tr>\n",
       "      <th>4</th>\n",
       "      <td>지현</td>\n",
       "      <td>2015</td>\n",
       "      <td>2.9</td>\n",
       "    </tr>\n",
       "  </tbody>\n",
       "</table>\n",
       "</div>"
      ]
     },
     "execution_count": 20,
     "metadata": {},
     "output_type": "execute_result"
    }
   ],
   "execution_count": 20
  },
  {
   "metadata": {
    "ExecuteTime": {
     "end_time": "2025-02-18T01:43:01.868925Z",
     "start_time": "2025-02-18T01:43:01.858724Z"
    }
   },
   "cell_type": "code",
   "source": [
    "data2=[['민준','현우','서연','동현','지현'], [2013,2014,2015,2016,2015],\n",
    "[1.5,1.7,3.6,2.4,2.9]]\n",
    "data1=zip(data2[0],data2[1],data2[2])\n",
    "df2=pd.DataFrame(data1,columns=['names','years','points'])\n",
    "df2"
   ],
   "id": "d226a42f54a5414c",
   "outputs": [
    {
     "data": {
      "text/plain": [
       "  names  years  points\n",
       "0    민준   2013     1.5\n",
       "1    현우   2014     1.7\n",
       "2    서연   2015     3.6\n",
       "3    동현   2016     2.4\n",
       "4    지현   2015     2.9"
      ],
      "text/html": [
       "<div>\n",
       "<style scoped>\n",
       "    .dataframe tbody tr th:only-of-type {\n",
       "        vertical-align: middle;\n",
       "    }\n",
       "\n",
       "    .dataframe tbody tr th {\n",
       "        vertical-align: top;\n",
       "    }\n",
       "\n",
       "    .dataframe thead th {\n",
       "        text-align: right;\n",
       "    }\n",
       "</style>\n",
       "<table border=\"1\" class=\"dataframe\">\n",
       "  <thead>\n",
       "    <tr style=\"text-align: right;\">\n",
       "      <th></th>\n",
       "      <th>names</th>\n",
       "      <th>years</th>\n",
       "      <th>points</th>\n",
       "    </tr>\n",
       "  </thead>\n",
       "  <tbody>\n",
       "    <tr>\n",
       "      <th>0</th>\n",
       "      <td>민준</td>\n",
       "      <td>2013</td>\n",
       "      <td>1.5</td>\n",
       "    </tr>\n",
       "    <tr>\n",
       "      <th>1</th>\n",
       "      <td>현우</td>\n",
       "      <td>2014</td>\n",
       "      <td>1.7</td>\n",
       "    </tr>\n",
       "    <tr>\n",
       "      <th>2</th>\n",
       "      <td>서연</td>\n",
       "      <td>2015</td>\n",
       "      <td>3.6</td>\n",
       "    </tr>\n",
       "    <tr>\n",
       "      <th>3</th>\n",
       "      <td>동현</td>\n",
       "      <td>2016</td>\n",
       "      <td>2.4</td>\n",
       "    </tr>\n",
       "    <tr>\n",
       "      <th>4</th>\n",
       "      <td>지현</td>\n",
       "      <td>2015</td>\n",
       "      <td>2.9</td>\n",
       "    </tr>\n",
       "  </tbody>\n",
       "</table>\n",
       "</div>"
      ]
     },
     "execution_count": 21,
     "metadata": {},
     "output_type": "execute_result"
    }
   ],
   "execution_count": 21
  },
  {
   "metadata": {
    "ExecuteTime": {
     "end_time": "2025-02-18T01:43:01.965536Z",
     "start_time": "2025-02-18T01:43:01.958310Z"
    }
   },
   "cell_type": "code",
   "source": [
    "# row는 index column은 그대로 column\n",
    "# DataFrame을만들면서columns와index를설정할수있다.\n",
    "# columns 의 이름을 입력하는 dict 데이터의 key 에 맞추면 알아서 들어간다.\n",
    "df3=pd.DataFrame(data, columns=['years', 'names', 'points', 'penalty'], index=['one', 'two', 'three', 'four', 'five'])\n",
    "df3"
   ],
   "id": "991f84b81c97e6c6",
   "outputs": [
    {
     "data": {
      "text/plain": [
       "       years names  points penalty\n",
       "one     2013    민준     1.5     NaN\n",
       "two     2014    현우     1.7     NaN\n",
       "three   2015    서연     3.6     NaN\n",
       "four    2016    동현     2.4     NaN\n",
       "five    2015    지현     2.9     NaN"
      ],
      "text/html": [
       "<div>\n",
       "<style scoped>\n",
       "    .dataframe tbody tr th:only-of-type {\n",
       "        vertical-align: middle;\n",
       "    }\n",
       "\n",
       "    .dataframe tbody tr th {\n",
       "        vertical-align: top;\n",
       "    }\n",
       "\n",
       "    .dataframe thead th {\n",
       "        text-align: right;\n",
       "    }\n",
       "</style>\n",
       "<table border=\"1\" class=\"dataframe\">\n",
       "  <thead>\n",
       "    <tr style=\"text-align: right;\">\n",
       "      <th></th>\n",
       "      <th>years</th>\n",
       "      <th>names</th>\n",
       "      <th>points</th>\n",
       "      <th>penalty</th>\n",
       "    </tr>\n",
       "  </thead>\n",
       "  <tbody>\n",
       "    <tr>\n",
       "      <th>one</th>\n",
       "      <td>2013</td>\n",
       "      <td>민준</td>\n",
       "      <td>1.5</td>\n",
       "      <td>NaN</td>\n",
       "    </tr>\n",
       "    <tr>\n",
       "      <th>two</th>\n",
       "      <td>2014</td>\n",
       "      <td>현우</td>\n",
       "      <td>1.7</td>\n",
       "      <td>NaN</td>\n",
       "    </tr>\n",
       "    <tr>\n",
       "      <th>three</th>\n",
       "      <td>2015</td>\n",
       "      <td>서연</td>\n",
       "      <td>3.6</td>\n",
       "      <td>NaN</td>\n",
       "    </tr>\n",
       "    <tr>\n",
       "      <th>four</th>\n",
       "      <td>2016</td>\n",
       "      <td>동현</td>\n",
       "      <td>2.4</td>\n",
       "      <td>NaN</td>\n",
       "    </tr>\n",
       "    <tr>\n",
       "      <th>five</th>\n",
       "      <td>2015</td>\n",
       "      <td>지현</td>\n",
       "      <td>2.9</td>\n",
       "      <td>NaN</td>\n",
       "    </tr>\n",
       "  </tbody>\n",
       "</table>\n",
       "</div>"
      ]
     },
     "execution_count": 22,
     "metadata": {},
     "output_type": "execute_result"
    }
   ],
   "execution_count": 22
  },
  {
   "metadata": {
    "ExecuteTime": {
     "end_time": "2025-02-18T01:43:02.113516Z",
     "start_time": "2025-02-18T01:43:02.103489Z"
    }
   },
   "cell_type": "code",
   "source": [
    "# dataframe 의 내장함수\n",
    "df3.describe()"
   ],
   "id": "47214ae75fbc9801",
   "outputs": [
    {
     "data": {
      "text/plain": [
       "             years    points\n",
       "count     5.000000  5.000000\n",
       "mean   2014.600000  2.420000\n",
       "std       1.140175  0.864292\n",
       "min    2013.000000  1.500000\n",
       "25%    2014.000000  1.700000\n",
       "50%    2015.000000  2.400000\n",
       "75%    2015.000000  2.900000\n",
       "max    2016.000000  3.600000"
      ],
      "text/html": [
       "<div>\n",
       "<style scoped>\n",
       "    .dataframe tbody tr th:only-of-type {\n",
       "        vertical-align: middle;\n",
       "    }\n",
       "\n",
       "    .dataframe tbody tr th {\n",
       "        vertical-align: top;\n",
       "    }\n",
       "\n",
       "    .dataframe thead th {\n",
       "        text-align: right;\n",
       "    }\n",
       "</style>\n",
       "<table border=\"1\" class=\"dataframe\">\n",
       "  <thead>\n",
       "    <tr style=\"text-align: right;\">\n",
       "      <th></th>\n",
       "      <th>years</th>\n",
       "      <th>points</th>\n",
       "    </tr>\n",
       "  </thead>\n",
       "  <tbody>\n",
       "    <tr>\n",
       "      <th>count</th>\n",
       "      <td>5.000000</td>\n",
       "      <td>5.000000</td>\n",
       "    </tr>\n",
       "    <tr>\n",
       "      <th>mean</th>\n",
       "      <td>2014.600000</td>\n",
       "      <td>2.420000</td>\n",
       "    </tr>\n",
       "    <tr>\n",
       "      <th>std</th>\n",
       "      <td>1.140175</td>\n",
       "      <td>0.864292</td>\n",
       "    </tr>\n",
       "    <tr>\n",
       "      <th>min</th>\n",
       "      <td>2013.000000</td>\n",
       "      <td>1.500000</td>\n",
       "    </tr>\n",
       "    <tr>\n",
       "      <th>25%</th>\n",
       "      <td>2014.000000</td>\n",
       "      <td>1.700000</td>\n",
       "    </tr>\n",
       "    <tr>\n",
       "      <th>50%</th>\n",
       "      <td>2015.000000</td>\n",
       "      <td>2.400000</td>\n",
       "    </tr>\n",
       "    <tr>\n",
       "      <th>75%</th>\n",
       "      <td>2015.000000</td>\n",
       "      <td>2.900000</td>\n",
       "    </tr>\n",
       "    <tr>\n",
       "      <th>max</th>\n",
       "      <td>2016.000000</td>\n",
       "      <td>3.600000</td>\n",
       "    </tr>\n",
       "  </tbody>\n",
       "</table>\n",
       "</div>"
      ]
     },
     "execution_count": 23,
     "metadata": {},
     "output_type": "execute_result"
    }
   ],
   "execution_count": 23
  },
  {
   "metadata": {
    "ExecuteTime": {
     "end_time": "2025-02-18T01:43:02.203736Z",
     "start_time": "2025-02-18T01:43:02.197030Z"
    }
   },
   "cell_type": "code",
   "source": [
    "# 열에 대입(빈 데이터 NaN 에 채우거나 변경)\n",
    "df3['penalty'] = 0.5\n",
    "print(df3)\n",
    "test_list = [0.1,0.2,0.3,0.4,0.5]\n",
    "# list 나 nparray 대입가능\n",
    "df3.penalty = test_list\n",
    "print(df3)"
   ],
   "id": "1fa5765ec02371e5",
   "outputs": [
    {
     "name": "stdout",
     "output_type": "stream",
     "text": [
      "       years names  points  penalty\n",
      "one     2013    민준     1.5      0.5\n",
      "two     2014    현우     1.7      0.5\n",
      "three   2015    서연     3.6      0.5\n",
      "four    2016    동현     2.4      0.5\n",
      "five    2015    지현     2.9      0.5\n",
      "       years names  points  penalty\n",
      "one     2013    민준     1.5      0.1\n",
      "two     2014    현우     1.7      0.2\n",
      "three   2015    서연     3.6      0.3\n",
      "four    2016    동현     2.4      0.4\n",
      "five    2015    지현     2.9      0.5\n"
     ]
    }
   ],
   "execution_count": 24
  },
  {
   "metadata": {
    "ExecuteTime": {
     "end_time": "2025-02-18T01:43:02.347405Z",
     "start_time": "2025-02-18T01:43:02.337796Z"
    }
   },
   "cell_type": "code",
   "source": [
    "#없어도 생성 가능\n",
    "df3['zeros'] = np.arange(5)\n",
    "df3"
   ],
   "id": "e3f130258b7cb851",
   "outputs": [
    {
     "data": {
      "text/plain": [
       "       years names  points  penalty  zeros\n",
       "one     2013    민준     1.5      0.1      0\n",
       "two     2014    현우     1.7      0.2      1\n",
       "three   2015    서연     3.6      0.3      2\n",
       "four    2016    동현     2.4      0.4      3\n",
       "five    2015    지현     2.9      0.5      4"
      ],
      "text/html": [
       "<div>\n",
       "<style scoped>\n",
       "    .dataframe tbody tr th:only-of-type {\n",
       "        vertical-align: middle;\n",
       "    }\n",
       "\n",
       "    .dataframe tbody tr th {\n",
       "        vertical-align: top;\n",
       "    }\n",
       "\n",
       "    .dataframe thead th {\n",
       "        text-align: right;\n",
       "    }\n",
       "</style>\n",
       "<table border=\"1\" class=\"dataframe\">\n",
       "  <thead>\n",
       "    <tr style=\"text-align: right;\">\n",
       "      <th></th>\n",
       "      <th>years</th>\n",
       "      <th>names</th>\n",
       "      <th>points</th>\n",
       "      <th>penalty</th>\n",
       "      <th>zeros</th>\n",
       "    </tr>\n",
       "  </thead>\n",
       "  <tbody>\n",
       "    <tr>\n",
       "      <th>one</th>\n",
       "      <td>2013</td>\n",
       "      <td>민준</td>\n",
       "      <td>1.5</td>\n",
       "      <td>0.1</td>\n",
       "      <td>0</td>\n",
       "    </tr>\n",
       "    <tr>\n",
       "      <th>two</th>\n",
       "      <td>2014</td>\n",
       "      <td>현우</td>\n",
       "      <td>1.7</td>\n",
       "      <td>0.2</td>\n",
       "      <td>1</td>\n",
       "    </tr>\n",
       "    <tr>\n",
       "      <th>three</th>\n",
       "      <td>2015</td>\n",
       "      <td>서연</td>\n",
       "      <td>3.6</td>\n",
       "      <td>0.3</td>\n",
       "      <td>2</td>\n",
       "    </tr>\n",
       "    <tr>\n",
       "      <th>four</th>\n",
       "      <td>2016</td>\n",
       "      <td>동현</td>\n",
       "      <td>2.4</td>\n",
       "      <td>0.4</td>\n",
       "      <td>3</td>\n",
       "    </tr>\n",
       "    <tr>\n",
       "      <th>five</th>\n",
       "      <td>2015</td>\n",
       "      <td>지현</td>\n",
       "      <td>2.9</td>\n",
       "      <td>0.5</td>\n",
       "      <td>4</td>\n",
       "    </tr>\n",
       "  </tbody>\n",
       "</table>\n",
       "</div>"
      ]
     },
     "execution_count": 25,
     "metadata": {},
     "output_type": "execute_result"
    }
   ],
   "execution_count": 25
  },
  {
   "metadata": {
    "ExecuteTime": {
     "end_time": "2025-02-18T01:43:02.431649Z",
     "start_time": "2025-02-18T01:43:02.426102Z"
    }
   },
   "cell_type": "code",
   "source": [
    "# pdSeries 의 인덱스가 dataframe 의 인덱스에 맞춰서 들어감\n",
    "input_series = pd.Series(['부산','서울','대구','광주','대전'], index=['one', 'two', 'three', 'four', 'five'])\n",
    "df3['location'] = input_series\n",
    "print(df3)"
   ],
   "id": "fd339036e3f6ecc",
   "outputs": [
    {
     "name": "stdout",
     "output_type": "stream",
     "text": [
      "       years names  points  penalty  zeros location\n",
      "one     2013    민준     1.5      0.1      0       부산\n",
      "two     2014    현우     1.7      0.2      1       서울\n",
      "three   2015    서연     3.6      0.3      2       대구\n",
      "four    2016    동현     2.4      0.4      3       광주\n",
      "five    2015    지현     2.9      0.5      4       대전\n"
     ]
    }
   ],
   "execution_count": 26
  },
  {
   "metadata": {
    "ExecuteTime": {
     "end_time": "2025-02-18T01:43:02.557106Z",
     "start_time": "2025-02-18T01:43:02.547934Z"
    }
   },
   "cell_type": "code",
   "source": [
    "# 연산으로 새 column 추가\n",
    "df3['net_points'] = df3['points'] - df3['penalty']\n",
    "df3"
   ],
   "id": "cb938e84e2dce99f",
   "outputs": [
    {
     "data": {
      "text/plain": [
       "       years names  points  penalty  zeros location  net_points\n",
       "one     2013    민준     1.5      0.1      0       부산         1.4\n",
       "two     2014    현우     1.7      0.2      1       서울         1.5\n",
       "three   2015    서연     3.6      0.3      2       대구         3.3\n",
       "four    2016    동현     2.4      0.4      3       광주         2.0\n",
       "five    2015    지현     2.9      0.5      4       대전         2.4"
      ],
      "text/html": [
       "<div>\n",
       "<style scoped>\n",
       "    .dataframe tbody tr th:only-of-type {\n",
       "        vertical-align: middle;\n",
       "    }\n",
       "\n",
       "    .dataframe tbody tr th {\n",
       "        vertical-align: top;\n",
       "    }\n",
       "\n",
       "    .dataframe thead th {\n",
       "        text-align: right;\n",
       "    }\n",
       "</style>\n",
       "<table border=\"1\" class=\"dataframe\">\n",
       "  <thead>\n",
       "    <tr style=\"text-align: right;\">\n",
       "      <th></th>\n",
       "      <th>years</th>\n",
       "      <th>names</th>\n",
       "      <th>points</th>\n",
       "      <th>penalty</th>\n",
       "      <th>zeros</th>\n",
       "      <th>location</th>\n",
       "      <th>net_points</th>\n",
       "    </tr>\n",
       "  </thead>\n",
       "  <tbody>\n",
       "    <tr>\n",
       "      <th>one</th>\n",
       "      <td>2013</td>\n",
       "      <td>민준</td>\n",
       "      <td>1.5</td>\n",
       "      <td>0.1</td>\n",
       "      <td>0</td>\n",
       "      <td>부산</td>\n",
       "      <td>1.4</td>\n",
       "    </tr>\n",
       "    <tr>\n",
       "      <th>two</th>\n",
       "      <td>2014</td>\n",
       "      <td>현우</td>\n",
       "      <td>1.7</td>\n",
       "      <td>0.2</td>\n",
       "      <td>1</td>\n",
       "      <td>서울</td>\n",
       "      <td>1.5</td>\n",
       "    </tr>\n",
       "    <tr>\n",
       "      <th>three</th>\n",
       "      <td>2015</td>\n",
       "      <td>서연</td>\n",
       "      <td>3.6</td>\n",
       "      <td>0.3</td>\n",
       "      <td>2</td>\n",
       "      <td>대구</td>\n",
       "      <td>3.3</td>\n",
       "    </tr>\n",
       "    <tr>\n",
       "      <th>four</th>\n",
       "      <td>2016</td>\n",
       "      <td>동현</td>\n",
       "      <td>2.4</td>\n",
       "      <td>0.4</td>\n",
       "      <td>3</td>\n",
       "      <td>광주</td>\n",
       "      <td>2.0</td>\n",
       "    </tr>\n",
       "    <tr>\n",
       "      <th>five</th>\n",
       "      <td>2015</td>\n",
       "      <td>지현</td>\n",
       "      <td>2.9</td>\n",
       "      <td>0.5</td>\n",
       "      <td>4</td>\n",
       "      <td>대전</td>\n",
       "      <td>2.4</td>\n",
       "    </tr>\n",
       "  </tbody>\n",
       "</table>\n",
       "</div>"
      ]
     },
     "execution_count": 27,
     "metadata": {},
     "output_type": "execute_result"
    }
   ],
   "execution_count": 27
  },
  {
   "metadata": {
    "ExecuteTime": {
     "end_time": "2025-02-18T01:43:02.644057Z",
     "start_time": "2025-02-18T01:43:02.635545Z"
    }
   },
   "cell_type": "code",
   "source": [
    "# 열 삭제는 del\n",
    "del df3['zeros']\n",
    "df3"
   ],
   "id": "8657d7362d291072",
   "outputs": [
    {
     "data": {
      "text/plain": [
       "       years names  points  penalty location  net_points\n",
       "one     2013    민준     1.5      0.1       부산         1.4\n",
       "two     2014    현우     1.7      0.2       서울         1.5\n",
       "three   2015    서연     3.6      0.3       대구         3.3\n",
       "four    2016    동현     2.4      0.4       광주         2.0\n",
       "five    2015    지현     2.9      0.5       대전         2.4"
      ],
      "text/html": [
       "<div>\n",
       "<style scoped>\n",
       "    .dataframe tbody tr th:only-of-type {\n",
       "        vertical-align: middle;\n",
       "    }\n",
       "\n",
       "    .dataframe tbody tr th {\n",
       "        vertical-align: top;\n",
       "    }\n",
       "\n",
       "    .dataframe thead th {\n",
       "        text-align: right;\n",
       "    }\n",
       "</style>\n",
       "<table border=\"1\" class=\"dataframe\">\n",
       "  <thead>\n",
       "    <tr style=\"text-align: right;\">\n",
       "      <th></th>\n",
       "      <th>years</th>\n",
       "      <th>names</th>\n",
       "      <th>points</th>\n",
       "      <th>penalty</th>\n",
       "      <th>location</th>\n",
       "      <th>net_points</th>\n",
       "    </tr>\n",
       "  </thead>\n",
       "  <tbody>\n",
       "    <tr>\n",
       "      <th>one</th>\n",
       "      <td>2013</td>\n",
       "      <td>민준</td>\n",
       "      <td>1.5</td>\n",
       "      <td>0.1</td>\n",
       "      <td>부산</td>\n",
       "      <td>1.4</td>\n",
       "    </tr>\n",
       "    <tr>\n",
       "      <th>two</th>\n",
       "      <td>2014</td>\n",
       "      <td>현우</td>\n",
       "      <td>1.7</td>\n",
       "      <td>0.2</td>\n",
       "      <td>서울</td>\n",
       "      <td>1.5</td>\n",
       "    </tr>\n",
       "    <tr>\n",
       "      <th>three</th>\n",
       "      <td>2015</td>\n",
       "      <td>서연</td>\n",
       "      <td>3.6</td>\n",
       "      <td>0.3</td>\n",
       "      <td>대구</td>\n",
       "      <td>3.3</td>\n",
       "    </tr>\n",
       "    <tr>\n",
       "      <th>four</th>\n",
       "      <td>2016</td>\n",
       "      <td>동현</td>\n",
       "      <td>2.4</td>\n",
       "      <td>0.4</td>\n",
       "      <td>광주</td>\n",
       "      <td>2.0</td>\n",
       "    </tr>\n",
       "    <tr>\n",
       "      <th>five</th>\n",
       "      <td>2015</td>\n",
       "      <td>지현</td>\n",
       "      <td>2.9</td>\n",
       "      <td>0.5</td>\n",
       "      <td>대전</td>\n",
       "      <td>2.4</td>\n",
       "    </tr>\n",
       "  </tbody>\n",
       "</table>\n",
       "</div>"
      ]
     },
     "execution_count": 28,
     "metadata": {},
     "output_type": "execute_result"
    }
   ],
   "execution_count": 28
  },
  {
   "metadata": {
    "ExecuteTime": {
     "end_time": "2025-02-18T01:43:02.783821Z",
     "start_time": "2025-02-18T01:43:02.776675Z"
    }
   },
   "cell_type": "code",
   "source": [
    "# 인덱스 이름, 인덱스 변경 columns 이름 변경 가능\n",
    "# np에서와 마찬가지로\n",
    "print(df3[0:3])\n",
    "# 위의 방법으로는 행만 조절 가능, 열은 고를 수 없기에 loc 함수를 사용\n",
    "df3.loc['two':'three','location']"
   ],
   "id": "e436a2232279b4fe",
   "outputs": [
    {
     "name": "stdout",
     "output_type": "stream",
     "text": [
      "       years names  points  penalty location  net_points\n",
      "one     2013    민준     1.5      0.1       부산         1.4\n",
      "two     2014    현우     1.7      0.2       서울         1.5\n",
      "three   2015    서연     3.6      0.3       대구         3.3\n"
     ]
    },
    {
     "data": {
      "text/plain": [
       "two      서울\n",
       "three    대구\n",
       "Name: location, dtype: object"
      ]
     },
     "execution_count": 29,
     "metadata": {},
     "output_type": "execute_result"
    }
   ],
   "execution_count": 29
  },
  {
   "metadata": {
    "ExecuteTime": {
     "end_time": "2025-02-18T01:43:02.909700Z",
     "start_time": "2025-02-18T01:43:02.899457Z"
    }
   },
   "cell_type": "code",
   "source": [
    "# 행 삽입은 열 갯수를 맞춰야함\n",
    "df3.loc['six',:] = [2013,'Jun',4.0,0.1,'부산',3.9]\n",
    "df3"
   ],
   "id": "dc7854f94b515049",
   "outputs": [
    {
     "data": {
      "text/plain": [
       "        years names  points  penalty location  net_points\n",
       "one    2013.0    민준     1.5      0.1       부산         1.4\n",
       "two    2014.0    현우     1.7      0.2       서울         1.5\n",
       "three  2015.0    서연     3.6      0.3       대구         3.3\n",
       "four   2016.0    동현     2.4      0.4       광주         2.0\n",
       "five   2015.0    지현     2.9      0.5       대전         2.4\n",
       "six    2013.0   Jun     4.0      0.1       부산         3.9"
      ],
      "text/html": [
       "<div>\n",
       "<style scoped>\n",
       "    .dataframe tbody tr th:only-of-type {\n",
       "        vertical-align: middle;\n",
       "    }\n",
       "\n",
       "    .dataframe tbody tr th {\n",
       "        vertical-align: top;\n",
       "    }\n",
       "\n",
       "    .dataframe thead th {\n",
       "        text-align: right;\n",
       "    }\n",
       "</style>\n",
       "<table border=\"1\" class=\"dataframe\">\n",
       "  <thead>\n",
       "    <tr style=\"text-align: right;\">\n",
       "      <th></th>\n",
       "      <th>years</th>\n",
       "      <th>names</th>\n",
       "      <th>points</th>\n",
       "      <th>penalty</th>\n",
       "      <th>location</th>\n",
       "      <th>net_points</th>\n",
       "    </tr>\n",
       "  </thead>\n",
       "  <tbody>\n",
       "    <tr>\n",
       "      <th>one</th>\n",
       "      <td>2013.0</td>\n",
       "      <td>민준</td>\n",
       "      <td>1.5</td>\n",
       "      <td>0.1</td>\n",
       "      <td>부산</td>\n",
       "      <td>1.4</td>\n",
       "    </tr>\n",
       "    <tr>\n",
       "      <th>two</th>\n",
       "      <td>2014.0</td>\n",
       "      <td>현우</td>\n",
       "      <td>1.7</td>\n",
       "      <td>0.2</td>\n",
       "      <td>서울</td>\n",
       "      <td>1.5</td>\n",
       "    </tr>\n",
       "    <tr>\n",
       "      <th>three</th>\n",
       "      <td>2015.0</td>\n",
       "      <td>서연</td>\n",
       "      <td>3.6</td>\n",
       "      <td>0.3</td>\n",
       "      <td>대구</td>\n",
       "      <td>3.3</td>\n",
       "    </tr>\n",
       "    <tr>\n",
       "      <th>four</th>\n",
       "      <td>2016.0</td>\n",
       "      <td>동현</td>\n",
       "      <td>2.4</td>\n",
       "      <td>0.4</td>\n",
       "      <td>광주</td>\n",
       "      <td>2.0</td>\n",
       "    </tr>\n",
       "    <tr>\n",
       "      <th>five</th>\n",
       "      <td>2015.0</td>\n",
       "      <td>지현</td>\n",
       "      <td>2.9</td>\n",
       "      <td>0.5</td>\n",
       "      <td>대전</td>\n",
       "      <td>2.4</td>\n",
       "    </tr>\n",
       "    <tr>\n",
       "      <th>six</th>\n",
       "      <td>2013.0</td>\n",
       "      <td>Jun</td>\n",
       "      <td>4.0</td>\n",
       "      <td>0.1</td>\n",
       "      <td>부산</td>\n",
       "      <td>3.9</td>\n",
       "    </tr>\n",
       "  </tbody>\n",
       "</table>\n",
       "</div>"
      ]
     },
     "execution_count": 30,
     "metadata": {},
     "output_type": "execute_result"
    }
   ],
   "execution_count": 30
  },
  {
   "metadata": {
    "ExecuteTime": {
     "end_time": "2025-02-18T01:43:03.081081Z",
     "start_time": "2025-02-18T01:43:03.073431Z"
    }
   },
   "cell_type": "code",
   "source": [
    "# 논리 연산 가능\n",
    "df3.loc[(df3['points']>3)&(df3['penalty']<3),:]"
   ],
   "id": "3074940af3eb06dc",
   "outputs": [
    {
     "data": {
      "text/plain": [
       "        years names  points  penalty location  net_points\n",
       "three  2015.0    서연     3.6      0.3       대구         3.3\n",
       "six    2013.0   Jun     4.0      0.1       부산         3.9"
      ],
      "text/html": [
       "<div>\n",
       "<style scoped>\n",
       "    .dataframe tbody tr th:only-of-type {\n",
       "        vertical-align: middle;\n",
       "    }\n",
       "\n",
       "    .dataframe tbody tr th {\n",
       "        vertical-align: top;\n",
       "    }\n",
       "\n",
       "    .dataframe thead th {\n",
       "        text-align: right;\n",
       "    }\n",
       "</style>\n",
       "<table border=\"1\" class=\"dataframe\">\n",
       "  <thead>\n",
       "    <tr style=\"text-align: right;\">\n",
       "      <th></th>\n",
       "      <th>years</th>\n",
       "      <th>names</th>\n",
       "      <th>points</th>\n",
       "      <th>penalty</th>\n",
       "      <th>location</th>\n",
       "      <th>net_points</th>\n",
       "    </tr>\n",
       "  </thead>\n",
       "  <tbody>\n",
       "    <tr>\n",
       "      <th>three</th>\n",
       "      <td>2015.0</td>\n",
       "      <td>서연</td>\n",
       "      <td>3.6</td>\n",
       "      <td>0.3</td>\n",
       "      <td>대구</td>\n",
       "      <td>3.3</td>\n",
       "    </tr>\n",
       "    <tr>\n",
       "      <th>six</th>\n",
       "      <td>2013.0</td>\n",
       "      <td>Jun</td>\n",
       "      <td>4.0</td>\n",
       "      <td>0.1</td>\n",
       "      <td>부산</td>\n",
       "      <td>3.9</td>\n",
       "    </tr>\n",
       "  </tbody>\n",
       "</table>\n",
       "</div>"
      ]
     },
     "execution_count": 31,
     "metadata": {},
     "output_type": "execute_result"
    }
   ],
   "execution_count": 31
  },
  {
   "metadata": {
    "ExecuteTime": {
     "end_time": "2025-02-18T01:43:03.180699Z",
     "start_time": "2025-02-18T01:43:03.174412Z"
    }
   },
   "cell_type": "code",
   "source": [
    "# 거기에 대입도 가능\n",
    "df3.loc[(df3['points']>3)&(df3['penalty']<3),'penalty'] = 0\n",
    "print(df3)"
   ],
   "id": "c125888b3f36e0d3",
   "outputs": [
    {
     "name": "stdout",
     "output_type": "stream",
     "text": [
      "        years names  points  penalty location  net_points\n",
      "one    2013.0    민준     1.5      0.1       부산         1.4\n",
      "two    2014.0    현우     1.7      0.2       서울         1.5\n",
      "three  2015.0    서연     3.6      0.0       대구         3.3\n",
      "four   2016.0    동현     2.4      0.4       광주         2.0\n",
      "five   2015.0    지현     2.9      0.5       대전         2.4\n",
      "six    2013.0   Jun     4.0      0.0       부산         3.9\n"
     ]
    }
   ],
   "execution_count": 32
  },
  {
   "metadata": {
    "ExecuteTime": {
     "end_time": "2025-02-18T01:52:28.052803Z",
     "start_time": "2025-02-18T01:52:28.031983Z"
    }
   },
   "cell_type": "code",
   "source": [
    "df4 = pd.DataFrame(np.random.randn(6,4))\n",
    "df4.columns=['A', 'B', 'C', 'D']\n",
    "df4.index=pd.date_range('20160701',periods=6)\n",
    "df4['F'] = [1.0,np.nan,3.5,6.1,np.nan,7.0]\n",
    "# 주의점 dropna 는 drop한 결과를 새로운 dataframe 으로 반환 기존이 변경되는것이 아님\n",
    "print(df4.dropna(how='all'))\n",
    "print(df4.dropna(how='any'))\n",
    "# 여긴 전부 마찬가지로 새로운 dataframe 반환\n",
    "df4.fillna(0.5)\n",
    "df4.drop(pd.to_datetime(['20160701','20160702','20160703']))\n",
    "df4.drop('F',axis=1)\n",
    "print(df4.groupby('A').mean())\n",
    "print(df4)"
   ],
   "id": "83c6084f7d1e9129",
   "outputs": [
    {
     "name": "stdout",
     "output_type": "stream",
     "text": [
      "                   A         B         C         D    F\n",
      "2016-07-01  0.381076 -0.063764 -1.918128 -1.638498  1.0\n",
      "2016-07-02  1.033910  1.271806 -0.143775  0.273890  NaN\n",
      "2016-07-03 -0.150410  3.241423 -1.219041  0.924885  3.5\n",
      "2016-07-04  0.756835  0.559115  0.934820  0.130246  6.1\n",
      "2016-07-05  0.079396 -1.319140  0.462319 -0.837892  NaN\n",
      "2016-07-06  1.108658  0.127344  0.615100 -0.770560  7.0\n",
      "                   A         B         C         D    F\n",
      "2016-07-01  0.381076 -0.063764 -1.918128 -1.638498  1.0\n",
      "2016-07-03 -0.150410  3.241423 -1.219041  0.924885  3.5\n",
      "2016-07-04  0.756835  0.559115  0.934820  0.130246  6.1\n",
      "2016-07-06  1.108658  0.127344  0.615100 -0.770560  7.0\n",
      "                  B         C         D    F\n",
      "A                                           \n",
      "-0.150410  3.241423 -1.219041  0.924885  3.5\n",
      " 0.079396 -1.319140  0.462319 -0.837892  NaN\n",
      " 0.381076 -0.063764 -1.918128 -1.638498  1.0\n",
      " 0.756835  0.559115  0.934820  0.130246  6.1\n",
      " 1.033910  1.271806 -0.143775  0.273890  NaN\n",
      " 1.108658  0.127344  0.615100 -0.770560  7.0\n",
      "                   A         B         C         D    F\n",
      "2016-07-01  0.381076 -0.063764 -1.918128 -1.638498  1.0\n",
      "2016-07-02  1.033910  1.271806 -0.143775  0.273890  NaN\n",
      "2016-07-03 -0.150410  3.241423 -1.219041  0.924885  3.5\n",
      "2016-07-04  0.756835  0.559115  0.934820  0.130246  6.1\n",
      "2016-07-05  0.079396 -1.319140  0.462319 -0.837892  NaN\n",
      "2016-07-06  1.108658  0.127344  0.615100 -0.770560  7.0\n"
     ]
    }
   ],
   "execution_count": 60
  },
  {
   "metadata": {},
   "cell_type": "code",
   "outputs": [],
   "execution_count": null,
   "source": [
    "# dataframe 내장함수\n",
    "# sum() 함수이외에도pandas에서DataFrame에적용되는함수는다음의것들이있다.\n",
    "# count 전체성분의(NaN이아닌) 값의갯수를계산\n",
    "# min, max 전체성분의최솟, 최댓값을계산\n",
    "# argmin, argmax 전체성분의최솟값, 최댓값이위치한(정수)인덱스를반환\n",
    "# idxmin, idxmax 전체인덱스중최솟값, 최댓값을반환\n",
    "# quantile 전체성분의특정사분위수에해당하는값을반환(0~1 사이)\n",
    "# sum 전체성분의합을계산\n",
    "# mean 전체성분의평균을계산\n",
    "# median 전체성분의중간값을반환\n",
    "# mad 전체성분의평균값으로부터의절대편차(absolute deviation)의평균을계산\n",
    "# std, var 전체성분의표준편차, 분산을계산\n",
    "# cumsum 맨첫번째성분부터각성분까지의누적합을계산(0에서부터계속더해짐)\n",
    "# cumprod 맨첫번째성분부터각성분까지의누적곱을계산(1에서부터계속곱해짐\n",
    "# corr() 상관계수\n",
    "# cov() 공분산\n",
    "# sort_index(axis) 0은 종, 1은 횡\n",
    "# groupby()\n",
    "# 사용자 정의 함수 적용 apply(function,axis)"
   ],
   "id": "7fb4b3790664c257"
  },
  {
   "metadata": {
    "ExecuteTime": {
     "end_time": "2025-02-18T05:25:19.381165Z",
     "start_time": "2025-02-18T05:25:19.371478Z"
    }
   },
   "cell_type": "code",
   "source": [
    "# matplot\n",
    "s=pd.Series(np.random.randn(10).cumsum(), index=np.arange(0,100,10))\n",
    "s"
   ],
   "id": "56ac08366f5908a0",
   "outputs": [
    {
     "data": {
      "text/plain": [
       "0     0.889043\n",
       "10    1.467297\n",
       "20    2.141032\n",
       "30    1.078615\n",
       "40   -0.363676\n",
       "50   -0.046284\n",
       "60    0.195494\n",
       "70   -0.207495\n",
       "80   -1.028265\n",
       "90   -2.288666\n",
       "dtype: float64"
      ]
     },
     "execution_count": 2,
     "metadata": {},
     "output_type": "execute_result"
    }
   ],
   "execution_count": 2
  },
  {
   "metadata": {
    "ExecuteTime": {
     "end_time": "2025-02-18T05:31:16.151134Z",
     "start_time": "2025-02-18T05:31:15.997743Z"
    }
   },
   "cell_type": "code",
   "source": [
    "df5 = pd.DataFrame(np.random.randn(10,4), columns=['A', 'B', 'C', 'D'], index=np.arange(0,100,10))\n",
    "df5.plot()"
   ],
   "id": "d103c1aa8046583c",
   "outputs": [
    {
     "data": {
      "text/plain": [
       "<Axes: >"
      ]
     },
     "execution_count": 3,
     "metadata": {},
     "output_type": "execute_result"
    },
    {
     "data": {
      "text/plain": [
       "<Figure size 640x480 with 1 Axes>"
      ],
      "image/png": "[encoded data removed]"
     },
     "metadata": {},
     "output_type": "display_data"
    }
   ],
   "execution_count": 3
  },
  {
   "metadata": {
    "ExecuteTime": {
     "end_time": "2025-02-18T05:30:43.080253Z",
     "start_time": "2025-02-18T05:30:43.077539Z"
    }
   },
   "cell_type": "code",
   "source": "# %matplotlib nbagg",
   "id": "dc86a4287c26c376",
   "outputs": [],
   "execution_count": 14
  },
  {
   "metadata": {
    "ExecuteTime": {
     "end_time": "2025-02-18T05:31:23.168349Z",
     "start_time": "2025-02-18T05:31:23.082844Z"
    }
   },
   "cell_type": "code",
   "source": "df5['C'].plot()",
   "id": "d89a3cc394b0bcdd",
   "outputs": [
    {
     "data": {
      "text/plain": [
       "<Axes: >"
      ]
     },
     "execution_count": 5,
     "metadata": {},
     "output_type": "execute_result"
    },
    {
     "data": {
      "text/plain": [
       "<Figure size 640x480 with 1 Axes>"
      ],
      "image/png": "[encoded data removed]"
     },
     "metadata": {},
     "output_type": "display_data"
    }
   ],
   "execution_count": 5
  },
  {
   "metadata": {
    "ExecuteTime": {
     "end_time": "2025-02-18T05:38:12.215747Z",
     "start_time": "2025-02-18T05:38:12.086521Z"
    }
   },
   "cell_type": "code",
   "source": [
    "s2=pd.Series(np.random.rand(16),index=list('abcdefghijklmnop'))\n",
    "s2.plot(kind='bar')\n",
    "# s2.plot(kind='barh')"
   ],
   "id": "15c47e5602f88318",
   "outputs": [
    {
     "data": {
      "text/plain": [
       "<Axes: >"
      ]
     },
     "execution_count": 24,
     "metadata": {},
     "output_type": "execute_result"
    },
    {
     "data": {
      "text/plain": [
       "<Figure size 640x480 with 1 Axes>"
      ],
      "image/png": "[encoded data removed]"
     },
     "metadata": {},
     "output_type": "display_data"
    }
   ],
   "execution_count": 24
  },
  {
   "metadata": {
    "ExecuteTime": {
     "end_time": "2025-02-18T05:39:49.535964Z",
     "start_time": "2025-02-18T05:39:49.533088Z"
    }
   },
   "cell_type": "code",
   "source": [
    "font_path = \"C:/Windows/Fonts/gulim.ttc\"\n",
    "font_prop = fm.FontProperties(fname=font_path)\n",
    "plt.rcParams['font.size'] = 15\n",
    "plt.rcParams['font.family'] = font_prop.get_name()\n",
    "plt.rcParams['axes.unicode_minus']=False"
   ],
   "id": "dff5f6c2e86a292b",
   "outputs": [],
   "execution_count": 30
  },
  {
   "metadata": {
    "ExecuteTime": {
     "end_time": "2025-02-18T06:02:44.072430Z",
     "start_time": "2025-02-18T06:02:43.840166Z"
    }
   },
   "cell_type": "code",
   "source": [
    "# 히스토그램:x변수가가질수있는값의구간, 갯수를막대형태로출력\n",
    "# 히스토그램은값만필요하고인텍스는필요하지않음\n",
    "# normal() 정규분포\n",
    "s3=pd.Series(np.random.normal(0,100,size=200))\n",
    "s3.hist(bins=50, normed=True)"
   ],
   "id": "60b3ad0dfc1b9035",
   "outputs": [
    {
     "ename": "AttributeError",
     "evalue": "Rectangle.set() got an unexpected keyword argument 'normed'",
     "output_type": "error",
     "traceback": [
      "\u001B[1;31m---------------------------------------------------------------------------\u001B[0m",
      "\u001B[1;31mAttributeError\u001B[0m                            Traceback (most recent call last)",
      "Cell \u001B[1;32mIn[58], line 5\u001B[0m\n\u001B[0;32m      1\u001B[0m \u001B[38;5;66;03m# 히스토그램:x변수가가질수있는값의구간, 갯수를막대형태로출력\u001B[39;00m\n\u001B[0;32m      2\u001B[0m \u001B[38;5;66;03m# 히스토그램은값만필요하고인텍스는필요하지않음\u001B[39;00m\n\u001B[0;32m      3\u001B[0m \u001B[38;5;66;03m# normal() 정규분포\u001B[39;00m\n\u001B[0;32m      4\u001B[0m s3\u001B[38;5;241m=\u001B[39mpd\u001B[38;5;241m.\u001B[39mSeries(np\u001B[38;5;241m.\u001B[39mrandom\u001B[38;5;241m.\u001B[39mnormal(\u001B[38;5;241m0\u001B[39m,\u001B[38;5;241m100\u001B[39m,size\u001B[38;5;241m=\u001B[39m\u001B[38;5;241m200\u001B[39m))\n\u001B[1;32m----> 5\u001B[0m \u001B[43ms3\u001B[49m\u001B[38;5;241;43m.\u001B[39;49m\u001B[43mhist\u001B[49m\u001B[43m(\u001B[49m\u001B[43mbins\u001B[49m\u001B[38;5;241;43m=\u001B[39;49m\u001B[38;5;241;43m50\u001B[39;49m\u001B[43m,\u001B[49m\u001B[43m \u001B[49m\u001B[43mnormed\u001B[49m\u001B[38;5;241;43m=\u001B[39;49m\u001B[38;5;28;43;01mTrue\u001B[39;49;00m\u001B[43m)\u001B[49m\n",
      "File \u001B[1;32m~\\Desktop\\Yuu_Yur_Python_workspace\\Python_Practice_PyCharm\\.venv\\Lib\\site-packages\\pandas\\plotting\\_core.py:129\u001B[0m, in \u001B[0;36mhist_series\u001B[1;34m(self, by, ax, grid, xlabelsize, xrot, ylabelsize, yrot, figsize, bins, backend, legend, **kwargs)\u001B[0m\n\u001B[0;32m     62\u001B[0m \u001B[38;5;250m\u001B[39m\u001B[38;5;124;03m\"\"\"\u001B[39;00m\n\u001B[0;32m     63\u001B[0m \u001B[38;5;124;03mDraw histogram of the input series using matplotlib.\u001B[39;00m\n\u001B[0;32m     64\u001B[0m \n\u001B[1;32m   (...)\u001B[0m\n\u001B[0;32m    126\u001B[0m \u001B[38;5;124;03m    >>> hist = ser.groupby(level=0).hist()\u001B[39;00m\n\u001B[0;32m    127\u001B[0m \u001B[38;5;124;03m\"\"\"\u001B[39;00m\n\u001B[0;32m    128\u001B[0m plot_backend \u001B[38;5;241m=\u001B[39m _get_plot_backend(backend)\n\u001B[1;32m--> 129\u001B[0m \u001B[38;5;28;01mreturn\u001B[39;00m \u001B[43mplot_backend\u001B[49m\u001B[38;5;241;43m.\u001B[39;49m\u001B[43mhist_series\u001B[49m\u001B[43m(\u001B[49m\n\u001B[0;32m    130\u001B[0m \u001B[43m    \u001B[49m\u001B[38;5;28;43mself\u001B[39;49m\u001B[43m,\u001B[49m\n\u001B[0;32m    131\u001B[0m \u001B[43m    \u001B[49m\u001B[43mby\u001B[49m\u001B[38;5;241;43m=\u001B[39;49m\u001B[43mby\u001B[49m\u001B[43m,\u001B[49m\n\u001B[0;32m    132\u001B[0m \u001B[43m    \u001B[49m\u001B[43max\u001B[49m\u001B[38;5;241;43m=\u001B[39;49m\u001B[43max\u001B[49m\u001B[43m,\u001B[49m\n\u001B[0;32m    133\u001B[0m \u001B[43m    \u001B[49m\u001B[43mgrid\u001B[49m\u001B[38;5;241;43m=\u001B[39;49m\u001B[43mgrid\u001B[49m\u001B[43m,\u001B[49m\n\u001B[0;32m    134\u001B[0m \u001B[43m    \u001B[49m\u001B[43mxlabelsize\u001B[49m\u001B[38;5;241;43m=\u001B[39;49m\u001B[43mxlabelsize\u001B[49m\u001B[43m,\u001B[49m\n\u001B[0;32m    135\u001B[0m \u001B[43m    \u001B[49m\u001B[43mxrot\u001B[49m\u001B[38;5;241;43m=\u001B[39;49m\u001B[43mxrot\u001B[49m\u001B[43m,\u001B[49m\n\u001B[0;32m    136\u001B[0m \u001B[43m    \u001B[49m\u001B[43mylabelsize\u001B[49m\u001B[38;5;241;43m=\u001B[39;49m\u001B[43mylabelsize\u001B[49m\u001B[43m,\u001B[49m\n\u001B[0;32m    137\u001B[0m \u001B[43m    \u001B[49m\u001B[43myrot\u001B[49m\u001B[38;5;241;43m=\u001B[39;49m\u001B[43myrot\u001B[49m\u001B[43m,\u001B[49m\n\u001B[0;32m    138\u001B[0m \u001B[43m    \u001B[49m\u001B[43mfigsize\u001B[49m\u001B[38;5;241;43m=\u001B[39;49m\u001B[43mfigsize\u001B[49m\u001B[43m,\u001B[49m\n\u001B[0;32m    139\u001B[0m \u001B[43m    \u001B[49m\u001B[43mbins\u001B[49m\u001B[38;5;241;43m=\u001B[39;49m\u001B[43mbins\u001B[49m\u001B[43m,\u001B[49m\n\u001B[0;32m    140\u001B[0m \u001B[43m    \u001B[49m\u001B[43mlegend\u001B[49m\u001B[38;5;241;43m=\u001B[39;49m\u001B[43mlegend\u001B[49m\u001B[43m,\u001B[49m\n\u001B[0;32m    141\u001B[0m \u001B[43m    \u001B[49m\u001B[38;5;241;43m*\u001B[39;49m\u001B[38;5;241;43m*\u001B[39;49m\u001B[43mkwargs\u001B[49m\u001B[43m,\u001B[49m\n\u001B[0;32m    142\u001B[0m \u001B[43m\u001B[49m\u001B[43m)\u001B[49m\n",
      "File \u001B[1;32m~\\Desktop\\Yuu_Yur_Python_workspace\\Python_Practice_PyCharm\\.venv\\Lib\\site-packages\\pandas\\plotting\\_matplotlib\\hist.py:454\u001B[0m, in \u001B[0;36mhist_series\u001B[1;34m(self, by, ax, grid, xlabelsize, xrot, ylabelsize, yrot, figsize, bins, legend, **kwds)\u001B[0m\n\u001B[0;32m    452\u001B[0m \u001B[38;5;28;01mif\u001B[39;00m legend:\n\u001B[0;32m    453\u001B[0m     kwds[\u001B[38;5;124m\"\u001B[39m\u001B[38;5;124mlabel\u001B[39m\u001B[38;5;124m\"\u001B[39m] \u001B[38;5;241m=\u001B[39m \u001B[38;5;28mself\u001B[39m\u001B[38;5;241m.\u001B[39mname\n\u001B[1;32m--> 454\u001B[0m \u001B[43max\u001B[49m\u001B[38;5;241;43m.\u001B[39;49m\u001B[43mhist\u001B[49m\u001B[43m(\u001B[49m\u001B[43mvalues\u001B[49m\u001B[43m,\u001B[49m\u001B[43m \u001B[49m\u001B[43mbins\u001B[49m\u001B[38;5;241;43m=\u001B[39;49m\u001B[43mbins\u001B[49m\u001B[43m,\u001B[49m\u001B[43m \u001B[49m\u001B[38;5;241;43m*\u001B[39;49m\u001B[38;5;241;43m*\u001B[39;49m\u001B[43mkwds\u001B[49m\u001B[43m)\u001B[49m\n\u001B[0;32m    455\u001B[0m \u001B[38;5;28;01mif\u001B[39;00m legend:\n\u001B[0;32m    456\u001B[0m     ax\u001B[38;5;241m.\u001B[39mlegend()\n",
      "File \u001B[1;32m~\\Desktop\\Yuu_Yur_Python_workspace\\Python_Practice_PyCharm\\.venv\\Lib\\site-packages\\matplotlib\\_api\\deprecation.py:453\u001B[0m, in \u001B[0;36mmake_keyword_only.<locals>.wrapper\u001B[1;34m(*args, **kwargs)\u001B[0m\n\u001B[0;32m    447\u001B[0m \u001B[38;5;28;01mif\u001B[39;00m \u001B[38;5;28mlen\u001B[39m(args) \u001B[38;5;241m>\u001B[39m name_idx:\n\u001B[0;32m    448\u001B[0m     warn_deprecated(\n\u001B[0;32m    449\u001B[0m         since, message\u001B[38;5;241m=\u001B[39m\u001B[38;5;124m\"\u001B[39m\u001B[38;5;124mPassing the \u001B[39m\u001B[38;5;132;01m%(name)s\u001B[39;00m\u001B[38;5;124m \u001B[39m\u001B[38;5;132;01m%(obj_type)s\u001B[39;00m\u001B[38;5;124m \u001B[39m\u001B[38;5;124m\"\u001B[39m\n\u001B[0;32m    450\u001B[0m         \u001B[38;5;124m\"\u001B[39m\u001B[38;5;124mpositionally is deprecated since Matplotlib \u001B[39m\u001B[38;5;132;01m%(since)s\u001B[39;00m\u001B[38;5;124m; the \u001B[39m\u001B[38;5;124m\"\u001B[39m\n\u001B[0;32m    451\u001B[0m         \u001B[38;5;124m\"\u001B[39m\u001B[38;5;124mparameter will become keyword-only in \u001B[39m\u001B[38;5;132;01m%(removal)s\u001B[39;00m\u001B[38;5;124m.\u001B[39m\u001B[38;5;124m\"\u001B[39m,\n\u001B[0;32m    452\u001B[0m         name\u001B[38;5;241m=\u001B[39mname, obj_type\u001B[38;5;241m=\u001B[39m\u001B[38;5;124mf\u001B[39m\u001B[38;5;124m\"\u001B[39m\u001B[38;5;124mparameter of \u001B[39m\u001B[38;5;132;01m{\u001B[39;00mfunc\u001B[38;5;241m.\u001B[39m\u001B[38;5;18m__name__\u001B[39m\u001B[38;5;132;01m}\u001B[39;00m\u001B[38;5;124m()\u001B[39m\u001B[38;5;124m\"\u001B[39m)\n\u001B[1;32m--> 453\u001B[0m \u001B[38;5;28;01mreturn\u001B[39;00m \u001B[43mfunc\u001B[49m\u001B[43m(\u001B[49m\u001B[38;5;241;43m*\u001B[39;49m\u001B[43margs\u001B[49m\u001B[43m,\u001B[49m\u001B[43m \u001B[49m\u001B[38;5;241;43m*\u001B[39;49m\u001B[38;5;241;43m*\u001B[39;49m\u001B[43mkwargs\u001B[49m\u001B[43m)\u001B[49m\n",
      "File \u001B[1;32m~\\Desktop\\Yuu_Yur_Python_workspace\\Python_Practice_PyCharm\\.venv\\Lib\\site-packages\\matplotlib\\__init__.py:1521\u001B[0m, in \u001B[0;36m_preprocess_data.<locals>.inner\u001B[1;34m(ax, data, *args, **kwargs)\u001B[0m\n\u001B[0;32m   1518\u001B[0m \u001B[38;5;129m@functools\u001B[39m\u001B[38;5;241m.\u001B[39mwraps(func)\n\u001B[0;32m   1519\u001B[0m \u001B[38;5;28;01mdef\u001B[39;00m\u001B[38;5;250m \u001B[39m\u001B[38;5;21minner\u001B[39m(ax, \u001B[38;5;241m*\u001B[39margs, data\u001B[38;5;241m=\u001B[39m\u001B[38;5;28;01mNone\u001B[39;00m, \u001B[38;5;241m*\u001B[39m\u001B[38;5;241m*\u001B[39mkwargs):\n\u001B[0;32m   1520\u001B[0m     \u001B[38;5;28;01mif\u001B[39;00m data \u001B[38;5;129;01mis\u001B[39;00m \u001B[38;5;28;01mNone\u001B[39;00m:\n\u001B[1;32m-> 1521\u001B[0m         \u001B[38;5;28;01mreturn\u001B[39;00m \u001B[43mfunc\u001B[49m\u001B[43m(\u001B[49m\n\u001B[0;32m   1522\u001B[0m \u001B[43m            \u001B[49m\u001B[43max\u001B[49m\u001B[43m,\u001B[49m\n\u001B[0;32m   1523\u001B[0m \u001B[43m            \u001B[49m\u001B[38;5;241;43m*\u001B[39;49m\u001B[38;5;28;43mmap\u001B[39;49m\u001B[43m(\u001B[49m\u001B[43mcbook\u001B[49m\u001B[38;5;241;43m.\u001B[39;49m\u001B[43msanitize_sequence\u001B[49m\u001B[43m,\u001B[49m\u001B[43m \u001B[49m\u001B[43margs\u001B[49m\u001B[43m)\u001B[49m\u001B[43m,\u001B[49m\n\u001B[0;32m   1524\u001B[0m \u001B[43m            \u001B[49m\u001B[38;5;241;43m*\u001B[39;49m\u001B[38;5;241;43m*\u001B[39;49m\u001B[43m{\u001B[49m\u001B[43mk\u001B[49m\u001B[43m:\u001B[49m\u001B[43m \u001B[49m\u001B[43mcbook\u001B[49m\u001B[38;5;241;43m.\u001B[39;49m\u001B[43msanitize_sequence\u001B[49m\u001B[43m(\u001B[49m\u001B[43mv\u001B[49m\u001B[43m)\u001B[49m\u001B[43m \u001B[49m\u001B[38;5;28;43;01mfor\u001B[39;49;00m\u001B[43m \u001B[49m\u001B[43mk\u001B[49m\u001B[43m,\u001B[49m\u001B[43m \u001B[49m\u001B[43mv\u001B[49m\u001B[43m \u001B[49m\u001B[38;5;129;43;01min\u001B[39;49;00m\u001B[43m \u001B[49m\u001B[43mkwargs\u001B[49m\u001B[38;5;241;43m.\u001B[39;49m\u001B[43mitems\u001B[49m\u001B[43m(\u001B[49m\u001B[43m)\u001B[49m\u001B[43m}\u001B[49m\u001B[43m)\u001B[49m\n\u001B[0;32m   1526\u001B[0m     bound \u001B[38;5;241m=\u001B[39m new_sig\u001B[38;5;241m.\u001B[39mbind(ax, \u001B[38;5;241m*\u001B[39margs, \u001B[38;5;241m*\u001B[39m\u001B[38;5;241m*\u001B[39mkwargs)\n\u001B[0;32m   1527\u001B[0m     auto_label \u001B[38;5;241m=\u001B[39m (bound\u001B[38;5;241m.\u001B[39marguments\u001B[38;5;241m.\u001B[39mget(label_namer)\n\u001B[0;32m   1528\u001B[0m                   \u001B[38;5;129;01mor\u001B[39;00m bound\u001B[38;5;241m.\u001B[39mkwargs\u001B[38;5;241m.\u001B[39mget(label_namer))\n",
      "File \u001B[1;32m~\\Desktop\\Yuu_Yur_Python_workspace\\Python_Practice_PyCharm\\.venv\\Lib\\site-packages\\matplotlib\\axes\\_axes.py:7266\u001B[0m, in \u001B[0;36mAxes.hist\u001B[1;34m(self, x, bins, range, density, weights, cumulative, bottom, histtype, align, orientation, rwidth, log, color, label, stacked, **kwargs)\u001B[0m\n\u001B[0;32m   7258\u001B[0m p \u001B[38;5;241m=\u001B[39m patch[\u001B[38;5;241m0\u001B[39m]\n\u001B[0;32m   7259\u001B[0m kwargs\u001B[38;5;241m.\u001B[39mupdate({\n\u001B[0;32m   7260\u001B[0m     \u001B[38;5;124m'\u001B[39m\u001B[38;5;124mhatch\u001B[39m\u001B[38;5;124m'\u001B[39m: \u001B[38;5;28mnext\u001B[39m(hatches),\n\u001B[0;32m   7261\u001B[0m     \u001B[38;5;124m'\u001B[39m\u001B[38;5;124mlinewidth\u001B[39m\u001B[38;5;124m'\u001B[39m: \u001B[38;5;28mnext\u001B[39m(linewidths),\n\u001B[1;32m   (...)\u001B[0m\n\u001B[0;32m   7264\u001B[0m     \u001B[38;5;124m'\u001B[39m\u001B[38;5;124mfacecolor\u001B[39m\u001B[38;5;124m'\u001B[39m: \u001B[38;5;28mnext\u001B[39m(facecolors),\n\u001B[0;32m   7265\u001B[0m })\n\u001B[1;32m-> 7266\u001B[0m \u001B[43mp\u001B[49m\u001B[38;5;241;43m.\u001B[39;49m\u001B[43m_internal_update\u001B[49m\u001B[43m(\u001B[49m\u001B[43mkwargs\u001B[49m\u001B[43m)\u001B[49m\n\u001B[0;32m   7267\u001B[0m \u001B[38;5;28;01mif\u001B[39;00m lbl \u001B[38;5;129;01mis\u001B[39;00m \u001B[38;5;129;01mnot\u001B[39;00m \u001B[38;5;28;01mNone\u001B[39;00m:\n\u001B[0;32m   7268\u001B[0m     p\u001B[38;5;241m.\u001B[39mset_label(lbl)\n",
      "File \u001B[1;32m~\\Desktop\\Yuu_Yur_Python_workspace\\Python_Practice_PyCharm\\.venv\\Lib\\site-packages\\matplotlib\\artist.py:1233\u001B[0m, in \u001B[0;36mArtist._internal_update\u001B[1;34m(self, kwargs)\u001B[0m\n\u001B[0;32m   1226\u001B[0m \u001B[38;5;28;01mdef\u001B[39;00m\u001B[38;5;250m \u001B[39m\u001B[38;5;21m_internal_update\u001B[39m(\u001B[38;5;28mself\u001B[39m, kwargs):\n\u001B[0;32m   1227\u001B[0m \u001B[38;5;250m    \u001B[39m\u001B[38;5;124;03m\"\"\"\u001B[39;00m\n\u001B[0;32m   1228\u001B[0m \u001B[38;5;124;03m    Update artist properties without prenormalizing them, but generating\u001B[39;00m\n\u001B[0;32m   1229\u001B[0m \u001B[38;5;124;03m    errors as if calling `set`.\u001B[39;00m\n\u001B[0;32m   1230\u001B[0m \n\u001B[0;32m   1231\u001B[0m \u001B[38;5;124;03m    The lack of prenormalization is to maintain backcompatibility.\u001B[39;00m\n\u001B[0;32m   1232\u001B[0m \u001B[38;5;124;03m    \"\"\"\u001B[39;00m\n\u001B[1;32m-> 1233\u001B[0m     \u001B[38;5;28;01mreturn\u001B[39;00m \u001B[38;5;28;43mself\u001B[39;49m\u001B[38;5;241;43m.\u001B[39;49m\u001B[43m_update_props\u001B[49m\u001B[43m(\u001B[49m\n\u001B[0;32m   1234\u001B[0m \u001B[43m        \u001B[49m\u001B[43mkwargs\u001B[49m\u001B[43m,\u001B[49m\u001B[43m \u001B[49m\u001B[38;5;124;43m\"\u001B[39;49m\u001B[38;5;132;43;01m{cls.__name__}\u001B[39;49;00m\u001B[38;5;124;43m.set() got an unexpected keyword argument \u001B[39;49m\u001B[38;5;124;43m\"\u001B[39;49m\n\u001B[0;32m   1235\u001B[0m \u001B[43m        \u001B[49m\u001B[38;5;124;43m\"\u001B[39;49m\u001B[38;5;132;43;01m{prop_name!r}\u001B[39;49;00m\u001B[38;5;124;43m\"\u001B[39;49m\u001B[43m)\u001B[49m\n",
      "File \u001B[1;32m~\\Desktop\\Yuu_Yur_Python_workspace\\Python_Practice_PyCharm\\.venv\\Lib\\site-packages\\matplotlib\\artist.py:1206\u001B[0m, in \u001B[0;36mArtist._update_props\u001B[1;34m(self, props, errfmt)\u001B[0m\n\u001B[0;32m   1204\u001B[0m             func \u001B[38;5;241m=\u001B[39m \u001B[38;5;28mgetattr\u001B[39m(\u001B[38;5;28mself\u001B[39m, \u001B[38;5;124mf\u001B[39m\u001B[38;5;124m\"\u001B[39m\u001B[38;5;124mset_\u001B[39m\u001B[38;5;132;01m{\u001B[39;00mk\u001B[38;5;132;01m}\u001B[39;00m\u001B[38;5;124m\"\u001B[39m, \u001B[38;5;28;01mNone\u001B[39;00m)\n\u001B[0;32m   1205\u001B[0m             \u001B[38;5;28;01mif\u001B[39;00m \u001B[38;5;129;01mnot\u001B[39;00m \u001B[38;5;28mcallable\u001B[39m(func):\n\u001B[1;32m-> 1206\u001B[0m                 \u001B[38;5;28;01mraise\u001B[39;00m \u001B[38;5;167;01mAttributeError\u001B[39;00m(\n\u001B[0;32m   1207\u001B[0m                     errfmt\u001B[38;5;241m.\u001B[39mformat(\u001B[38;5;28mcls\u001B[39m\u001B[38;5;241m=\u001B[39m\u001B[38;5;28mtype\u001B[39m(\u001B[38;5;28mself\u001B[39m), prop_name\u001B[38;5;241m=\u001B[39mk),\n\u001B[0;32m   1208\u001B[0m                     name\u001B[38;5;241m=\u001B[39mk)\n\u001B[0;32m   1209\u001B[0m             ret\u001B[38;5;241m.\u001B[39mappend(func(v))\n\u001B[0;32m   1210\u001B[0m \u001B[38;5;28;01mif\u001B[39;00m ret:\n",
      "\u001B[1;31mAttributeError\u001B[0m: Rectangle.set() got an unexpected keyword argument 'normed'"
     ]
    },
    {
     "data": {
      "text/plain": [
       "<Figure size 640x480 with 1 Axes>"
      ],
      "image/png": "[encoded data removed]"
     },
     "metadata": {},
     "output_type": "display_data"
    }
   ],
   "execution_count": 58
  },
  {
   "metadata": {
    "ExecuteTime": {
     "end_time": "2025-02-18T06:04:52.828485Z",
     "start_time": "2025-02-18T06:04:52.819975Z"
    }
   },
   "cell_type": "code",
   "source": [
    "# 산점도: 서로다른독립변수x1,x2의관계를파악할때사용\n",
    "# normal(mu,sigma,size=(rows,cols))\n",
    "#mu :중앙값(median),sigma : 표준편차\n",
    "x1=np.random.normal(1,1,size=(100,1))\n",
    "x2=np.random.normal(-2,4,size=(100,1))\n",
    "# concatenate : 열방향연결, axis=1 가로방향,axis=0 세로방향\n",
    "x=np.concatenate((x1,x2),axis=1)\n",
    "df3=pd.DataFrame(x,columns=[\"x1\",\"x2\"])\n",
    "df3.head()"
   ],
   "id": "65c94ced6402a88",
   "outputs": [
    {
     "data": {
      "text/plain": [
       "         x1        x2\n",
       "0  2.176803 -7.700947\n",
       "1  0.640147  0.442019\n",
       "2  2.898279 -7.057957\n",
       "3  0.276181 -5.089904\n",
       "4  1.195021 -4.248818"
      ],
      "text/html": [
       "<div>\n",
       "<style scoped>\n",
       "    .dataframe tbody tr th:only-of-type {\n",
       "        vertical-align: middle;\n",
       "    }\n",
       "\n",
       "    .dataframe tbody tr th {\n",
       "        vertical-align: top;\n",
       "    }\n",
       "\n",
       "    .dataframe thead th {\n",
       "        text-align: right;\n",
       "    }\n",
       "</style>\n",
       "<table border=\"1\" class=\"dataframe\">\n",
       "  <thead>\n",
       "    <tr style=\"text-align: right;\">\n",
       "      <th></th>\n",
       "      <th>x1</th>\n",
       "      <th>x2</th>\n",
       "    </tr>\n",
       "  </thead>\n",
       "  <tbody>\n",
       "    <tr>\n",
       "      <th>0</th>\n",
       "      <td>2.176803</td>\n",
       "      <td>-7.700947</td>\n",
       "    </tr>\n",
       "    <tr>\n",
       "      <th>1</th>\n",
       "      <td>0.640147</td>\n",
       "      <td>0.442019</td>\n",
       "    </tr>\n",
       "    <tr>\n",
       "      <th>2</th>\n",
       "      <td>2.898279</td>\n",
       "      <td>-7.057957</td>\n",
       "    </tr>\n",
       "    <tr>\n",
       "      <th>3</th>\n",
       "      <td>0.276181</td>\n",
       "      <td>-5.089904</td>\n",
       "    </tr>\n",
       "    <tr>\n",
       "      <th>4</th>\n",
       "      <td>1.195021</td>\n",
       "      <td>-4.248818</td>\n",
       "    </tr>\n",
       "  </tbody>\n",
       "</table>\n",
       "</div>"
      ]
     },
     "execution_count": 68,
     "metadata": {},
     "output_type": "execute_result"
    }
   ],
   "execution_count": 68
  },
  {
   "metadata": {
    "ExecuteTime": {
     "end_time": "2025-02-18T06:05:28.649536Z",
     "start_time": "2025-02-18T06:05:28.539320Z"
    }
   },
   "cell_type": "code",
   "source": [
    "# x1과x2의상관관계\n",
    "# x1(x축), x2(y축)\n",
    "# 양의상관관계: 산점도가좌특하단에서우측상단으로\n",
    "# 음의상관관계: 산점도가좌측상단에서우측하단으로\n",
    "# 이그래프에서상관관계를찾을수없음\n",
    "plt.scatter(df3[\"x1\"],df3[\"x2\"])"
   ],
   "id": "f952363bbc47bf88",
   "outputs": [
    {
     "data": {
      "text/plain": [
       "<matplotlib.collections.PathCollection at 0x2dbdd04a660>"
      ]
     },
     "execution_count": 69,
     "metadata": {},
     "output_type": "execute_result"
    },
    {
     "data": {
      "text/plain": [
       "<Figure size 640x480 with 1 Axes>"
      ],
      "image/png": "[encoded data removed]"
     },
     "metadata": {},
     "output_type": "display_data"
    }
   ],
   "execution_count": 69
  }
 ],
 "metadata": {
  "kernelspec": {
   "display_name": "Python 3",
   "language": "python",
   "name": "python3"
  },
  "language_info": {
   "codemirror_mode": {
    "name": "ipython",
    "version": 2
   },
   "file_extension": ".py",
   "mimetype": "text/x-python",
   "name": "python",
   "nbconvert_exporter": "python",
   "pygments_lexer": "ipython2",
   "version": "2.7.6"
  }
 },
 "nbformat": 4,
 "nbformat_minor": 5
}
