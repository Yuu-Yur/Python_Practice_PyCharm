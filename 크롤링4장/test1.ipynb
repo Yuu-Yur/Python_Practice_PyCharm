{
 "cells": [
  {
   "cell_type": "code",
   "id": "initial_id",
   "metadata": {
    "collapsed": true,
    "ExecuteTime": {
     "end_time": "2025-02-21T05:15:34.915950Z",
     "start_time": "2025-02-21T05:15:34.912015Z"
    }
   },
   "source": [
    "import time\n",
    "import selenium.webdriver as webdriver\n",
    "# Keys는 모듈이 아니라 클래스이므로 직접가져와야한다.\n",
    "from selenium.webdriver.common.keys import Keys\n",
    "# 무언가 action 일으키고싶을 때\n",
    "from selenium.webdriver import ActionChains\n",
    "# 조건부 기다림\n",
    "from selenium.webdriver.support.ui import WebDriverWait\n",
    "# 위의 조건부 기다림의 조건절\n",
    "from selenium.webdriver.support import expected_conditions as EC\n",
    "# 조건절에 사용\n",
    "from selenium.webdriver.common.by import By"
   ],
   "outputs": [],
   "execution_count": 6
  },
  {
   "metadata": {
    "ExecuteTime": {
     "end_time": "2025-02-21T03:38:14.147184Z",
     "start_time": "2025-02-21T03:38:09.179931Z"
    }
   },
   "cell_type": "code",
   "source": [
    "# Chrome 드라이버를 실행\n",
    "driver = webdriver.Chrome()\n",
    "# 자동으로 열고 닫기\n",
    "driver.get(\"http://www.google.com\")\n",
    "driver.quit()"
   ],
   "id": "d1906d3287885caf",
   "outputs": [],
   "execution_count": 5
  },
  {
   "metadata": {
    "ExecuteTime": {
     "end_time": "2025-02-21T03:41:28.706655Z",
     "start_time": "2025-02-21T03:41:25.330887Z"
    }
   },
   "cell_type": "code",
   "source": [
    "driver = webdriver.Chrome()\n",
    "driver.get(\"http://www.google.com\")\n",
    "# 요소 찾기(요소를 찾을 속성, 속성의 값) 즉 name=q 인것을 찾음\n",
    "search_box = driver.find_element(\"name\",\"q\")\n",
    "print(search_box)\n",
    "driver.quit()"
   ],
   "id": "bd8ac5c581a4f6dd",
   "outputs": [
    {
     "data": {
      "text/plain": [
       "<selenium.webdriver.remote.webelement.WebElement (session=\"6d47d8801c0f144ecd3e1b958f28d779\", element=\"f.A20FDBFF60456516D6CE9592D177D90A.d.30550071459D73C919127E0F1CACFDCE.e.3\")>"
      ]
     },
     "execution_count": 9,
     "metadata": {},
     "output_type": "execute_result"
    }
   ],
   "execution_count": 9
  },
  {
   "metadata": {
    "ExecuteTime": {
     "end_time": "2025-02-21T03:44:31.395521Z",
     "start_time": "2025-02-21T03:44:26.533919Z"
    }
   },
   "cell_type": "code",
   "source": [
    "driver = webdriver.Chrome()\n",
    "driver.get(\"http://www.google.com\")\n",
    "\n",
    "links = driver.find_elements(\"tag name\", \"a\")\n",
    "print(len(links))\n",
    "driver.quit()"
   ],
   "id": "2570c715ca7f30f0",
   "outputs": [
    {
     "name": "stdout",
     "output_type": "stream",
     "text": [
      "16\n"
     ]
    }
   ],
   "execution_count": 14
  },
  {
   "metadata": {
    "ExecuteTime": {
     "end_time": "2025-02-21T03:49:27.636174Z",
     "start_time": "2025-02-21T03:49:14.551034Z"
    }
   },
   "cell_type": "code",
   "source": [
    "driver = webdriver.Chrome()\n",
    "driver.get(\"http://www.google.com\")\n",
    "# 암묵적 대기, 요소를 찾지 못하면 재시도, 최대 5초동안 재시도\n",
    "driver.implicitly_wait(5)\n",
    "button = driver.find_element(\"link text\", \"Gmail\")\n",
    "# 요소 컨트롤 가능\n",
    "button.click()\n",
    "# 명시적 대기, 무조건 기다림\n",
    "time.sleep(5)\n",
    "driver.quit()"
   ],
   "id": "690e1a29cc0d4560",
   "outputs": [],
   "execution_count": 19
  },
  {
   "metadata": {
    "ExecuteTime": {
     "end_time": "2025-02-21T03:55:01.381579Z",
     "start_time": "2025-02-21T03:54:51.068989Z"
    }
   },
   "cell_type": "code",
   "source": [
    "driver = webdriver.Chrome()\n",
    "driver.get(\"http://www.google.com\")\n",
    "\n",
    "driver.implicitly_wait(5)\n",
    "search_box = driver.find_element(\"name\", \"q\")\n",
    "# send_keys 키보드 입력, string 을 넣을 수도 있지만 Keys 클래스를 가져와 직접 엔터를 넣을 수 있음\n",
    "search_box.send_keys(\"날씨\")\n",
    "search_box.send_keys(Keys.RETURN)\n",
    "time.sleep(5)\n",
    "driver.quit()"
   ],
   "id": "d575e5073ef4b314",
   "outputs": [],
   "execution_count": 28
  },
  {
   "metadata": {
    "ExecuteTime": {
     "end_time": "2025-02-21T04:07:16.342293Z",
     "start_time": "2025-02-21T04:07:06.058894Z"
    }
   },
   "cell_type": "code",
   "source": [
    "driver = webdriver.Chrome()\n",
    "driver.get(\"http://www.google.com\")\n",
    "time.sleep(5)\n",
    "# execute_script() 직접 js 함수 입력 -> 실행\n",
    "driver.execute_script(\"window.scrollTo(0, document.body.scrollHeight);\")\n",
    "driver.quit()\n"
   ],
   "id": "569b02403ea370cf",
   "outputs": [],
   "execution_count": 37
  },
  {
   "metadata": {
    "ExecuteTime": {
     "end_time": "2025-02-21T04:05:54.115007Z",
     "start_time": "2025-02-21T04:05:33.574504Z"
    }
   },
   "cell_type": "code",
   "source": [
    "driver = webdriver.Chrome()\n",
    "driver.get(\"http://www.google.com\")\n",
    "time.sleep(5)\n",
    "\n",
    "# execute_script() 의 새창 열기\n",
    "driver.execute_script(\"window.open('https://naver.com');\")\n",
    "time.sleep(5)\n",
    "\n",
    "# driver.switch_to.window , driver.window_handles[]\n",
    "# 선택한 창으로 창 전환, 창 선택자\n",
    "windows = driver.window_handles\n",
    "driver.switch_to.window(windows[0])\n",
    "\n",
    "time.sleep(5)\n",
    "driver.quit()"
   ],
   "id": "544c22a0b5dcb268",
   "outputs": [],
   "execution_count": 34
  },
  {
   "metadata": {
    "ExecuteTime": {
     "end_time": "2025-02-21T04:12:43.884236Z",
     "start_time": "2025-02-21T04:12:26.809578Z"
    }
   },
   "cell_type": "code",
   "source": [
    "driver = webdriver.Chrome()\n",
    "driver.implicitly_wait(10)\n",
    "\n",
    "# iframe 테스트 사이트, w3schools\n",
    "driver.get(\"https://www.w3schools.com/html/html_iframe.asp\")\n",
    "time.sleep(5)\n",
    "\n",
    "# driver.switch_to.frame 선택한 프레임으로 전환\n",
    "# 요소 선택자\n",
    "iframe = driver.find_element(\"css selector\", \"iframe[src*='default.asp']\")\n",
    "driver.switch_to.frame(iframe)\n",
    "\n",
    "# 프레임 내 요소 찾기,\n",
    "element = driver.find_element(\"css selector\", \"h1\")\n",
    "print(element.text)\n",
    "time.sleep(5)\n",
    "driver.quit()"
   ],
   "id": "f87f1f5a41995433",
   "outputs": [
    {
     "name": "stdout",
     "output_type": "stream",
     "text": [
      "HTML Tutorial\n"
     ]
    }
   ],
   "execution_count": 43
  },
  {
   "metadata": {
    "ExecuteTime": {
     "end_time": "2025-02-21T04:59:01.864738Z",
     "start_time": "2025-02-21T04:58:44.946429Z"
    }
   },
   "cell_type": "code",
   "source": [
    "driver = webdriver.Chrome()\n",
    "\n",
    "driver.get(\"https://www.google.com\")\n",
    "time.sleep(3)\n",
    "\n",
    "# add_cookie() 쿠키 추가\n",
    "driver.add_cookie({\"name\":\"test_cookie\", \"value\":\"test_value\"})\n",
    "\n",
    "# refresh() 새로고침\n",
    "driver.refresh()\n",
    "time.sleep(3)\n",
    "\n",
    "# get_cookies() 쿠키 가져오기\n",
    "cookies = driver.get_cookies()\n",
    "print(cookies)\n",
    "for cookie in cookies:\n",
    "    if cookie[\"name\"] == \"test_cookie\":\n",
    "        print(cookie[\"value\"])\n",
    "time.sleep(5)\n",
    "driver.quit()"
   ],
   "id": "fb9e07e630173fba",
   "outputs": [
    {
     "name": "stdout",
     "output_type": "stream",
     "text": [
      "[{'domain': '.google.com', 'expiry': 1755925128, 'httpOnly': True, 'name': 'NID', 'path': '/', 'sameSite': 'None', 'secure': True, 'value': '521=sTQtZT8Ekbz9yhqojH4UtIp3HGiNjxKKqPFdl1mLR9rmx7iioStHiv9KlcUrxt_l4mlACIk4RiYB9H6p8iDJ3MOMiSNUao79SM83zF105hN6asqN_Cj4_nQKv06x6Iag2IPZ8T7OV70WX_GMA35NJ6jBaBSpvCUpzZPAZWYKiwF8sBNDFW_qZdU8xsSb3lnGkqSIlkYXwcV6QyOEYx8FZo0TwI7dubw'}, {'domain': 'www.google.com', 'httpOnly': False, 'name': 'test_cookie', 'path': '/', 'sameSite': 'Lax', 'secure': True, 'value': 'test_value'}, {'domain': '.google.com', 'expiry': 1742705927, 'httpOnly': False, 'name': 'OGPC', 'path': '/', 'sameSite': 'Lax', 'secure': False, 'value': '19046228-1:'}, {'domain': 'www.google.com', 'expiry': 1740135531, 'httpOnly': False, 'name': 'UULE', 'path': '/', 'sameSite': 'Lax', 'secure': True, 'value': 'a+cm9sZTogMQpwcm9kdWNlcjogMTIKdGltZXN0YW1wOiAxNzQwMTEzOTMxNjQyMDAwCmxhdGxuZyB7CiAgbGF0aXR1ZGVfZTc6IDM1MTg1MjQ4OQogIGxvbmdpdHVkZV9lNzogMTI5MDUwMjI1MQp9CnJhZGl1czogMjA1MzA3NC41NDgwMzg1MjgKcHJvdmVuYW5jZTogNgo='}, {'domain': '.google.com', 'expiry': 1755665926, 'httpOnly': True, 'name': 'AEC', 'path': '/', 'sameSite': 'Lax', 'secure': True, 'value': 'AVcja2dX0z_1nN24WeaX3eWAsYP1hhtlhnIgQZc7YBDHpXqeuwngeaD7_Q'}]\n",
      "test_value\n"
     ]
    }
   ],
   "execution_count": 44
  },
  {
   "metadata": {
    "ExecuteTime": {
     "end_time": "2025-02-21T05:00:03.107515Z",
     "start_time": "2025-02-21T04:59:52.765381Z"
    }
   },
   "cell_type": "code",
   "source": [
    "driver = webdriver.Chrome()\n",
    "driver.get(\"https://www.google.com\")\n",
    "time.sleep(5)\n",
    "\n",
    "# 스크린샷 저장\n",
    "driver.save_screenshot(\"test_screenshot.png\")\n",
    "driver.quit()"
   ],
   "id": "bb41c9f7d2a04b0",
   "outputs": [],
   "execution_count": 45
  },
  {
   "metadata": {
    "ExecuteTime": {
     "end_time": "2025-02-21T07:20:21.334304Z",
     "start_time": "2025-02-21T07:20:11.609182Z"
    }
   },
   "cell_type": "code",
   "source": [
    "driver = webdriver.Chrome()\n",
    "driver.get(\"https://www.google.com\")\n",
    "\n",
    "# EC expected_conditions , By 를 사용해서\n",
    "# WebDriverWait 기다리기는 기다리는데 특정 요소를 기다림, 10초\n",
    "search_box = WebDriverWait(driver, 10).until(\n",
    "    # 즉 NAME 이 q 인 요소를 할당할때까지 10초간 기다림\n",
    "    EC.presence_of_element_located((By.NAME, \"q\"))\n",
    ")\n",
    "\n",
    "search_box.send_keys(\"selenium 대기 테스트\")\n",
    "time.sleep(5)\n",
    "driver.quit()"
   ],
   "id": "d7cd55002c5aca05",
   "outputs": [
    {
     "ename": "KeyboardInterrupt",
     "evalue": "",
     "output_type": "error",
     "traceback": [
      "\u001B[1;31m---------------------------------------------------------------------------\u001B[0m",
      "\u001B[1;31mTimeoutError\u001B[0m                              Traceback (most recent call last)",
      "File \u001B[1;32m~\\AppData\\Local\\Programs\\Python\\Python313\\Lib\\socket.py:849\u001B[0m, in \u001B[0;36mcreate_connection\u001B[1;34m(address, timeout, source_address, all_errors)\u001B[0m\n\u001B[0;32m    848\u001B[0m     sock\u001B[38;5;241m.\u001B[39mbind(source_address)\n\u001B[1;32m--> 849\u001B[0m \u001B[43msock\u001B[49m\u001B[38;5;241;43m.\u001B[39;49m\u001B[43mconnect\u001B[49m\u001B[43m(\u001B[49m\u001B[43msa\u001B[49m\u001B[43m)\u001B[49m\n\u001B[0;32m    850\u001B[0m \u001B[38;5;66;03m# Break explicitly a reference cycle\u001B[39;00m\n",
      "\u001B[1;31mTimeoutError\u001B[0m: timed out",
      "\nDuring handling of the above exception, another exception occurred:\n",
      "\u001B[1;31mKeyboardInterrupt\u001B[0m                         Traceback (most recent call last)",
      "Cell \u001B[1;32mIn[13], line 13\u001B[0m\n\u001B[0;32m     11\u001B[0m search_box\u001B[38;5;241m.\u001B[39msend_keys(\u001B[38;5;124m\"\u001B[39m\u001B[38;5;124mselenium 대기 테스트\u001B[39m\u001B[38;5;124m\"\u001B[39m)\n\u001B[0;32m     12\u001B[0m time\u001B[38;5;241m.\u001B[39msleep(\u001B[38;5;241m5\u001B[39m)\n\u001B[1;32m---> 13\u001B[0m \u001B[43mdriver\u001B[49m\u001B[38;5;241;43m.\u001B[39;49m\u001B[43mquit\u001B[49m\u001B[43m(\u001B[49m\u001B[43m)\u001B[49m\n",
      "File \u001B[1;32m~\\Desktop\\Yuu_Yur_Python_workspace\\Python_Practice_PyCharm\\.venv\\Lib\\site-packages\\selenium\\webdriver\\chromium\\webdriver.py:193\u001B[0m, in \u001B[0;36mChromiumDriver.quit\u001B[1;34m(self)\u001B[0m\n\u001B[0;32m    191\u001B[0m     \u001B[38;5;28;01mpass\u001B[39;00m\n\u001B[0;32m    192\u001B[0m \u001B[38;5;28;01mfinally\u001B[39;00m:\n\u001B[1;32m--> 193\u001B[0m     \u001B[38;5;28;43mself\u001B[39;49m\u001B[38;5;241;43m.\u001B[39;49m\u001B[43mservice\u001B[49m\u001B[38;5;241;43m.\u001B[39;49m\u001B[43mstop\u001B[49m\u001B[43m(\u001B[49m\u001B[43m)\u001B[49m\n",
      "File \u001B[1;32m~\\Desktop\\Yuu_Yur_Python_workspace\\Python_Practice_PyCharm\\.venv\\Lib\\site-packages\\selenium\\webdriver\\common\\service.py:157\u001B[0m, in \u001B[0;36mService.stop\u001B[1;34m(self)\u001B[0m\n\u001B[0;32m    155\u001B[0m \u001B[38;5;28;01mif\u001B[39;00m \u001B[38;5;28mself\u001B[39m\u001B[38;5;241m.\u001B[39mprocess \u001B[38;5;129;01mis\u001B[39;00m \u001B[38;5;129;01mnot\u001B[39;00m \u001B[38;5;28;01mNone\u001B[39;00m:\n\u001B[0;32m    156\u001B[0m     \u001B[38;5;28;01mtry\u001B[39;00m:\n\u001B[1;32m--> 157\u001B[0m         \u001B[38;5;28;43mself\u001B[39;49m\u001B[38;5;241;43m.\u001B[39;49m\u001B[43msend_remote_shutdown_command\u001B[49m\u001B[43m(\u001B[49m\u001B[43m)\u001B[49m\n\u001B[0;32m    158\u001B[0m     \u001B[38;5;28;01mexcept\u001B[39;00m \u001B[38;5;167;01mTypeError\u001B[39;00m:\n\u001B[0;32m    159\u001B[0m         \u001B[38;5;28;01mpass\u001B[39;00m\n",
      "File \u001B[1;32m~\\Desktop\\Yuu_Yur_Python_workspace\\Python_Practice_PyCharm\\.venv\\Lib\\site-packages\\selenium\\webdriver\\common\\service.py:142\u001B[0m, in \u001B[0;36mService.send_remote_shutdown_command\u001B[1;34m(self)\u001B[0m\n\u001B[0;32m    139\u001B[0m     \u001B[38;5;28;01mreturn\u001B[39;00m\n\u001B[0;32m    141\u001B[0m \u001B[38;5;28;01mfor\u001B[39;00m _ \u001B[38;5;129;01min\u001B[39;00m \u001B[38;5;28mrange\u001B[39m(\u001B[38;5;241m30\u001B[39m):\n\u001B[1;32m--> 142\u001B[0m     \u001B[38;5;28;01mif\u001B[39;00m \u001B[38;5;129;01mnot\u001B[39;00m \u001B[38;5;28;43mself\u001B[39;49m\u001B[38;5;241;43m.\u001B[39;49m\u001B[43mis_connectable\u001B[49m\u001B[43m(\u001B[49m\u001B[43m)\u001B[49m:\n\u001B[0;32m    143\u001B[0m         \u001B[38;5;28;01mbreak\u001B[39;00m\n\u001B[0;32m    144\u001B[0m     sleep(\u001B[38;5;241m1\u001B[39m)\n",
      "File \u001B[1;32m~\\Desktop\\Yuu_Yur_Python_workspace\\Python_Practice_PyCharm\\.venv\\Lib\\site-packages\\selenium\\webdriver\\common\\service.py:131\u001B[0m, in \u001B[0;36mService.is_connectable\u001B[1;34m(self)\u001B[0m\n\u001B[0;32m    128\u001B[0m \u001B[38;5;28;01mdef\u001B[39;00m\u001B[38;5;250m \u001B[39m\u001B[38;5;21mis_connectable\u001B[39m(\u001B[38;5;28mself\u001B[39m) \u001B[38;5;241m-\u001B[39m\u001B[38;5;241m>\u001B[39m \u001B[38;5;28mbool\u001B[39m:\n\u001B[0;32m    129\u001B[0m \u001B[38;5;250m    \u001B[39m\u001B[38;5;124;03m\"\"\"Establishes a socket connection to determine if the service running\u001B[39;00m\n\u001B[0;32m    130\u001B[0m \u001B[38;5;124;03m    on the port is accessible.\"\"\"\u001B[39;00m\n\u001B[1;32m--> 131\u001B[0m     \u001B[38;5;28;01mreturn\u001B[39;00m \u001B[43mutils\u001B[49m\u001B[38;5;241;43m.\u001B[39;49m\u001B[43mis_connectable\u001B[49m\u001B[43m(\u001B[49m\u001B[38;5;28;43mself\u001B[39;49m\u001B[38;5;241;43m.\u001B[39;49m\u001B[43mport\u001B[49m\u001B[43m)\u001B[49m\n",
      "File \u001B[1;32m~\\Desktop\\Yuu_Yur_Python_workspace\\Python_Practice_PyCharm\\.venv\\Lib\\site-packages\\selenium\\webdriver\\common\\utils.py:101\u001B[0m, in \u001B[0;36mis_connectable\u001B[1;34m(port, host)\u001B[0m\n\u001B[0;32m     99\u001B[0m socket_ \u001B[38;5;241m=\u001B[39m \u001B[38;5;28;01mNone\u001B[39;00m\n\u001B[0;32m    100\u001B[0m \u001B[38;5;28;01mtry\u001B[39;00m:\n\u001B[1;32m--> 101\u001B[0m     socket_ \u001B[38;5;241m=\u001B[39m \u001B[43msocket\u001B[49m\u001B[38;5;241;43m.\u001B[39;49m\u001B[43mcreate_connection\u001B[49m\u001B[43m(\u001B[49m\u001B[43m(\u001B[49m\u001B[43mhost\u001B[49m\u001B[43m,\u001B[49m\u001B[43m \u001B[49m\u001B[43mport\u001B[49m\u001B[43m)\u001B[49m\u001B[43m,\u001B[49m\u001B[43m \u001B[49m\u001B[38;5;241;43m1\u001B[39;49m\u001B[43m)\u001B[49m\n\u001B[0;32m    102\u001B[0m     result \u001B[38;5;241m=\u001B[39m \u001B[38;5;28;01mTrue\u001B[39;00m\n\u001B[0;32m    103\u001B[0m \u001B[38;5;28;01mexcept\u001B[39;00m _is_connectable_exceptions:\n",
      "File \u001B[1;32m~\\AppData\\Local\\Programs\\Python\\Python313\\Lib\\socket.py:856\u001B[0m, in \u001B[0;36mcreate_connection\u001B[1;34m(address, timeout, source_address, all_errors)\u001B[0m\n\u001B[0;32m    854\u001B[0m \u001B[38;5;28;01mexcept\u001B[39;00m error \u001B[38;5;28;01mas\u001B[39;00m exc:\n\u001B[0;32m    855\u001B[0m     \u001B[38;5;28;01mif\u001B[39;00m \u001B[38;5;129;01mnot\u001B[39;00m all_errors:\n\u001B[1;32m--> 856\u001B[0m         \u001B[43mexceptions\u001B[49m\u001B[38;5;241;43m.\u001B[39;49m\u001B[43mclear\u001B[49m\u001B[43m(\u001B[49m\u001B[43m)\u001B[49m  \u001B[38;5;66;03m# raise only the last error\u001B[39;00m\n\u001B[0;32m    857\u001B[0m     exceptions\u001B[38;5;241m.\u001B[39mappend(exc)\n\u001B[0;32m    858\u001B[0m     \u001B[38;5;28;01mif\u001B[39;00m sock \u001B[38;5;129;01mis\u001B[39;00m \u001B[38;5;129;01mnot\u001B[39;00m \u001B[38;5;28;01mNone\u001B[39;00m:\n",
      "\u001B[1;31mKeyboardInterrupt\u001B[0m: "
     ]
    }
   ],
   "execution_count": 13
  },
  {
   "metadata": {
    "ExecuteTime": {
     "end_time": "2025-02-21T05:10:18.411106900Z",
     "start_time": "2025-02-21T05:10:03.422833Z"
    }
   },
   "cell_type": "code",
   "source": [
    "driver = webdriver.Chrome()\n",
    "driver.get(\"https://www.google.com\")\n",
    "\n",
    "# 요소 찾기,\n",
    "element = driver.find_element(\"link text\", \"Gmail\")\n",
    "\n",
    "# ActionChains(driver) 마우스 준비\n",
    "actions = ActionChains(driver)\n",
    "# 찾은 요소에 마우스 이동 (한 것처럼 작동)\n",
    "actions.move_to_element(element).perform()\n",
    "\n",
    "time.sleep(3)\n",
    "driver.quit()"
   ],
   "id": "dccee21e7c7a40",
   "outputs": [],
   "execution_count": null
  },
  {
   "metadata": {
    "ExecuteTime": {
     "end_time": "2025-02-21T05:11:08.626176Z",
     "start_time": "2025-02-21T05:10:57.511844Z"
    }
   },
   "cell_type": "code",
   "source": [
    "driver = webdriver.Chrome()\n",
    "driver.get(\"https://www.google.com\")\n",
    "\n",
    "search_box = driver.find_element(\"name\", \"q\")\n",
    "search_box.send_keys(\"selenium 입력 테스트 \")\n",
    "time.sleep(3)\n",
    "# 입력된 값 삭제\n",
    "search_box.clear()\n",
    "time.sleep(3)\n",
    "driver.quit()"
   ],
   "id": "75aad0e58c54a60e",
   "outputs": [],
   "execution_count": 2
  },
  {
   "metadata": {
    "ExecuteTime": {
     "end_time": "2025-02-21T05:11:31.879546Z",
     "start_time": "2025-02-21T05:11:20.774141Z"
    }
   },
   "cell_type": "code",
   "source": [
    "driver = webdriver.Chrome()\n",
    "driver.get(\"https://www.google.com\")\n",
    "time.sleep(3)\n",
    "\n",
    "# 브라우저 크기 조절.\n",
    "driver.set_window_size(1500, 768)\n",
    "\n",
    "time.sleep(3)\n",
    "driver.quit()"
   ],
   "id": "5288c16957c8dcb",
   "outputs": [],
   "execution_count": 3
  },
  {
   "metadata": {
    "ExecuteTime": {
     "end_time": "2025-02-21T05:12:07.353220Z",
     "start_time": "2025-02-21T05:11:55.142350Z"
    }
   },
   "cell_type": "code",
   "source": [
    "driver = webdriver.Chrome()\n",
    "driver.get(\"https://the-internet.herokuapp.com/dynamic_loading/1\")\n",
    "time.sleep(3)\n",
    "\n",
    "# start 버튼이 클릭 가능할 때까지 10초 대기 후 클릭.\n",
    "start_button = WebDriverWait(driver, 10).until(\n",
    "    EC.element_to_be_clickable((By.CSS_SELECTOR, \"#start button\"))\n",
    ")\n",
    "start_button.click()\n",
    "\n",
    "#로딩이 끝나고 결과 텍스트가 보일 때까지 대기.\n",
    "finish_element = WebDriverWait(driver, 10).until(\n",
    "    EC.presence_of_element_located((By.CSS_SELECTOR, \"#finish\"))\n",
    ")\n",
    "print(f\"10초후 문자열 출력: {finish_element}\")\n",
    "time.sleep(3)\n",
    "driver.quit()"
   ],
   "id": "bd4b92ab8f823fd1",
   "outputs": [
    {
     "name": "stdout",
     "output_type": "stream",
     "text": [
      "10초후 문자열 출력: <selenium.webdriver.remote.webelement.WebElement (session=\"c1605ac092086f66a2d6a47cfe019920\", element=\"f.BEB8D8C7246DD56E499F85295240EAD3.d.BCECBA724C33092B5AAB9F1834124EC5.e.7\")>\n"
     ]
    }
   ],
   "execution_count": 4
  },
  {
   "metadata": {
    "ExecuteTime": {
     "end_time": "2025-02-21T05:15:55.806419Z",
     "start_time": "2025-02-21T05:15:44.708848Z"
    }
   },
   "cell_type": "code",
   "source": [
    "driver = webdriver.Chrome()\n",
    "driver.get(\"https://jqueryui.com/droppable/\")\n",
    "time.sleep(3)\n",
    "\n",
    "#프레임 전환\n",
    "driver.switch_to.frame(0)\n",
    "\n",
    "#요소찾기.\n",
    "source = driver.find_element(\"id\", \"draggable\")\n",
    "target = driver.find_element(\"id\", \"droppable\")\n",
    "\n",
    "# 드래그 앤 드롭 실행.\n",
    "actions = ActionChains(driver)\n",
    "actions.drag_and_drop(source, target).perform()\n",
    "\n",
    "time.sleep(3)\n",
    "driver.quit()"
   ],
   "id": "555333bd0a632957",
   "outputs": [],
   "execution_count": 7
  },
  {
   "metadata": {
    "ExecuteTime": {
     "end_time": "2025-02-21T05:17:10.701852Z",
     "start_time": "2025-02-21T05:17:03.624112Z"
    }
   },
   "cell_type": "code",
   "source": [
    "driver = webdriver.Chrome()\n",
    "driver.get(\"https://www.goolge.com\")\n",
    "time.sleep(3)\n",
    "\n",
    "# driver.page_source 로 html 파일 가져옴\n",
    "html = driver.page_source\n",
    "print(html[:500])\n",
    "driver.quit()"
   ],
   "id": "a30fcab902e2ee6b",
   "outputs": [
    {
     "name": "stdout",
     "output_type": "stream",
     "text": [
      "<html dir=\"ltr\" lang=\"ko\"><head>\n",
      "  <meta charset=\"utf-8\">\n",
      "  <meta name=\"color-scheme\" content=\"light dark\">\n",
      "  <meta name=\"theme-color\" content=\"#fff\">\n",
      "  <meta name=\"viewport\" content=\"initial-scale=1, minimum-scale=1, width=device-width\">\n",
      "  <meta http-equiv=\"Content-Security-Policy\" content=\"require-trusted-types-for 'script'; trusted-types;\">\n",
      "  <title>개인 정보 보호 오류</title>\n",
      "  <style>/* Copyright 2017 The Chromium Authors\n",
      " * Use of this source code is governed by a BSD-style license that can be\n",
      " * \n"
     ]
    }
   ],
   "execution_count": 9
  },
  {
   "metadata": {
    "ExecuteTime": {
     "end_time": "2025-02-21T05:20:15.861065Z",
     "start_time": "2025-02-21T05:20:04.068416Z"
    }
   },
   "cell_type": "code",
   "source": [
    "driver = webdriver.Chrome()\n",
    "driver.get(\"https://tus.io/demo.html\")\n",
    "time.sleep(3)\n",
    "\n",
    "#파일 업로드 요소 찾기, xpath\n",
    "# 경로 : //*[@id=\"P0-0\"]\n",
    "# <input id=\"P0-0\" type=\"file\">\n",
    "upload = driver.find_element(\"xpath\", \"//input[@type='file']\")\n",
    "#파일도 send_keys 로 보냄, 위치를 r\"\"로 보내면 됨\n",
    "upload.send_keys(r\"C:\\Users\\it\\Desktop\\Yuu_Yur_Python_workspace\\Python_Practice_PyCharm\\크롤링4장\\test_screenshot.png\")\n",
    "time.sleep(5)\n",
    "driver.quit()"
   ],
   "id": "72593304e1584e6c",
   "outputs": [],
   "execution_count": 12
  }
 ],
 "metadata": {
  "kernelspec": {
   "display_name": "Python 3",
   "language": "python",
   "name": "python3"
  },
  "language_info": {
   "codemirror_mode": {
    "name": "ipython",
    "version": 2
   },
   "file_extension": ".py",
   "mimetype": "text/x-python",
   "name": "python",
   "nbconvert_exporter": "python",
   "pygments_lexer": "ipython2",
   "version": "2.7.6"
  }
 },
 "nbformat": 4,
 "nbformat_minor": 5
}
