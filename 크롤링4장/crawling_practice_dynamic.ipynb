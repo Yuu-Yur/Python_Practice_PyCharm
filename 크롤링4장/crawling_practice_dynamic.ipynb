{
 "cells": [
  {
   "cell_type": "code",
   "id": "initial_id",
   "metadata": {
    "collapsed": true,
    "ExecuteTime": {
     "end_time": "2025-02-21T08:58:52.783047Z",
     "start_time": "2025-02-21T08:58:52.780034Z"
    }
   },
   "source": [
    "import time\n",
    "import selenium.webdriver as webdriver\n",
    "from bs4 import BeautifulSoup\n",
    "from cffi.cffi_opcode import CLASS_NAME\n",
    "from selenium.webdriver.common.keys import Keys\n",
    "from selenium.webdriver import ActionChains\n",
    "from selenium.webdriver.support.ui import WebDriverWait\n",
    "from selenium.webdriver.support import expected_conditions as EC\n",
    "from selenium.webdriver.common.by import By\n",
    "import pymysql"
   ],
   "outputs": [],
   "execution_count": 14
  },
  {
   "metadata": {
    "ExecuteTime": {
     "end_time": "2025-02-21T08:58:54.340019Z",
     "start_time": "2025-02-21T08:58:54.335353Z"
    }
   },
   "cell_type": "code",
   "source": [
    "# db에 저장하는 함수\n",
    "def save_mariadb(dict_list):\n",
    "    db = pymysql.connect(host='localhost',user='webuser',passwd='webuser',db='webdb',charset='utf8')\n",
    "    cursor = db.cursor()\n",
    "    query = \"INSERT INTO busanAttraction (name, score, img) VALUES (%s, %s, %s)\"\n",
    "\n",
    "    try:\n",
    "        # tuple 로 들어가야함, 변환\n",
    "        cursor.executemany(query, [(d['name'], d['score'], d['img']) for d in dict_list])\n",
    "        db.commit()\n",
    "        print(f\"db에 저장 완료\")\n",
    "    except Exception as e:\n",
    "        db.rollback()\n",
    "        print(f\"에러 발생 {e}\")\n",
    "    cursor.close()\n",
    "    db.close()"
   ],
   "id": "be45a653252ab67f",
   "outputs": [],
   "execution_count": 15
  },
  {
   "metadata": {
    "ExecuteTime": {
     "end_time": "2025-02-21T08:59:16.398461Z",
     "start_time": "2025-02-21T08:58:58.320143Z"
    }
   },
   "cell_type": "code",
   "source": [
    "wdriver = webdriver.Chrome()\n",
    "wdriver.get(\"https://kr.trip.com/?locale=ko-KR&curr=KRW\")\n",
    "wdriver.maximize_window()\n",
    "\n",
    "guide_category = WebDriverWait(wdriver,10).until(\n",
    "    EC.element_to_be_clickable((By.ID, 'header_action_nav_travelguide'))\n",
    ")\n",
    "guide_category.click()\n",
    "search_input = WebDriverWait(wdriver,10).until(\n",
    "    EC.element_to_be_clickable((By.CSS_SELECTOR, 'input[placeholder=\"여행지, 명소, 호텔 등으로 검색\"]'))\n",
    ")\n",
    "search_input.send_keys(\"부산\")\n",
    "search_input.send_keys(Keys.ENTER)\n",
    "busan_selector = WebDriverWait(wdriver,10).until(\n",
    "    EC.element_to_be_clickable((By.CSS_SELECTOR, 'a[href=\"https://kr.trip.com/travel-guide/destination/busan-432/?locale=ko-KR&curr=KRW\"]'))\n",
    ")\n",
    "busan_selector.click()\n",
    "\n",
    "busan_attraction_selector = WebDriverWait(wdriver,10).until(\n",
    "    EC.element_to_be_clickable((By.CSS_SELECTOR, '[data-exposure-traceid=\"tgs_dstdetail_expo_poirank_more\"]'))\n",
    ")\n",
    "wdriver.execute_script(\"arguments[0].click();\",busan_attraction_selector)\n",
    "\n",
    "# 가고싶은 페이지까지 도달했다면\n",
    "html = wdriver.page_source\n",
    "soup = BeautifulSoup(html, 'html.parser')\n",
    "\n",
    "attraction_list = []\n",
    "attraction_tag_list = soup.find_all(\"li\", {\"class\": 'sc-jtcaXd lMYZD burited_point'})\n",
    "for idx, attraction in enumerate(attraction_tag_list):\n",
    "    if idx > 9:\n",
    "        break\n",
    "    # 여기는 태그\n",
    "    attraction_img = attraction.find(\"img\", {\"class\": 'sc-cLFqLo foPZxf'})\n",
    "    attraction_name = attraction.find(\"a\", attrs={\"title\":True})\n",
    "    attraction_score = attraction.find(\"span\", {\"class\" : 'hotScore'})\n",
    "    print(f\"이름:{attraction_name['title'][:-6]} 사진src:{attraction_img['src']} 점수:{attraction_score.text}\")\n",
    "    # 메모리에 추가\n",
    "    attraction_list.append({\"name\": attraction_name['title'][:-6], \"score\": attraction_score.text, \"img\": attraction_img['src']})\n",
    "\n",
    "time.sleep(3)\n",
    "save_mariadb(attraction_list)\n",
    "wdriver.quit()\n",
    "# 위의 사이트에서 즐길거리 카테고리 클릭, 즐길거리&랜드마크 버튼 클릭\n",
    "# 사진, 이름, 별점? or 리뷰수 저장\n",
    "# 다음 버튼 클릭\n",
    "# 반복"
   ],
   "id": "5df1fb6f3a819f1d",
   "outputs": [
    {
     "name": "stdout",
     "output_type": "stream",
     "text": [
      "이름:해운대블루라인파크 사진src:https://ak-d.tripcdn.com/images/1lo2d12000eh5t1a9E757_C_500_300_R5.jpg_.webp?proc=source%2ftrip 점수:7.6\n",
      "이름:송도해상케이블카 사진src:https://ak-d.tripcdn.com/images/0100g12000876zhn6414E_C_500_300_R5.jpg_.webp?proc=source%2ftrip 점수:7.1\n",
      "이름:부산 엑스 더 스카이 사진src:https://ak-d.tripcdn.com/images/1lo6t12000c4sutqlDF78_C_500_300_R5.jpg_.webp?proc=source%2ftrip 점수:6.8\n",
      "이름:감천문화마을 사진src:https://ak-d.tripcdn.com/images/1A07170000011rv1964E6_C_500_300_R5.jpg_.webp?proc=source%2ftrip 점수:6.5\n",
      "이름:롯데월드 어드벤처 부산 사진src:https://ak-d.tripcdn.com/images/1lo0c12000hyihoz39AD4_C_500_300_R5.png_.webp?proc=source%2ftrip 점수:6.4\n",
      "이름:씨라이프 부산 아쿠아리움 사진src:https://ak-d.tripcdn.com/images/1lo6412000g74boxdF1E0_C_500_300_R5.jpg_.webp?proc=source%2ftrip 점수:6.3\n",
      "이름:해동용궁사 사진src:https://ak-d.tripcdn.com/images/10051f000001gsri99F3C_C_500_300_R5.jpg_.webp?proc=source%2ftrip 점수:6.2\n",
      "이름:해운대해수욕장 사진src:https://ak-d.tripcdn.com/images/fd/tg/g4/M02/54/BB/CggYHlaUzoeAXGcTACOEW7lnhZU348_C_500_300_R5.jpg_.webp?proc=source%2ftrip 점수:6.0\n",
      "이름:스카이라인 루지 부산 사진src:https://ak-d.tripcdn.com/images/1lo4j12000gsc2vtr7295_C_500_300_R5.jpg_.webp?proc=source%2ftrip 점수:6.0\n",
      "이름:스파랜드(신세계백화점 센텀시티점) 사진src:https://ak-d.tripcdn.com/images/1lo4m12000gekrzbc30C8_C_500_300_R5.jpg_.webp?proc=source%2ftrip 점수:5.9\n",
      "db에 저장 완료\n"
     ]
    }
   ],
   "execution_count": 16
  }
 ],
 "metadata": {
  "kernelspec": {
   "display_name": "Python 3",
   "language": "python",
   "name": "python3"
  },
  "language_info": {
   "codemirror_mode": {
    "name": "ipython",
    "version": 2
   },
   "file_extension": ".py",
   "mimetype": "text/x-python",
   "name": "python",
   "nbconvert_exporter": "python",
   "pygments_lexer": "ipython2",
   "version": "2.7.6"
  }
 },
 "nbformat": 4,
 "nbformat_minor": 5
}
