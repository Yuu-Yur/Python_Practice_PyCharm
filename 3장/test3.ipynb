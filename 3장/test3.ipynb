{
 "cells": [
  {
   "cell_type": "code",
   "id": "initial_id",
   "metadata": {
    "collapsed": true,
    "ExecuteTime": {
     "end_time": "2025-02-12T07:23:33.956757Z",
     "start_time": "2025-02-12T07:23:33.950835Z"
    }
   },
   "source": [
    "from zmq.backend import second\n",
    "\n",
    "\n",
    "def f(x):\n",
    "    y = x\n",
    "    x = 5\n",
    "    return y*y\n",
    "\n",
    "x = 3\n",
    "print(f(x))\n",
    "print(x)\n",
    "\n",
    "def f2(eggs):\n",
    "    eggs.append(1)\n",
    "    eggs = [2,3]\n",
    "ham = [1]\n",
    "print(ham)\n",
    "f2(ham)\n",
    "print(ham)"
   ],
   "outputs": [
    {
     "name": "stdout",
     "output_type": "stream",
     "text": [
      "9\n",
      "3\n",
      "[1]\n",
      "[2, 3]\n"
     ]
    }
   ],
   "execution_count": 5
  },
  {
   "metadata": {
    "ExecuteTime": {
     "end_time": "2025-02-12T07:26:51.658035Z",
     "start_time": "2025-02-12T07:26:51.654010Z"
    }
   },
   "cell_type": "code",
   "source": [
    "print(\"함수 내에서 전역 변수 사용\")\n",
    "a = \"전역 변수\"\n",
    "def f3():\n",
    "    print(a)\n",
    "f3()"
   ],
   "id": "7beea886e55ab85a",
   "outputs": [
    {
     "name": "stdout",
     "output_type": "stream",
     "text": [
      "함수 내에서 전역 변수 사용\n",
      "전역 변수\n"
     ]
    }
   ],
   "execution_count": 13
  },
  {
   "metadata": {
    "ExecuteTime": {
     "end_time": "2025-02-12T07:32:41.246758Z",
     "start_time": "2025-02-12T07:32:41.243745Z"
    }
   },
   "cell_type": "code",
   "source": [
    "print(\"가변 인수\")\n",
    "def f4(x,y,*z):\n",
    "    print(f\"x:{x} y:{y} z:{z}\")\n",
    "f4(1,2,3,4,5)\n",
    "print(\"여기서 괄호에 묶인 z는 tuple, 리스트와 비슷한데 변경 불가\")"
   ],
   "id": "6733504938d87823",
   "outputs": [
    {
     "name": "stdout",
     "output_type": "stream",
     "text": [
      "가변 인수\n",
      "x:1 y:2 z:(3, 4, 5)\n",
      "여기서 괄호에 묶인 z는 tuple, 리스트와 비슷한데 변경 불가\n"
     ]
    }
   ],
   "execution_count": 16
  },
  {
   "metadata": {
    "ExecuteTime": {
     "end_time": "2025-02-12T07:34:25.977988Z",
     "start_time": "2025-02-12T07:34:25.973858Z"
    }
   },
   "cell_type": "code",
   "source": [
    "def f5(*args):\n",
    "    x,y,*z = args\n",
    "    print(f\"x:{x} y:{y} z:{z}\")\n",
    "f5(1,2,3,4,5)\n",
    "print(\"리스트와 비슷하게 언패킹(구조파괴할당) 도 가능\")"
   ],
   "id": "d6a1220f0440d85c",
   "outputs": [
    {
     "name": "stdout",
     "output_type": "stream",
     "text": [
      "x:1 y:2 z:[3, 4, 5]\n",
      "리스트와 비슷하게 언패킹(구조파괴할당) 도 가능\n"
     ]
    }
   ],
   "execution_count": 19
  },
  {
   "metadata": {
    "ExecuteTime": {
     "end_time": "2025-02-12T07:57:28.389144Z",
     "start_time": "2025-02-12T07:57:28.384697Z"
    }
   },
   "cell_type": "code",
   "source": [
    "print(\"키워드 가변 인수 dictionary 자료형, Map과 비슷\")\n",
    "def f6(**kwargs):\n",
    "    print(\"{first}\".format(**kwargs))\n",
    "    print(\"{second}\".format(**kwargs))\n",
    "    print(\"{last}\".format(**kwargs))\n",
    "f6(first=1,second=3,last=5)"
   ],
   "id": "b3d15d8c26ef3649",
   "outputs": [
    {
     "name": "stdout",
     "output_type": "stream",
     "text": [
      "키워드 가변 인수 dictionary 자료형, Map과 비슷\n",
      "1\n",
      "3\n",
      "5\n"
     ]
    }
   ],
   "execution_count": 32
  },
  {
   "metadata": {
    "ExecuteTime": {
     "end_time": "2025-02-12T08:01:22.157342Z",
     "start_time": "2025-02-12T08:01:22.153659Z"
    }
   },
   "cell_type": "code",
   "source": "print(\"문자열은 정확히는 sequence 자료형이다.\\n\\'C\\'에서는 Char 타입의 배열\")",
   "id": "bb328dd8631f50c1",
   "outputs": [
    {
     "name": "stdout",
     "output_type": "stream",
     "text": [
      "문자열은 정확히는 sequence 자료형이다.\n",
      "'C'에서는 Char 타입의 배열\n"
     ]
    }
   ],
   "execution_count": 36
  }
 ],
 "metadata": {
  "kernelspec": {
   "display_name": "Python 3",
   "language": "python",
   "name": "python3"
  },
  "language_info": {
   "codemirror_mode": {
    "name": "ipython",
    "version": 2
   },
   "file_extension": ".py",
   "mimetype": "text/x-python",
   "name": "python",
   "nbconvert_exporter": "python",
   "pygments_lexer": "ipython2",
   "version": "2.7.6"
  }
 },
 "nbformat": 4,
 "nbformat_minor": 5
}
