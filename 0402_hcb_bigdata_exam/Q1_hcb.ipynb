{
 "cells": [
  {
   "cell_type": "code",
   "id": "initial_id",
   "metadata": {
    "collapsed": true,
    "ExecuteTime": {
     "end_time": "2025-02-27T03:08:01.388067Z",
     "start_time": "2025-02-27T03:08:01.369768Z"
    }
   },
   "source": [
    "# 1.네이버 Open API를 활용한, 블로그 데이터 수집해서 json 파일에 저장하기.\n",
    "import urllib.request\n",
    "import urllib.parse\n",
    "import json\n",
    "import os\n",
    "import datetime\n",
    "from dotenv import load_dotenv"
   ],
   "outputs": [],
   "execution_count": 1
  },
  {
   "metadata": {
    "ExecuteTime": {
     "end_time": "2025-02-27T00:31:17.624847Z",
     "start_time": "2025-02-27T00:31:17.620726Z"
    }
   },
   "cell_type": "code",
   "source": [
    "load_dotenv()\n",
    "client_id = os.getenv('CLIENT_ID')\n",
    "client_secret = os.getenv('CLIENT_SECRET')"
   ],
   "id": "d7a467e73ab11a96",
   "outputs": [],
   "execution_count": 6
  },
  {
   "metadata": {
    "ExecuteTime": {
     "end_time": "2025-02-27T00:57:39.894921Z",
     "start_time": "2025-02-27T00:57:39.890329Z"
    }
   },
   "cell_type": "code",
   "source": [
    "def call_naver_api(q, start, display):\n",
    "    url = \"https://openapi.naver.com/v1/search/blog.json\"\n",
    "    parameters = \"?query=%s&start=%s&display=%s\" % (urllib.parse.quote(q), start,display)\n",
    "    url += parameters\n",
    "    request = urllib.request.Request(url)\n",
    "    request.add_header(\"X-Naver-Client-Id\", client_id)\n",
    "    request.add_header(\"X-Naver-Client-Secret\", client_secret)\n",
    "    try:\n",
    "        response = urllib.request.urlopen(request)\n",
    "        data = json.loads(response.read().decode(\"utf-8\"))\n",
    "        if response.getcode() == 200:\n",
    "            return data if len(data)>0 else None\n",
    "    except Exception as e:\n",
    "        print(e)"
   ],
   "id": "efaeafa5747af5c3",
   "outputs": [],
   "execution_count": 21
  },
  {
   "metadata": {
    "ExecuteTime": {
     "end_time": "2025-02-27T01:03:40.519098Z",
     "start_time": "2025-02-27T01:03:40.515111Z"
    }
   },
   "cell_type": "code",
   "source": [
    "def parsing_json(post, post_list, idx):\n",
    "    title = post['title']\n",
    "    description = post['description']\n",
    "    org_link = post['bloggerlink']\n",
    "    pDate = datetime.datetime.strptime(post['postdate'], '%Y%m%d')\n",
    "    pDate = pDate.strftime('%Y-%m-%d %H:%M:%S')\n",
    "    post_list.append({'idx':idx, 'title':title, 'description': description,\n",
    "    'org_link':org_link, 'link': org_link, 'pDate':pDate})\n",
    "    return"
   ],
   "id": "694b7cfaa2df2ae1",
   "outputs": [],
   "execution_count": 28
  },
  {
   "metadata": {
    "ExecuteTime": {
     "end_time": "2025-02-27T01:04:02.902406Z",
     "start_time": "2025-02-27T01:03:58.289242Z"
    }
   },
   "cell_type": "code",
   "source": [
    "def main():\n",
    "    q = input('검색어를 입력하세요: ')\n",
    "    idx = 0\n",
    "    post_list = []\n",
    "    start = 1\n",
    "    display = 100\n",
    "    response = call_naver_api(q, start, display)\n",
    "    while ((response != None) and (response['display'] != 0)):\n",
    "        for post in response['items']:\n",
    "            idx += 1\n",
    "            parsing_json(post, post_list, idx)\n",
    "        start += display\n",
    "        if start >= 1000:\n",
    "            break\n",
    "        response = call_naver_api(q, start, display)\n",
    "\n",
    "    with open('Q1_hcb.json' , 'w', encoding='utf8') as f:\n",
    "        jsonFile = json.dumps(post_list, indent = 4, sort_keys = True, ensure_ascii = False)\n",
    "        f.write(jsonFile)\n",
    "\n",
    "if __name__ == '__main__':\n",
    "    main()"
   ],
   "id": "b9569f0688d7dbb8",
   "outputs": [
    {
     "name": "stdout",
     "output_type": "stream",
     "text": [
      "1\n",
      "101\n",
      "201\n",
      "301\n",
      "401\n",
      "501\n",
      "601\n",
      "701\n",
      "801\n",
      "901\n"
     ]
    }
   ],
   "execution_count": 29
  },
  {
   "metadata": {},
   "cell_type": "code",
   "outputs": [],
   "source": "",
   "id": "85dfbd9efd5c5637",
   "execution_count": null
  }
 ],
 "metadata": {
  "kernelspec": {
   "display_name": "Python 3",
   "language": "python",
   "name": "python3"
  },
  "language_info": {
   "codemirror_mode": {
    "name": "ipython",
    "version": 2
   },
   "file_extension": ".py",
   "mimetype": "text/x-python",
   "name": "python",
   "nbconvert_exporter": "python",
   "pygments_lexer": "ipython2",
   "version": "2.7.6"
  }
 },
 "nbformat": 4,
 "nbformat_minor": 5
}
