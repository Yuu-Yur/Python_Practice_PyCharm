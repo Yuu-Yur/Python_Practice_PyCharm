{
 "cells": [
  {
   "metadata": {
    "ExecuteTime": {
     "end_time": "2025-02-19T00:49:00.599188Z",
     "start_time": "2025-02-19T00:49:00.465365Z"
    }
   },
   "cell_type": "code",
   "source": [
    "import urllib.request\n",
    "# urllib 를 이용 웹 콘텐츠 요청 주요 5개 모듈\n",
    "# urllib.request\n",
    "# res = urllib.request.urlopen('요청 페이지 URL 문자열')\n",
    "res = urllib.request.urlopen(\"http://www.naver.com/\")"
   ],
   "id": "c93227afaf35c4af",
   "outputs": [],
   "execution_count": 4
  },
  {
   "metadata": {
    "ExecuteTime": {
     "end_time": "2025-02-19T00:49:10.178830Z",
     "start_time": "2025-02-19T00:49:10.174016Z"
    }
   },
   "cell_type": "code",
   "source": [
    "# urllib.response\n",
    "# 위의 request 의 반환으로 http.client.HTTPResponse 받음 여기서 내용 추출\n",
    "print(type(res))\n",
    "print(res.status)\n",
    "print(res.version)\n",
    "print(res.msg)\n",
    "res_header= res.getheaders()\n",
    "print(\"[ header 정보]----------\")\n",
    "for     s in res_header:\n",
    "    print(s)"
   ],
   "id": "61d45d5caa7b140d",
   "outputs": [
    {
     "name": "stdout",
     "output_type": "stream",
     "text": [
      "<class 'http.client.HTTPResponse'>\n",
      "200\n",
      "11\n",
      "OK\n",
      "[ header 정보]----------\n",
      "('Date', 'Wed, 19 Feb 2025 00:49:02 GMT')\n",
      "('content-type', 'text/html; charset=UTF-8')\n",
      "('transfer-encoding', 'chunked')\n",
      "('set-cookie', 'PM_CK_loc=6a99d2fc1b5471d9d14cea36ec9cb8ccdffe959f69af8f291b9824dfdf3a7588; Expires=Thu, 20 Feb 2025 00:49:02 GMT; Path=/; HttpOnly')\n",
      "('cache-control', 'no-cache, no-store, must-revalidate')\n",
      "('pragma', 'no-cache')\n",
      "('x-frame-options', 'DENY')\n",
      "('x-xss-protection', '1; mode=block')\n",
      "('strict-transport-security', 'max-age=63072000; includeSubdomains')\n",
      "('referrer-policy', 'unsafe-url')\n",
      "('server', 'nfront')\n",
      "('connection', 'close')\n"
     ]
    }
   ],
   "execution_count": 5
  },
  {
   "metadata": {},
   "cell_type": "code",
   "outputs": [],
   "execution_count": null,
   "source": [
    "# urllib.parse\n",
    "# urllib.parse.urlparse(\"URL문자열”)\n",
    "# urllib.parse.ParseResult 를 리턴함"
   ],
   "id": "eb56d4badbb63cdf"
  },
  {
   "metadata": {},
   "cell_type": "code",
   "outputs": [],
   "execution_count": null,
   "source": [
    "# urllib.error\n",
    "# urllib.robotparser"
   ],
   "id": "1247c176497e25fb"
  }
 ],
 "metadata": {
  "kernelspec": {
   "display_name": "Python 3",
   "language": "python",
   "name": "python3"
  },
  "language_info": {
   "codemirror_mode": {
    "name": "ipython",
    "version": 2
   },
   "file_extension": ".py",
   "mimetype": "text/x-python",
   "name": "python",
   "nbconvert_exporter": "python",
   "pygments_lexer": "ipython2",
   "version": "2.7.6"
  }
 },
 "nbformat": 4,
 "nbformat_minor": 5
}
