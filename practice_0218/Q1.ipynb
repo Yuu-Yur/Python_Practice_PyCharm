{
 "cells": [
  {
   "metadata": {},
   "cell_type": "code",
   "outputs": [],
   "execution_count": null,
   "source": [
    "# 상품 재고 관리 (딕셔너리 활용)\n",
    "# 딕셔너리를 활용하여 상품 재고를 관리하는 프로그램을 작성하세요.\n",
    "#  (결과물 , 콘솔 출력)\n",
    "# 새로운 상품 추가\n",
    "# 특정 상품의 재고 변경\n",
    "# 특정 상품 삭제\n",
    "# 전체 상품 목록 조회\n",
    "# 특정 상품 검색\n",
    "# 단순 기능 구현만 보이기\n",
    "# (예시: \"사과\": 10, \"바나나\": 5, \"체리\": 8)"
   ],
   "id": "444532a6375fcfd0"
  },
  {
   "metadata": {
    "ExecuteTime": {
     "end_time": "2025-02-18T03:08:45.398004Z",
     "start_time": "2025-02-18T03:08:03.283618Z"
    }
   },
   "cell_type": "code",
   "source": [
    "product_stock = {}\n",
    "nav = 0\n",
    "while nav != 6:\n",
    "    nav = int(input(\"====================상품 재고 관리 프로그램====================\\n1. 추가 2.재고 변경 3. 삭제 4. 전체 상품 조회 5. 상품 검색 6. 종료\"))\n",
    "    if nav == 1:\n",
    "        inputed_product = input(\"추가할 상품의 이름을 입력해주세요\")\n",
    "        inputed_stock = input(\"추가할 상품의 갯수를 입력해주세요\")\n",
    "        product_stock[inputed_product] = inputed_stock\n",
    "        print(product_stock)\n",
    "    if nav == 2:\n",
    "        inputed_product = input(\"재고 변경할 상품의 이름을 입력해주세요\")\n",
    "        inputed_stock = input(\"재고를 입력해주세요\")\n",
    "        product_stock.update({inputed_product: inputed_stock})\n",
    "        print(product_stock)\n",
    "    if nav == 3:\n",
    "        inputed_product = input(\"삭제할 상품의 이름을 입력해주세요\")\n",
    "        product_stock.pop(inputed_product)\n",
    "        print(product_stock)\n",
    "    if nav == 4:\n",
    "        print(list(product_stock.keys()))\n",
    "    if nav == 5:\n",
    "        inputed_product = input(\"검색할 상품의 이름을 입력해주세요\")\n",
    "        print(product_stock[inputed_product])\n",
    "# 0402하청빈"
   ],
   "id": "4536ce1415e5f087",
   "outputs": [
    {
     "name": "stdout",
     "output_type": "stream",
     "text": [
      "{'콜라': '100'}\n",
      "{'콜라': '100', '사이다': '200'}\n",
      "{'콜라': '100', '사이다': '200', '레드불': '300'}\n",
      "{'콜라': '100', '사이다': '200', '레드불': '400'}\n",
      "{'콜라': '100', '사이다': '200', '레드불': '400', '임시': '1'}\n",
      "{'콜라': '100', '사이다': '200', '레드불': '400'}\n",
      "['콜라', '사이다', '레드불']\n",
      "100\n"
     ]
    }
   ],
   "execution_count": 3
  }
 ],
 "metadata": {
  "kernelspec": {
   "display_name": "Python 3",
   "language": "python",
   "name": "python3"
  },
  "language_info": {
   "codemirror_mode": {
    "name": "ipython",
    "version": 2
   },
   "file_extension": ".py",
   "mimetype": "text/x-python",
   "name": "python",
   "nbconvert_exporter": "python",
   "pygments_lexer": "ipython2",
   "version": "2.7.6"
  }
 },
 "nbformat": 4,
 "nbformat_minor": 5
}
