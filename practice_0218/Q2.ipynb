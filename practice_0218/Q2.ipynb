{
 "cells": [
  {
   "cell_type": "code",
   "execution_count": null,
   "id": "initial_id",
   "metadata": {
    "collapsed": true
   },
   "outputs": [],
   "source": "# 1부터 10까지 숫자의 제곱을 포함하는 리스트를 리스트 컴프리헨션을 사용하여 생성하세요(결과물 , 콘솔 출력)"
  },
  {
   "metadata": {
    "ExecuteTime": {
     "end_time": "2025-02-18T00:29:12.615201Z",
     "start_time": "2025-02-18T00:29:12.604760Z"
    }
   },
   "cell_type": "code",
   "source": [
    "list_comprehensioned_list = [x * x for x in range(1, 11)]\n",
    "print(list_comprehensioned_list)\n",
    "#0402하청빈"
   ],
   "id": "89911bdb47d9aebc",
   "outputs": [
    {
     "name": "stdout",
     "output_type": "stream",
     "text": [
      "[1, 4, 9, 16, 25, 36, 49, 64, 81, 100]\n"
     ]
    }
   ],
   "execution_count": 1
  }
 ],
 "metadata": {
  "kernelspec": {
   "display_name": "Python 3",
   "language": "python",
   "name": "python3"
  },
  "language_info": {
   "codemirror_mode": {
    "name": "ipython",
    "version": 2
   },
   "file_extension": ".py",
   "mimetype": "text/x-python",
   "name": "python",
   "nbconvert_exporter": "python",
   "pygments_lexer": "ipython2",
   "version": "2.7.6"
  }
 },
 "nbformat": 4,
 "nbformat_minor": 5
}
