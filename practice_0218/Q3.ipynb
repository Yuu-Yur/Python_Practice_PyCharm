{
 "cells": [
  {
   "cell_type": "code",
   "execution_count": null,
   "id": "initial_id",
   "metadata": {
    "collapsed": true
   },
   "outputs": [],
   "source": [
    "# 도서 관리 시스템 (상속 및 다형성 활용)\n",
    "# 도서 Book , 전자책 EBook, 종이책 PaperBook 클래스를 구현하고, display_info() 메서드를 다형성을 적용하여 다르게 동작하도록 만드세요. 참고, (def __init__(self, title, author):,\n",
    "# # 객체 생성, # 정보 출력\n",
    "# (결과물 , 콘솔 출력)"
   ]
  },
  {
   "metadata": {
    "ExecuteTime": {
     "end_time": "2025-02-18T03:13:55.208078Z",
     "start_time": "2025-02-18T03:13:55.203143Z"
    }
   },
   "cell_type": "code",
   "source": [
    "class Book(object):\n",
    "    def __init__(self, title, author):\n",
    "        self.title = title\n",
    "        self.author = author\n",
    "    def display_info(self):\n",
    "        print(f\"Title: {self.title}\")\n",
    "        print(f\"Author: {self.author}\")\n",
    "class EBook(Book):\n",
    "    def display_info(self):\n",
    "        print(f\"Title: {self.title}\")\n",
    "        print(f\"Author: {self.author}\")\n",
    "        print(\"이것은 전자책입니다.\")\n",
    "class PaperBook(Book):\n",
    "    def display_info(self):\n",
    "        print(f\"Title: {self.title}\")\n",
    "        print(f\"Author: {self.author}\")\n",
    "        print(\"이것은 종이책입니다.\")\n",
    "# 0402하청빈"
   ],
   "id": "399606f3f28a3002",
   "outputs": [],
   "execution_count": 3
  },
  {
   "metadata": {
    "ExecuteTime": {
     "end_time": "2025-02-18T03:14:17.274537Z",
     "start_time": "2025-02-18T03:14:17.270395Z"
    }
   },
   "cell_type": "code",
   "source": [
    "test_ebook = EBook('테스트용1','작가1')\n",
    "test_paperbook = PaperBook('테스트용2','작가2')\n",
    "test_ebook.display_info()\n",
    "test_paperbook.display_info()"
   ],
   "id": "a4b3586dc92e90f7",
   "outputs": [
    {
     "name": "stdout",
     "output_type": "stream",
     "text": [
      "Title: 테스트용1\n",
      "Author: 작가1\n",
      "이것은 전자책입니다.\n",
      "Title: 테스트용2\n",
      "Author: 작가2\n",
      "이것은 종이책입니다.\n"
     ]
    }
   ],
   "execution_count": 5
  }
 ],
 "metadata": {
  "kernelspec": {
   "display_name": "Python 3",
   "language": "python",
   "name": "python3"
  },
  "language_info": {
   "codemirror_mode": {
    "name": "ipython",
    "version": 2
   },
   "file_extension": ".py",
   "mimetype": "text/x-python",
   "name": "python",
   "nbconvert_exporter": "python",
   "pygments_lexer": "ipython2",
   "version": "2.7.6"
  }
 },
 "nbformat": 4,
 "nbformat_minor": 5
}
