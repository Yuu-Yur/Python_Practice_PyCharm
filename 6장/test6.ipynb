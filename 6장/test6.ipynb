{
 "cells": [
  {
   "cell_type": "code",
   "id": "initial_id",
   "metadata": {
    "collapsed": true,
    "ExecuteTime": {
     "end_time": "2025-02-14T01:51:43.213003Z",
     "start_time": "2025-02-14T01:51:43.191158Z"
    }
   },
   "source": [
    "from pywin.mfc.object import Object\n",
    "\n",
    "\n",
    "# 클래스 클래스명(부모클래스)\n",
    "class Student(object):\n",
    "    # 생성자\n",
    "    def __init__(self, name, age, language):\n",
    "        self.name = name\n",
    "        # 이렇게 필드 앞에 __를 붙이면 private와 같은 취급, 실제로 private가 되는건 아니고 이름이 __age가 되어 age 로 접근 못함, 암묵적으로 private\n",
    "        self.__age = age\n",
    "        self.language = language\n",
    "    # setter\n",
    "    def change_language(self, language):\n",
    "        self.language = language\n",
    "    # toString                                         접근 못해서 에러발생 __를 붙이면 접근 가능하지만 사용안함\n",
    "    def __str__(self):\n",
    "        return \"내 이름은 {}, 나이는 {}, 사용하는 언어는 {}\".format(self.name, self.age, self.language)\n",
    "myprofile = Student('Yuu-Yur',17,'python')\n",
    "print(myprofile)"
   ],
   "outputs": [
    {
     "ename": "AttributeError",
     "evalue": "'Student' object has no attribute 'age'",
     "output_type": "error",
     "traceback": [
      "\u001B[1;31m---------------------------------------------------------------------------\u001B[0m",
      "\u001B[1;31mAttributeError\u001B[0m                            Traceback (most recent call last)",
      "Cell \u001B[1;32mIn[17], line 16\u001B[0m\n\u001B[0;32m     14\u001B[0m         \u001B[38;5;28;01mreturn\u001B[39;00m \u001B[38;5;124m\"\u001B[39m\u001B[38;5;124m내 이름은 \u001B[39m\u001B[38;5;132;01m{}\u001B[39;00m\u001B[38;5;124m, 나이는 \u001B[39m\u001B[38;5;132;01m{}\u001B[39;00m\u001B[38;5;124m, 사용하는 언어는 \u001B[39m\u001B[38;5;132;01m{}\u001B[39;00m\u001B[38;5;124m\"\u001B[39m\u001B[38;5;241m.\u001B[39mformat(\u001B[38;5;28mself\u001B[39m\u001B[38;5;241m.\u001B[39mname, \u001B[38;5;28mself\u001B[39m\u001B[38;5;241m.\u001B[39mage, \u001B[38;5;28mself\u001B[39m\u001B[38;5;241m.\u001B[39mlanguage)\n\u001B[0;32m     15\u001B[0m myprofile \u001B[38;5;241m=\u001B[39m Student(\u001B[38;5;124m'\u001B[39m\u001B[38;5;124mYuu-Yur\u001B[39m\u001B[38;5;124m'\u001B[39m,\u001B[38;5;241m17\u001B[39m,\u001B[38;5;124m'\u001B[39m\u001B[38;5;124mpython\u001B[39m\u001B[38;5;124m'\u001B[39m)\n\u001B[1;32m---> 16\u001B[0m \u001B[38;5;28;43mprint\u001B[39;49m\u001B[43m(\u001B[49m\u001B[43mmyprofile\u001B[49m\u001B[43m)\u001B[49m\n",
      "Cell \u001B[1;32mIn[17], line 14\u001B[0m, in \u001B[0;36mStudent.__str__\u001B[1;34m(self)\u001B[0m\n\u001B[0;32m     13\u001B[0m \u001B[38;5;28;01mdef\u001B[39;00m\u001B[38;5;250m \u001B[39m\u001B[38;5;21m__str__\u001B[39m(\u001B[38;5;28mself\u001B[39m):\n\u001B[1;32m---> 14\u001B[0m     \u001B[38;5;28;01mreturn\u001B[39;00m \u001B[38;5;124m\"\u001B[39m\u001B[38;5;124m내 이름은 \u001B[39m\u001B[38;5;132;01m{}\u001B[39;00m\u001B[38;5;124m, 나이는 \u001B[39m\u001B[38;5;132;01m{}\u001B[39;00m\u001B[38;5;124m, 사용하는 언어는 \u001B[39m\u001B[38;5;132;01m{}\u001B[39;00m\u001B[38;5;124m\"\u001B[39m\u001B[38;5;241m.\u001B[39mformat(\u001B[38;5;28mself\u001B[39m\u001B[38;5;241m.\u001B[39mname, \u001B[38;5;28;43mself\u001B[39;49m\u001B[38;5;241;43m.\u001B[39;49m\u001B[43mage\u001B[49m, \u001B[38;5;28mself\u001B[39m\u001B[38;5;241m.\u001B[39mlanguage)\n",
      "\u001B[1;31mAttributeError\u001B[0m: 'Student' object has no attribute 'age'"
     ]
    }
   ],
   "execution_count": 17
  },
  {
   "metadata": {
    "ExecuteTime": {
     "end_time": "2025-02-14T01:41:23.697186Z",
     "start_time": "2025-02-14T01:41:23.692845Z"
    }
   },
   "cell_type": "code",
   "source": [
    "# 기본 실습 1 클래스, 객체 생성\n",
    "class Person(object):\n",
    "    def __init__(self, name, age):\n",
    "        self.name = name\n",
    "        self.age = age\n",
    "    def introduce(self):\n",
    "        return print(f\"안녕하세요, 저는 {self.name}이고 {self.age}살입니다.\")\n",
    "test = Person('철수',25)\n",
    "test.introduce()"
   ],
   "id": "9d3a8e7f23f23c19",
   "outputs": [
    {
     "name": "stdout",
     "output_type": "stream",
     "text": [
      "안녕하세요, 저는 철수이고 25살입니다.\n"
     ]
    }
   ],
   "execution_count": 7
  },
  {
   "metadata": {
    "ExecuteTime": {
     "end_time": "2025-02-14T01:47:59.202187Z",
     "start_time": "2025-02-14T01:47:59.196804Z"
    }
   },
   "cell_type": "code",
   "source": [
    "# 기본 실습 2 상속과 메서드 오버라이딩\n",
    "class Animals(object):\n",
    "    def __init__(self, name, age):\n",
    "        self.name = name\n",
    "        self.age = age\n",
    "    def sound(self):\n",
    "        return print(\"동물의 울음소리\")\n",
    "class Dog(Animals):\n",
    "    def sound(self):\n",
    "        return print('멍멍')\n",
    "class Cat(Animals):\n",
    "    def sound(self):\n",
    "        return print('냐옹')\n",
    "test_dog = Dog('하루',8)\n",
    "test_dog.sound()\n",
    "test_cat = Cat('오카',12)\n",
    "test_cat.sound()"
   ],
   "id": "3aa4d102fdc18461",
   "outputs": [
    {
     "name": "stdout",
     "output_type": "stream",
     "text": [
      "멍멍\n",
      "냐옹\n"
     ]
    }
   ],
   "execution_count": 11
  },
  {
   "metadata": {
    "ExecuteTime": {
     "end_time": "2025-02-14T01:52:02.252393Z",
     "start_time": "2025-02-14T01:52:02.248136Z"
    }
   },
   "cell_type": "code",
   "source": [
    "# 기본 실습 3 캡슐화\n",
    "class BankAccount(object):\n",
    "    def __init__(self, owner, balance):\n",
    "        self.owner = owner\n",
    "        self.__balance = balance\n",
    "    def get_balance(self):\n",
    "        return self.__balance\n",
    "    def deposit(self, amount):\n",
    "        self.__balance -= amount\n",
    "myAccount = BankAccount('Yuu-Yur',3000000)\n",
    "myAccount.deposit(10000)\n",
    "print(myAccount.get_balance())\n",
    "print(myAccount.owner)"
   ],
   "id": "8c9c3619157d4481",
   "outputs": [
    {
     "name": "stdout",
     "output_type": "stream",
     "text": [
      "2990000\n",
      "Yuu-Yur\n"
     ]
    }
   ],
   "execution_count": 19
  },
  {
   "metadata": {
    "ExecuteTime": {
     "end_time": "2025-02-14T02:41:07.741020Z",
     "start_time": "2025-02-14T02:40:39.016396Z"
    }
   },
   "cell_type": "code",
   "source": [
    "# 실습 4\n",
    "class Employee(object):\n",
    "    def __init__(self, name, position, salary):\n",
    "        self.__name = name\n",
    "        self.__position = position\n",
    "        self.__salary = salary\n",
    "    def set_name(self, name):\n",
    "        self.__name = name\n",
    "    def set_position(self, position):\n",
    "        self.__position = position\n",
    "    def set_salary(self, salary):\n",
    "        self.__salary = salary\n",
    "    def get_salary(self):\n",
    "        return self.__salary\n",
    "    def get_name(self):\n",
    "        return self.__name\n",
    "    def get_position(self):\n",
    "        return self.__position\n",
    "nav = ''\n",
    "inputed_name =''\n",
    "inputed_position = ''\n",
    "inputed_salary = 0\n",
    "employee_list = []\n",
    "while nav != '0':\n",
    "    nav = input('===================직원 관리 시스템===================\\n1=c         2=r         3=u         4=d         0=q')\n",
    "    if nav == '1':\n",
    "        inputed_name = input('추가할 직원의 이름을 입력하세요')\n",
    "        inputed_position = input('추가할 직원의 직함을 입력하세요')\n",
    "        inputed_salary = input('추가할 직원의 연봉을 입력하세요')\n",
    "        employee_list.append(Employee(inputed_name,inputed_position,inputed_salary))\n",
    "    if nav == '2':\n",
    "        print(\"\\n\".join(f\"이름:{employee.get_name()} 직함:{employee.get_position()} 연봉:{employee.get_salary()}만원\" for employee in employee_list))\n",
    "    if nav == '3':\n",
    "        inputed_name = input('수정할 직원의 이름을 입력하세요')\n",
    "        inputed_position = input('해당 직원의 직함은?')\n",
    "        inputed_salary = input('해당 직원의 연봉은?')\n",
    "        searched_index = next((i for i,employee in enumerate(employee_list) if employee.get_name() == inputed_name), None)\n",
    "        if searched_index is not None:\n",
    "            employee_list[searched_index].set_position(inputed_position)\n",
    "            employee_list[searched_index].set_salary(inputed_salary)\n",
    "    if nav == '4':\n",
    "        inputed_name = input('삭제할 직원의 이름을 입력하세요')\n",
    "        searched_index = next((i for i,employee in enumerate(employee_list) if employee.get_name() == inputed_name), None)\n",
    "        if searched_index is not None:\n",
    "            employee_list.pop(searched_index)"
   ],
   "id": "44171b428000e631",
   "outputs": [
    {
     "name": "stdout",
     "output_type": "stream",
     "text": [
      "이름:y 직함:신입 연봉:3000만원\n",
      "이름:y 직함:신입 연봉:3500만원\n",
      "\n"
     ]
    }
   ],
   "execution_count": 25
  },
  {
   "metadata": {
    "ExecuteTime": {
     "end_time": "2025-02-14T02:49:45.765441Z",
     "start_time": "2025-02-14T02:49:45.759496Z"
    }
   },
   "cell_type": "code",
   "source": [
    "# 실습 5 도서 관리 시스템\n",
    "class Book(object):\n",
    "    def __init__(self, name, author, price):\n",
    "        self.name = name\n",
    "        self.author = author\n",
    "        self.price = price\n",
    "    def display_info(self):\n",
    "        return print(f'책이라서 가격은 그대로 {self.price}원')\n",
    "class EBook(Book):\n",
    "    def display_info(self):\n",
    "        return print(f'전자책이라서 가격은 80% {int(self.price * 0.8)}원')\n",
    "class PaperBook(Book):\n",
    "    def display_info(self):\n",
    "        return print(f'가게에서 사는 책이라 120% {int(self.price * 1.2)}원')\n",
    "\n",
    "inputed_info = ['제목','작가',10000]\n",
    "book = Book(*inputed_info)\n",
    "ebook = EBook(*inputed_info)\n",
    "pbook = PaperBook(*inputed_info)\n",
    "book.display_info()\n",
    "ebook.display_info()\n",
    "pbook.display_info()"
   ],
   "id": "1bec6b556514c926",
   "outputs": [
    {
     "name": "stdout",
     "output_type": "stream",
     "text": [
      "책이라서 가격은 그대로 10000원\n",
      "전자책이라서 가격은 80% 8000원\n",
      "가게에서 사는 책이라 120% 12000원\n"
     ]
    }
   ],
   "execution_count": 29
  },
  {
   "metadata": {
    "ExecuteTime": {
     "end_time": "2025-02-14T03:17:30.408839Z",
     "start_time": "2025-02-14T03:17:26.831718Z"
    }
   },
   "cell_type": "code",
   "source": [
    "# 문제 6\n",
    "class Car(object):\n",
    "    def __init__(self, model, fuel, drived_distance, km_per_litter):\n",
    "        self.model = model\n",
    "        self.__fuel = fuel\n",
    "        self.__km_per_litter = km_per_litter\n",
    "        self.__drived_distance = drived_distance\n",
    "    def get_fuel(self):\n",
    "        return self.__fuel\n",
    "    def get_drived_distance(self):\n",
    "        return self.__drived_distance\n",
    "    def drive(self, distance):\n",
    "        self.__drived_distance += distance\n",
    "        self.__fuel -= distance/self.__km_per_litter\n",
    "    def refuel(self, amount):\n",
    "        self.__fuel += amount\n",
    "    def info(self):\n",
    "        return print(f\"모델: {self.model} 주행거리: {self.get_drived_distance()}km 현재 연료: {self.get_fuel()}L\")\n",
    "new_vehicle = Car('avante',0,0,15)\n",
    "new_vehicle.refuel(500)\n",
    "new_vehicle.drive(int(input('얼마나 주행하시겠습니까?')))\n",
    "new_vehicle.info()\n",
    "new_vehicle.drive(int(input('얼마나 주행하시겠습니까?')))\n",
    "new_vehicle.info()"
   ],
   "id": "5f93e4598ae95906",
   "outputs": [
    {
     "name": "stdout",
     "output_type": "stream",
     "text": [
      "모델: avante 주행거리: 1000km 현재 연료: 433.3333333333333L\n",
      "모델: avante 주행거리: 3000km 현재 연료: 300.0L\n"
     ]
    }
   ],
   "execution_count": 38
  }
 ],
 "metadata": {
  "kernelspec": {
   "display_name": "Python 3",
   "language": "python",
   "name": "python3"
  },
  "language_info": {
   "codemirror_mode": {
    "name": "ipython",
    "version": 2
   },
   "file_extension": ".py",
   "mimetype": "text/x-python",
   "name": "python",
   "nbconvert_exporter": "python",
   "pygments_lexer": "ipython2",
   "version": "2.7.6"
  }
 },
 "nbformat": 4,
 "nbformat_minor": 5
}
