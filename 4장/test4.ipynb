{
 "cells": [
  {
   "cell_type": "code",
   "id": "initial_id",
   "metadata": {
    "collapsed": true,
    "ExecuteTime": {
     "end_time": "2025-02-13T01:43:50.098540Z",
     "start_time": "2025-02-13T01:43:50.094510Z"
    }
   },
   "source": [
    "print(\"자료구조 : stack, queue, tuple, set, dictionary\")\n",
    "print(\"stack, queue : push pop 시에 선입후출, 선입선출\")\n",
    "print(\"tuple: 리스트와 같이 순서있음, 변경 불가 상수리스트처럼 사용함 ( ) 사용\")\n",
    "print(\"set: 순서 없음 중복제거하는데 사용하고 다른 활용엔 list 변환 필요 { } 사용 합|, 교&, 차-\")\n",
    "print(\"dictionary {키:값} dictionary[key] 로 값을 호출한다.\")\n",
    "print(\"위를 collections 모듈로 효율적으로 사용\")"
   ],
   "outputs": [
    {
     "name": "stdout",
     "output_type": "stream",
     "text": [
      "자료구조 : stack, queue, tuple, set, dictionary\n",
      "stack, queue : push pop 시에 선입후출, 선입선출\n",
      "tuple: 리스트와 같이 순서있음, 변경 불가 상수리스트처럼 사용함 ( ) 사용\n",
      "set: 순서 없음 중복제거하는데 사용하고 다른 활용엔 list 변환 필요 { } 사용 합|, 교&, 차-\n",
      "dictionary {키:값} dictionary[key] 로 값을 호출한다.\n",
      "위를 collections 모듈로 효율적으로 사용\n"
     ]
    }
   ],
   "execution_count": 27
  },
  {
   "metadata": {
    "ExecuteTime": {
     "end_time": "2025-02-13T01:31:47.919273Z",
     "start_time": "2025-02-13T01:31:47.914856Z"
    }
   },
   "cell_type": "code",
   "source": [
    "dictionary_test = {153:\"일오삼\",615:\"육일오\",\"삼구\":39}\n",
    "print(dictionary_test[\"삼구\"])\n",
    "print(\"아래의 셋은 keys,value,items 내장함수로 각각의 값을 리스트로 출력함\")\n",
    "print(dictionary_test.keys())\n",
    "print(dictionary_test.values())\n",
    "print(dictionary_test.items())\n",
    "print(\"for 문에서 items 를 사용해 할당시켜 출력 가능\")\n",
    "for k,v in dictionary_test.items():\n",
    "    print(k,v)\n",
    "print(\"찾는것 in keys,values,items (기본값은 keys )해서 true,false 반환\")\n",
    "print(153 in dictionary_test)\n",
    "print(153 in dictionary_test.values())"
   ],
   "id": "331aea6857729448",
   "outputs": [
    {
     "name": "stdout",
     "output_type": "stream",
     "text": [
      "39\n",
      "아래의 셋은 keys,value,items 내장함수로 각각의 값을 리스트로 출력함\n",
      "dict_keys([153, 615, '삼구'])\n",
      "dict_values(['일오삼', '육일오', 39])\n",
      "dict_items([(153, '일오삼'), (615, '육일오'), ('삼구', 39)])\n",
      "for 문에서 items 를 사용해 할당시켜 출력 가능\n",
      "153 일오삼\n",
      "615 육일오\n",
      "삼구 39\n",
      "찾는것 in keys,values,items (기본값은 keys )해서 true,false 반환\n",
      "True\n",
      "False\n"
     ]
    }
   ],
   "execution_count": 24
  },
  {
   "metadata": {
    "ExecuteTime": {
     "end_time": "2025-02-13T01:44:56.277152Z",
     "start_time": "2025-02-13T01:44:56.271865Z"
    }
   },
   "cell_type": "code",
   "source": [
    "from collections import deque\n",
    "\n",
    "print(\"collections deque,OrderedDict,defaultdict,Counter,namedtuple\")\n",
    "print(\"deque는 스택,큐 모두 지원함 append로 저장하고 pop 하면 stack 처럼 선입후출\")\n",
    "print(\"그렇다면 queue 는? pop 으로 구분하지 않고 appendleft로 구분한다.\")\n",
    "print(\"즉 언제나 오른쪽에서 빠지지만 왼쪽에서 넣는다면 선입선출을 구현할 수 있다.\")\n",
    "print(\"또 중요한 장점으로 연결리스트라 값이 다음의 주소값과 연결되어 rotate() 가 가능, 값을 실제로 옮기지 않더라도 인덱스 를 하나씩 밀어낼 수 있음\")\n",
    "deque_list = deque()\n",
    "for i in range(10):\n",
    "    deque_list.append(i)\n",
    "print(f\"{deque_list} 을 3번 밀면\")\n",
    "deque_list.rotate(3)\n",
    "print(f\"{deque_list} 왼쪽에서 오른쪽으로 3개 밀린다.\")"
   ],
   "id": "bb32bea3d17e1090",
   "outputs": [
    {
     "name": "stdout",
     "output_type": "stream",
     "text": [
      "collections deque,OrderedDict,defaultdict,Counter,namedtuple\n",
      "deque는 스택,큐 모두 지원함 append로 저장하고 pop 하면 stack 처럼 선입후출\n",
      "그렇다면 queue 는? pop 으로 구분하지 않고 appendleft로 구분한다.\n",
      "즉 언제나 오른쪽에서 빠지지만 왼쪽에서 넣는다면 선입선출을 구현할 수 있다.\n",
      "또 중요한 장점으로 연결리스트라 값이 다음의 주소값과 연결되어 rotate() 가 가능, 값을 실제로 옮기지 않더라도 인덱스 를 하나씩 밀어낼 수 있음\n",
      "deque([0, 1, 2, 3, 4, 5, 6, 7, 8, 9]) 을 3번 밀면\n",
      "deque([7, 8, 9, 0, 1, 2, 3, 4, 5, 6]) 왼쪽에서 오른쪽으로 3개 밀린다.\n"
     ]
    }
   ],
   "execution_count": 30
  },
  {
   "metadata": {
    "ExecuteTime": {
     "end_time": "2025-02-13T02:08:26.143278Z",
     "start_time": "2025-02-13T02:08:26.136062Z"
    }
   },
   "cell_type": "code",
   "source": [
    "from collections import OrderedDict\n",
    "from collections import defaultdict\n",
    "print(\"OrderedDict는 순서가 있는 딕셔너리 sort 가능, sorted(d.items(), key=itemgetter(1))\")\n",
    "d = OrderedDict()\n",
    "d['c'] = 2\n",
    "d['b'] = 1\n",
    "d['a'] = 3\n",
    "d['e'] = 4\n",
    "d['d'] = 5\n",
    "print(d)\n",
    "def sort_by_key(t):\n",
    "    return t[0]\n",
    "def sort_by_value(t):\n",
    "    return t[1]\n",
    "for k,v in OrderedDict(sorted(d.items(),key=sort_by_key)).items():\n",
    "    print(k,v)\n",
    "print(\"\\n defaultdict 는 딕셔너리를 생성할 때 기본 값을 지정\")\n",
    "defaultDictionary = defaultdict(lambda:1)\n",
    "defaultDictionary['a']\n",
    "defaultDictionary['b']\n",
    "defaultDictionary['c']\n",
    "print(defaultDictionary)\n",
    "print(\"아무것도 안쓰고 선언만 해도 값에 1이 들어간다.\")\n",
    "\n",
    "listDefaultDict = defaultdict(list)\n",
    "print(\"defaultdict 에는 리스트를 기본값으로 잡을 수 있다.\")\n",
    "exlist = [('a',2),('a',3),('b',4),('c',5),('d',6),('c',7)]\n",
    "# 여기서 k,v 는 파라미터임 아무 의미 없는 char tuple 의 첫번째와 두번째를 받아 쓰겠다는 것\n",
    "for k,v in exlist:\n",
    "    listDefaultDict[k].append(v)\n",
    "print(listDefaultDict.items())"
   ],
   "id": "60d18fa027e2b83",
   "outputs": [
    {
     "name": "stdout",
     "output_type": "stream",
     "text": [
      "OrderedDict는 순서가 있는 딕셔너리 sort 가능, sorted(d.items(), key=itemgetter(1))\n",
      "OrderedDict({'c': 2, 'b': 1, 'a': 3, 'e': 4, 'd': 5})\n",
      "a 3\n",
      "b 1\n",
      "c 2\n",
      "d 5\n",
      "e 4\n",
      "\n",
      " defaultdict 는 딕셔너리를 생성할 때 기본 값을 지정\n",
      "defaultdict(<function <lambda> at 0x000002D8F587E980>, {'a': 1, 'b': 1, 'c': 1})\n",
      "아무것도 안쓰고 선언만 해도 값에 1이 들어간다.\n",
      "defaultdict 에는 리스트를 기본값으로 잡을 수 있다.\n",
      "dict_items([('a', [2, 3]), ('b', [4]), ('c', [5, 7]), ('d', [6])])\n"
     ]
    }
   ],
   "execution_count": 71
  },
  {
   "metadata": {
    "ExecuteTime": {
     "end_time": "2025-02-13T02:17:03.686790Z",
     "start_time": "2025-02-13T02:17:03.682734Z"
    }
   },
   "cell_type": "code",
   "source": [
    "from collections import Counter\n",
    "exlist2 = [1,1,2,2,2,2,3,3,3,3,3,3,4,4,4,4]\n",
    "print(\"counter 는 시퀀스 자료형의 데이터 요소 개수를 딕셔너리로 반환\")\n",
    "print(Counter(\"pneumonoultramicroscopicsilicovolcanoconiosis\"))\n",
    "print(Counter(\"pneumonoultramicroscopicsilicovolcanoconiosis\")['e'])\n",
    "print(Counter(exlist2))\n",
    "print(\"즉 카운터는 리스트나 문자열안의 무엇이든 \\'개수\\'를 세서 {그 무엇:개수,...} 의 딕셔너리를 반환\")"
   ],
   "id": "20834eabb20e1f98",
   "outputs": [
    {
     "name": "stdout",
     "output_type": "stream",
     "text": [
      "counter 는 시퀀스 자료형의 데이터 요소 개수를 딕셔너리로 반환\n",
      "Counter({'o': 9, 'i': 6, 'c': 6, 'n': 4, 's': 4, 'l': 3, 'p': 2, 'u': 2, 'm': 2, 'r': 2, 'a': 2, 'e': 1, 't': 1, 'v': 1})\n",
      "1\n",
      "Counter({3: 6, 2: 4, 4: 4, 1: 2})\n",
      "즉 카운터는 리스트나 문자열안의 무엇이든 '개수'를 세서 {그 무엇:개수,...} 의 딕셔너리를 반환\n"
     ]
    }
   ],
   "execution_count": 79
  },
  {
   "metadata": {
    "ExecuteTime": {
     "end_time": "2025-02-13T03:23:12.594997Z",
     "start_time": "2025-02-13T03:23:09.878802Z"
    }
   },
   "cell_type": "code",
   "source": [
    "test_tuple = (1,2,3,4,5)\n",
    "print(test_tuple[2])\n",
    "input_num = int(input())\n",
    "print(input_num in test_tuple)"
   ],
   "id": "765743b8ba303a76",
   "outputs": [
    {
     "name": "stdout",
     "output_type": "stream",
     "text": [
      "3\n",
      "True\n"
     ]
    }
   ],
   "execution_count": 106
  },
  {
   "metadata": {
    "ExecuteTime": {
     "end_time": "2025-02-13T06:29:48.542284Z",
     "start_time": "2025-02-13T06:29:41.018717Z"
    }
   },
   "cell_type": "code",
   "outputs": [],
   "execution_count": 158,
   "source": [
    "# 기본 실습 1: 리스트 활용 추가,삭제,수정,조회,검색\n",
    "input_list = []\n",
    "input_string = \"\"\n",
    "while input_string != \"6\":\n",
    "    input_string = input(\"1.추가 2.검색 3.수정 4.삭제 5.조회 6.종료\")\n",
    "    if input_string==\"1\":\n",
    "        while input_string != \"exit\":\n",
    "            input_string = input(\"리스트에 추가할 값을 입력해주세요\")\n",
    "            if input_string==\"exit\":\n",
    "                continue\n",
    "            input_list.append(input_string)\n",
    "    elif input_string==\"2\":\n",
    "        input_num = int(input(\"검색할 번호를 입력해주세요\"))\n",
    "        if input_list[input_num] is not None:\n",
    "            print(input_list[int(input_num)])\n",
    "    elif input_string==\"3\":\n",
    "        input_num = int(input(\"수정할 번호를 입력해주세요\"))\n",
    "        input_string = input(\"수정할 값을 입력해주세요\")\n",
    "        input_list[input_num] = input_string\n",
    "    elif input_string==\"4\":\n",
    "        input_num = int(input(\"삭제할 번호를 입력해주세요\"))\n",
    "        del input_list[input_num]\n",
    "    elif input_string==\"5\":\n",
    "        print(input_list)"
   ],
   "id": "b83ae76d22033f54"
  },
  {
   "metadata": {
    "ExecuteTime": {
     "end_time": "2025-02-13T03:27:11.343318Z",
     "start_time": "2025-02-13T03:27:09.877423Z"
    }
   },
   "cell_type": "code",
   "source": [
    "test_set = {1,2,3,4,5}\n",
    "print(test_set)\n",
    "test_set.remove(1)\n",
    "print(test_set)\n",
    "input_num = int(input())\n",
    "print(input_num in test_set)"
   ],
   "id": "63edb4d92bb577c9",
   "outputs": [
    {
     "name": "stdout",
     "output_type": "stream",
     "text": [
      "{1, 2, 3, 4, 5}\n",
      "{2, 3, 4, 5}\n",
      "False\n"
     ]
    }
   ],
   "execution_count": 111
  },
  {
   "metadata": {
    "ExecuteTime": {
     "end_time": "2025-02-13T03:39:53.554747Z",
     "start_time": "2025-02-13T03:39:53.549252Z"
    }
   },
   "cell_type": "code",
   "source": [
    "test_dict = {64:'a',65:'b',66:'g',67:'d',68:'e'}\n",
    "print(test_dict)\n",
    "print(\"추가\")\n",
    "test_dict[69] = 'f'\n",
    "print(test_dict)\n",
    "print(\"수정\")\n",
    "test_dict[66] = 'c'\n",
    "print(test_dict)\n",
    "print(\"키 검색\")\n",
    "print([v for k,v in test_dict.items() if k == 64])\n",
    "print(\"값 검색\")\n",
    "print([k for k,v in test_dict.items() if v == 'c'])\n",
    "print(\"삭제\")\n",
    "del test_dict[69]\n",
    "print(test_dict)\n",
    "print(\"조회\")\n",
    "print(test_dict.items())\n"
   ],
   "id": "7ad2b5353356818d",
   "outputs": [
    {
     "name": "stdout",
     "output_type": "stream",
     "text": [
      "{64: 'a', 65: 'b', 66: 'g', 67: 'd', 68: 'e'}\n",
      "추가\n",
      "{64: 'a', 65: 'b', 66: 'g', 67: 'd', 68: 'e', 69: 'f'}\n",
      "수정\n",
      "{64: 'a', 65: 'b', 66: 'c', 67: 'd', 68: 'e', 69: 'f'}\n",
      "키 검색\n",
      "['a']\n",
      "값 검색\n",
      "[66]\n",
      "삭제\n",
      "{64: 'a', 65: 'b', 66: 'c', 67: 'd', 68: 'e'}\n",
      "조회\n",
      "dict_items([(64, 'a'), (65, 'b'), (66, 'c'), (67, 'd'), (68, 'e')])\n"
     ]
    }
   ],
   "execution_count": 124
  },
  {
   "metadata": {
    "ExecuteTime": {
     "end_time": "2025-02-13T05:22:51.667142Z",
     "start_time": "2025-02-13T05:22:51.662154Z"
    }
   },
   "cell_type": "code",
   "source": [
    "# 자주 사용하는 내장 함수 tuple\n",
    "test_tuple = (1,2,3,4,5)\n",
    "len(test_tuple)\n",
    "sum(test_tuple)\n",
    "max(test_tuple)\n",
    "min(test_tuple)\n",
    "test_tuple.count(1)\n",
    "test_tuple.index(2)\n",
    "print(test_tuple)"
   ],
   "id": "64aa5f5f229b7eb9",
   "outputs": [
    {
     "data": {
      "text/plain": [
       "1"
      ]
     },
     "execution_count": 126,
     "metadata": {},
     "output_type": "execute_result"
    }
   ],
   "execution_count": 126
  },
  {
   "metadata": {
    "ExecuteTime": {
     "end_time": "2025-02-13T06:26:03.617147Z",
     "start_time": "2025-02-13T06:26:03.612101Z"
    }
   },
   "cell_type": "code",
   "source": [
    "# 자주 사용하는 내장 함수 set\n",
    "test_set = {1,2,3,4,5}\n",
    "test_set2 = {3,4,5,6,7}\n",
    "len(test_set)\n",
    "test_set.add(6)\n",
    "# 에러 있고 없고 차이\n",
    "test_set.remove(6)\n",
    "test_set.discard(6)\n",
    "test_set.union(test_set2)\n",
    "print(test_set & test_set2)\n",
    "test_set.intersection(test_set2)\n",
    "print(test_set | test_set2)\n",
    "test_set.difference(test_set2)\n",
    "print(test_set - test_set2)\n",
    "test_set.clear()\n",
    "print(test_set)"
   ],
   "id": "5aae8b31fcd9aa1f",
   "outputs": [
    {
     "name": "stdout",
     "output_type": "stream",
     "text": [
      "{3, 4, 5}\n",
      "{1, 2, 3, 4, 5, 6, 7}\n",
      "{1, 2}\n",
      "set()\n"
     ]
    }
   ],
   "execution_count": 153
  },
  {
   "metadata": {},
   "cell_type": "code",
   "outputs": [],
   "execution_count": null,
   "source": [
    "# 자주 사용하는 내장 함수 dictionary\n",
    "test_dict = {'a':1,'b':2,'c':3}\n",
    "len(test_dict)\n",
    "test_dict.keys()\n",
    "test_dict.values()\n",
    "test_dict.items()\n",
    "test_dict.get('a') #키\n",
    "test_dict.pop('a')\n",
    "test_dict.update({'c':4})\n",
    "test_dict.clear()\n",
    "print(test_dict)"
   ],
   "id": "73d592ef9e310ce2"
  },
  {
   "metadata": {
    "ExecuteTime": {
     "end_time": "2025-02-13T06:25:52.134387Z",
     "start_time": "2025-02-13T06:25:52.128612Z"
    }
   },
   "cell_type": "code",
   "source": [
    "# 자주 사용하는 내장 함수 list\n",
    "test_list = ['a','b','c']\n",
    "len(test_list)\n",
    "test_list.append('d')\n",
    "test_list.extend(['c','e','f','g'])\n",
    "test_list.insert(1,'a-1')\n",
    "test_list.remove('f')\n",
    "test_list.pop()\n",
    "test_list.reverse()\n",
    "test_list.count('c')\n",
    "test_list.index('c') # 특정 값을 찾아 첫번째 인덱스를 반환\n",
    "print(test_list)"
   ],
   "id": "cf4538f6ff68210",
   "outputs": [
    {
     "name": "stdout",
     "output_type": "stream",
     "text": [
      "['e', 'c', 'd', 'c', 'b', 'a-1', 'a']\n"
     ]
    }
   ],
   "execution_count": 151
  }
 ],
 "metadata": {
  "kernelspec": {
   "display_name": "Python 3",
   "language": "python",
   "name": "python3"
  },
  "language_info": {
   "codemirror_mode": {
    "name": "ipython",
    "version": 2
   },
   "file_extension": ".py",
   "mimetype": "text/x-python",
   "name": "python",
   "nbconvert_exporter": "python",
   "pygments_lexer": "ipython2",
   "version": "2.7.6"
  }
 },
 "nbformat": 4,
 "nbformat_minor": 5
}
