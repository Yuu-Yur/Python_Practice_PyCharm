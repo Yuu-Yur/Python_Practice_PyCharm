{
 "cells": [
  {
   "cell_type": "code",
   "id": "initial_id",
   "metadata": {
    "collapsed": true,
    "ExecuteTime": {
     "end_time": "2025-02-12T04:55:42.091066Z",
     "start_time": "2025-02-12T04:55:39.763209Z"
    }
   },
   "source": [
    "from os.path import split\n",
    "\n",
    "# 문제 1 숫자를 입력받아 홀수,짝수 반환\n",
    "inputedNumber = int(input(\"Enter a number: \"))\n",
    "if inputedNumber%2 == 0:\n",
    "    print(f\"{inputedNumber}는 짝수\")\n",
    "else:\n",
    "    print(f\"{inputedNumber}는 홀수\")"
   ],
   "outputs": [
    {
     "name": "stdout",
     "output_type": "stream",
     "text": [
      "3는 홀수\n"
     ]
    }
   ],
   "execution_count": 2
  },
  {
   "metadata": {
    "ExecuteTime": {
     "end_time": "2025-02-12T04:58:29.741301Z",
     "start_time": "2025-02-12T04:58:26.261907Z"
    }
   },
   "cell_type": "code",
   "source": [
    "# 문제 2 1부터 입력받은 숫자까지의 합\n",
    "inputedNumber = int(input(\"Enter a number: \"))\n",
    "sum = 0\n",
    "for i in range(inputedNumber+1):\n",
    "    sum += i\n",
    "print(sum)"
   ],
   "id": "5d65a08ff3a1b1e0",
   "outputs": [
    {
     "name": "stdout",
     "output_type": "stream",
     "text": [
      "154290\n"
     ]
    }
   ],
   "execution_count": 8
  },
  {
   "metadata": {
    "ExecuteTime": {
     "end_time": "2025-02-12T06:23:50.556204Z",
     "start_time": "2025-02-12T06:23:46.594886Z"
    }
   },
   "cell_type": "code",
   "source": [
    "# 문제 3 리스트에서 최댓값 찾기\n",
    "inputedNumber = input(\"Enter numbers with space: \")\n",
    "numbers = inputedNumber.split()\n",
    "int_numbers = list(map(int, numbers))\n",
    "# maxNum = sorted(int_numbers, reverse=True)[0]\n",
    "maxNum = max(int_numbers)\n",
    "print(maxNum)\n"
   ],
   "id": "75264488182c6645",
   "outputs": [
    {
     "name": "stdout",
     "output_type": "stream",
     "text": [
      "6\n"
     ]
    }
   ],
   "execution_count": 35
  },
  {
   "metadata": {
    "ExecuteTime": {
     "end_time": "2025-02-12T05:16:36.307590Z",
     "start_time": "2025-02-12T05:16:33.136165Z"
    }
   },
   "cell_type": "code",
   "source": [
    "# 문제 4 특정 문자의 개수 세기\n",
    "inputedString = input(\"Enter a string: \")\n",
    "inputedChar= input(\"Enter a character: \")\n",
    "print(inputedString.count(inputedChar))"
   ],
   "id": "97eca6a9018e3927",
   "outputs": [
    {
     "name": "stdout",
     "output_type": "stream",
     "text": [
      "3\n"
     ]
    }
   ],
   "execution_count": 23
  },
  {
   "metadata": {
    "ExecuteTime": {
     "end_time": "2025-02-12T05:20:15.971730Z",
     "start_time": "2025-02-12T05:20:10.646178Z"
    }
   },
   "cell_type": "code",
   "source": [
    "# 문제 5 리스트에서 중복 제거 후 정렬\n",
    "inputedNumber = input(\"Enter numbers with space: \")\n",
    "numbers = set(inputedNumber.split())\n",
    "int_numbers = list(map(int, numbers))\n",
    "print(int_numbers)"
   ],
   "id": "5e21fe9cc6dd2f3a",
   "outputs": [
    {
     "name": "stdout",
     "output_type": "stream",
     "text": [
      "[1, 3, 4, 2, 5]\n"
     ]
    }
   ],
   "execution_count": 28
  },
  {
   "metadata": {
    "ExecuteTime": {
     "end_time": "2025-02-12T05:29:13.876094Z",
     "start_time": "2025-02-12T05:29:11.390241Z"
    }
   },
   "cell_type": "code",
   "source": [
    "# 문제 6 구구단 출력 (특정 범위)\n",
    "inputedNumber = input(\"Enter two number with space: \")\n",
    "numbers = set(inputedNumber.split())\n",
    "int_numbers = sorted(list(map(int, numbers)))\n",
    "if len(int_numbers) == 2:\n",
    "    print(\"구구단 출력\")\n",
    "    for num in range(int_numbers[0],int_numbers[1]+1):\n",
    "        print(f\"{num}단\")\n",
    "        for i in range(1,10):\n",
    "            print(f\"{num} * {i} = {num * i}\")"
   ],
   "id": "733f9a626322f75",
   "outputs": [
    {
     "name": "stdout",
     "output_type": "stream",
     "text": [
      "구구단 출력\n",
      "3단\n",
      "3 * 1 = 3\n",
      "3 * 2 = 6\n",
      "3 * 3 = 9\n",
      "3 * 4 = 12\n",
      "3 * 5 = 15\n",
      "3 * 6 = 18\n",
      "3 * 7 = 21\n",
      "3 * 8 = 24\n",
      "3 * 9 = 27\n",
      "4단\n",
      "4 * 1 = 4\n",
      "4 * 2 = 8\n",
      "4 * 3 = 12\n",
      "4 * 4 = 16\n",
      "4 * 5 = 20\n",
      "4 * 6 = 24\n",
      "4 * 7 = 28\n",
      "4 * 8 = 32\n",
      "4 * 9 = 36\n",
      "5단\n",
      "5 * 1 = 5\n",
      "5 * 2 = 10\n",
      "5 * 3 = 15\n",
      "5 * 4 = 20\n",
      "5 * 5 = 25\n",
      "5 * 6 = 30\n",
      "5 * 7 = 35\n",
      "5 * 8 = 40\n",
      "5 * 9 = 45\n",
      "6단\n",
      "6 * 1 = 6\n",
      "6 * 2 = 12\n",
      "6 * 3 = 18\n",
      "6 * 4 = 24\n",
      "6 * 5 = 30\n",
      "6 * 6 = 36\n",
      "6 * 7 = 42\n",
      "6 * 8 = 48\n",
      "6 * 9 = 54\n",
      "7단\n",
      "7 * 1 = 7\n",
      "7 * 2 = 14\n",
      "7 * 3 = 21\n",
      "7 * 4 = 28\n",
      "7 * 5 = 35\n",
      "7 * 6 = 42\n",
      "7 * 7 = 49\n",
      "7 * 8 = 56\n",
      "7 * 9 = 63\n"
     ]
    }
   ],
   "execution_count": 34
  }
 ],
 "metadata": {
  "kernelspec": {
   "display_name": "Python 3",
   "language": "python",
   "name": "python3"
  },
  "language_info": {
   "codemirror_mode": {
    "name": "ipython",
    "version": 2
   },
   "file_extension": ".py",
   "mimetype": "text/x-python",
   "name": "python",
   "nbconvert_exporter": "python",
   "pygments_lexer": "ipython2",
   "version": "2.7.6"
  }
 },
 "nbformat": 4,
 "nbformat_minor": 5
}
